{
 "cells": [
  {
   "cell_type": "markdown",
   "metadata": {},
   "source": [
    "1. Python exercise\n",
    "2. MNIST Data exercise  \n",
    "\n",
    "    by - Akshay Tiwari"
   ]
  },
  {
   "cell_type": "markdown",
   "metadata": {
    "heading_collapsed": true
   },
   "source": [
    "## Exercise 1 : python exercise"
   ]
  },
  {
   "cell_type": "code",
   "execution_count": 47,
   "metadata": {
    "collapsed": true,
    "hidden": true
   },
   "outputs": [],
   "source": [
    "import itertools"
   ]
  },
  {
   "cell_type": "markdown",
   "metadata": {
    "hidden": true
   },
   "source": [
    "Input: [1, 2, 3, 4] , Output: \"4321\"\n",
    "Input: [9, 5, 30, 3, 34] , Output: \"9534330\"\n",
    "Input: [0, 55, 50] , Output: \"55500\""
   ]
  },
  {
   "cell_type": "code",
   "execution_count": 48,
   "metadata": {
    "collapsed": true,
    "hidden": true
   },
   "outputs": [],
   "source": [
    "import itertools\n",
    "\n",
    "def largest_number(input_list):\n",
    "    \"\"\"\n",
    "    Arguments :\n",
    "        - input_list : list of input numbers\n",
    "    Returns :\n",
    "        - joined list in a string format\n",
    "    \"\"\" \n",
    "    changed = [[str(a) for a in ele] for ele in itertools.permutations(input_list)]\n",
    "\n",
    "    return max([''.join(a) for a in changed])"
   ]
  },
  {
   "cell_type": "code",
   "execution_count": 49,
   "metadata": {
    "hidden": true
   },
   "outputs": [
    {
     "data": {
      "text/plain": [
       "'55500'"
      ]
     },
     "execution_count": 49,
     "metadata": {},
     "output_type": "execute_result"
    }
   ],
   "source": [
    "input_list = [0, 55, 50]\n",
    "largest_number(input_list)"
   ]
  },
  {
   "cell_type": "code",
   "execution_count": 50,
   "metadata": {
    "hidden": true
   },
   "outputs": [
    {
     "data": {
      "text/plain": [
       "'4321'"
      ]
     },
     "execution_count": 50,
     "metadata": {},
     "output_type": "execute_result"
    }
   ],
   "source": [
    "input_list = [1, 2, 3, 4]\n",
    "largest_number(input_list)"
   ]
  },
  {
   "cell_type": "code",
   "execution_count": 51,
   "metadata": {
    "hidden": true
   },
   "outputs": [
    {
     "data": {
      "text/plain": [
       "'9534330'"
      ]
     },
     "execution_count": 51,
     "metadata": {},
     "output_type": "execute_result"
    }
   ],
   "source": [
    "input_list = [9, 5, 30, 3, 34]\n",
    "largest_number(input_list)"
   ]
  },
  {
   "cell_type": "code",
   "execution_count": null,
   "metadata": {
    "collapsed": true,
    "hidden": true
   },
   "outputs": [],
   "source": []
  },
  {
   "cell_type": "markdown",
   "metadata": {},
   "source": [
    "## Exercise 2 - Handwritten digit classification"
   ]
  },
  {
   "cell_type": "code",
   "execution_count": 2,
   "metadata": {
    "collapsed": true
   },
   "outputs": [],
   "source": [
    "import sys\n",
    "import numpy as np\n",
    "import pandas as pd\n",
    "\n",
    "import pickle \n",
    "import gzip\n",
    "\n",
    "import matplotlib.pyplot as plt"
   ]
  },
  {
   "cell_type": "markdown",
   "metadata": {
    "heading_collapsed": true
   },
   "source": [
    "### Printing sample"
   ]
  },
  {
   "cell_type": "code",
   "execution_count": 3,
   "metadata": {
    "collapsed": true,
    "hidden": true
   },
   "outputs": [],
   "source": [
    "# -*- coding: utf-8 -*-\n",
    "\n",
    "def _float_to_block(d):\n",
    "    keys = [0.2, 0.4, 0.6, 0.8, 1]\n",
    "    mapping = {0.2: \" \", 0.4: \"░\", 0.6: \"▒\", 0.8: \"▓\", 1: \"█\"} \n",
    "    for key in keys:\n",
    "        if d <= key:\n",
    "            return mapping[key]"
   ]
  },
  {
   "cell_type": "code",
   "execution_count": 4,
   "metadata": {
    "collapsed": true,
    "hidden": true
   },
   "outputs": [],
   "source": [
    "def console_print(digit):\n",
    "    \"\"\"\n",
    "    prints a digit using UTF-8 characters \n",
    "    digit: a numpy 2D array of shape (28,28)\n",
    "    \"\"\"\n",
    "    for row in digit:\n",
    "        line = \"\"\n",
    "        for cell in row:\n",
    "            line = line + _float_to_block(cell)\n",
    "        print (line)"
   ]
  },
  {
   "cell_type": "markdown",
   "metadata": {
    "heading_collapsed": true
   },
   "source": [
    "### Loading data"
   ]
  },
  {
   "cell_type": "code",
   "execution_count": 5,
   "metadata": {
    "collapsed": true,
    "hidden": true
   },
   "outputs": [],
   "source": [
    "with gzip.open(\"./ericsson-mnist-assignment.pkl.gz\", \"rb\") as f:\n",
    "    data, labels = pickle.load(f, encoding=\"latin1\") \n",
    "    f.close()"
   ]
  },
  {
   "cell_type": "code",
   "execution_count": 6,
   "metadata": {
    "hidden": true
   },
   "outputs": [
    {
     "name": "stdout",
     "output_type": "stream",
     "text": [
      "Shape of the Data :  (30000, 28, 28) \n",
      "Shape of the Labels :  (30000,)\n"
     ]
    }
   ],
   "source": [
    "print ('Shape of the Data : ', data.shape, '\\nShape of the Labels : ', labels.shape)"
   ]
  },
  {
   "cell_type": "code",
   "execution_count": 7,
   "metadata": {
    "hidden": true
   },
   "outputs": [
    {
     "name": "stdout",
     "output_type": "stream",
     "text": [
      "Training Set examples :\n",
      "                            \n",
      "                            \n",
      "                            \n",
      "                            \n",
      "                            \n",
      "                            \n",
      "                            \n",
      "          ▒██▒▒░            \n",
      "        ▒███████▓           \n",
      "       ████▓▓▓▓██   ░       \n",
      "      ███▓░     ▒ ░▓██      \n",
      "     ▒██▓        ░████      \n",
      "     ███░      ░▒████▒      \n",
      "     ██▓      ▓███▓██░      \n",
      "     ███░   ▓████▒░██░      \n",
      "     ▒█████████▓░ ▓██░      \n",
      "      ▓██████▒░   ▓██       \n",
      "          ▒       ▓██       \n",
      "                  ▓██       \n",
      "                  ▓██       \n",
      "                  ▓██       \n",
      "                  ▓██       \n",
      "                  ▓██░      \n",
      "                  ▒██▓      \n",
      "                  ░███      \n",
      "                   ▒██      \n",
      "                    █▓      \n",
      "                            \n",
      "                            \n",
      "                            \n",
      "                            \n",
      "                            \n",
      "               ▓█           \n",
      "              ░██▒          \n",
      "              ░██░          \n",
      "              ▓██           \n",
      "              ▓██           \n",
      "              ▓██           \n",
      "             ░██▓           \n",
      "             ▓██▒           \n",
      "            ░███            \n",
      "            ░██▓            \n",
      "            ▓██▓            \n",
      "            ▓██░            \n",
      "            ██▓             \n",
      "           ░██▒             \n",
      "           ▓██░             \n",
      "           ▓██░             \n",
      "           ██▓              \n",
      "          ░███░             \n",
      "          ▓██▓              \n",
      "           ██               \n",
      "                            \n",
      "                            \n",
      "                            \n",
      "                            \n"
     ]
    }
   ],
   "source": [
    "print ('Training Set examples :')\n",
    "for i in range(0,2):\n",
    "    console_print(data[i])"
   ]
  },
  {
   "cell_type": "markdown",
   "metadata": {
    "heading_collapsed": true
   },
   "source": [
    "### checking for nulls"
   ]
  },
  {
   "cell_type": "code",
   "execution_count": 8,
   "metadata": {
    "hidden": true,
    "scrolled": true
   },
   "outputs": [
    {
     "name": "stdout",
     "output_type": "stream",
     "text": [
      "Number of null in the set :  0\n"
     ]
    }
   ],
   "source": [
    "print ('Number of null in the set : ', np.sum(np.isnan(data)))"
   ]
  },
  {
   "cell_type": "markdown",
   "metadata": {
    "heading_collapsed": true
   },
   "source": [
    "### Checking response class balance"
   ]
  },
  {
   "cell_type": "code",
   "execution_count": 67,
   "metadata": {
    "hidden": true
   },
   "outputs": [
    {
     "name": "stdout",
     "output_type": "stream",
     "text": [
      "1    0.119300\n",
      "7    0.113033\n",
      "3    0.108067\n",
      "2    0.107433\n",
      "0    0.106667\n",
      "6    0.105200\n",
      "9    0.102967\n",
      "4    0.102767\n",
      "5    0.098433\n",
      "8    0.036133\n",
      "dtype: float64\n"
     ]
    }
   ],
   "source": [
    "valueCounts = pd.Series(labels).value_counts() / len(labels)\n",
    "print (valueCounts)"
   ]
  },
  {
   "cell_type": "code",
   "execution_count": 69,
   "metadata": {
    "hidden": true
   },
   "outputs": [
    {
     "data": {
      "text/plain": [
       "<matplotlib.axes._subplots.AxesSubplot at 0x11e489550>"
      ]
     },
     "execution_count": 69,
     "metadata": {},
     "output_type": "execute_result"
    },
    {
     "data": {
      "image/png": "[encoded data removed]",
      "text/plain": [
       "<Figure size 432x288 with 1 Axes>"
      ]
     },
     "metadata": {},
     "output_type": "display_data"
    }
   ],
   "source": [
    "valueCounts.plot.barh()"
   ]
  },
  {
   "cell_type": "markdown",
   "metadata": {
    "hidden": true
   },
   "source": [
    "- We notice that our classes are balanced in the training data, except label 8 which is just 3% of the data"
   ]
  },
  {
   "cell_type": "markdown",
   "metadata": {
    "heading_collapsed": true
   },
   "source": [
    "### preparing the data for training "
   ]
  },
  {
   "cell_type": "code",
   "execution_count": 10,
   "metadata": {
    "hidden": true
   },
   "outputs": [
    {
     "name": "stdout",
     "output_type": "stream",
     "text": [
      "Dimension of each image after flattening :  (784,)\n",
      "Shape of the training set :  (30000, 784)\n"
     ]
    }
   ],
   "source": [
    "print ('Dimension of each image after flattening : ', (data[0].flatten()).shape)\n",
    "\n",
    "X = np.array([a.flatten() for a in data])\n",
    "print ('Shape of the training set : ', X.shape)"
   ]
  },
  {
   "cell_type": "markdown",
   "metadata": {
    "heading_collapsed": true
   },
   "source": [
    "### Splitting into train and test"
   ]
  },
  {
   "cell_type": "code",
   "execution_count": 11,
   "metadata": {
    "collapsed": true,
    "hidden": true
   },
   "outputs": [],
   "source": [
    "from sklearn.model_selection import train_test_split"
   ]
  },
  {
   "cell_type": "code",
   "execution_count": 12,
   "metadata": {
    "collapsed": true,
    "hidden": true
   },
   "outputs": [],
   "source": [
    "x_train, x_test, y_train, y_test = train_test_split(X, labels, test_size=0.2, random_state=3)"
   ]
  },
  {
   "cell_type": "code",
   "execution_count": 52,
   "metadata": {
    "hidden": true
   },
   "outputs": [
    {
     "data": {
      "text/plain": [
       "1    0.121458\n",
       "7    0.112000\n",
       "2    0.107083\n",
       "3    0.106750\n",
       "0    0.105750\n",
       "6    0.105000\n",
       "9    0.103875\n",
       "4    0.102333\n",
       "5    0.099417\n",
       "8    0.036333\n",
       "dtype: float64"
      ]
     },
     "execution_count": 52,
     "metadata": {},
     "output_type": "execute_result"
    }
   ],
   "source": [
    "pd.Series(y_train).value_counts() / len(y_train)"
   ]
  },
  {
   "cell_type": "markdown",
   "metadata": {
    "hidden": true
   },
   "source": [
    "- Train/Test class split seems balanced proportionate to original dataset"
   ]
  },
  {
   "cell_type": "markdown",
   "metadata": {
    "heading_collapsed": true
   },
   "source": [
    "### Model (Logistic Regression) fitting (entire dataset)"
   ]
  },
  {
   "cell_type": "code",
   "execution_count": 13,
   "metadata": {
    "collapsed": true,
    "hidden": true
   },
   "outputs": [],
   "source": [
    "from sklearn.linear_model import LogisticRegression"
   ]
  },
  {
   "cell_type": "code",
   "execution_count": 14,
   "metadata": {
    "collapsed": true,
    "hidden": true
   },
   "outputs": [],
   "source": [
    "lr = LogisticRegression()"
   ]
  },
  {
   "cell_type": "code",
   "execution_count": 15,
   "metadata": {
    "hidden": true
   },
   "outputs": [
    {
     "data": {
      "text/plain": [
       "LogisticRegression(C=1.0, class_weight=None, dual=False, fit_intercept=True,\n",
       "          intercept_scaling=1, max_iter=100, multi_class='ovr', n_jobs=1,\n",
       "          penalty='l2', random_state=None, solver='liblinear', tol=0.0001,\n",
       "          verbose=0, warm_start=False)"
      ]
     },
     "execution_count": 15,
     "metadata": {},
     "output_type": "execute_result"
    }
   ],
   "source": [
    "lr.fit(X, labels)"
   ]
  },
  {
   "cell_type": "markdown",
   "metadata": {},
   "source": [
    "### Calculating Accuracy and Logloss"
   ]
  },
  {
   "cell_type": "code",
   "execution_count": 16,
   "metadata": {
    "collapsed": true
   },
   "outputs": [],
   "source": [
    "from sklearn.metrics import log_loss\n",
    "from sklearn.metrics import accuracy_score\n",
    "from sklearn.metrics import confusion_matrix"
   ]
  },
  {
   "cell_type": "code",
   "execution_count": 17,
   "metadata": {
    "collapsed": true
   },
   "outputs": [],
   "source": [
    "def score_res(true_res, pred_res, pred_prob=-1):\n",
    "    if type(pred_prob) != int:\n",
    "        lloss = log_loss(true_res, pred_prob)\n",
    "        print ('Log Loss : {}'.format(lloss))\n",
    "    accuracy = accuracy_score(true_res, pred_res)\n",
    "    print ('Accuracy : {}'.format(accuracy))\n",
    "    print ('\\n Confusion Matrix : \\n', confusion_matrix(true_res, pred_res))"
   ]
  },
  {
   "cell_type": "code",
   "execution_count": 18,
   "metadata": {},
   "outputs": [
    {
     "name": "stdout",
     "output_type": "stream",
     "text": [
      "Log Loss : 0.43136876698830867\n",
      "Accuracy : 0.8641666666666666\n",
      "\n",
      " Confusion Matrix : \n",
      " [[3148    3    6    6    5    8   11    2    8    3]\n",
      " [   4 2528   28   16   19   19    3  860   21   81]\n",
      " [  19   22 2990   28   27   10   33   37   45   12]\n",
      " [  11   13   71 2977    6   74   10   25   26   29]\n",
      " [   5    9   16    5 2919    6   12    8   14   89]\n",
      " [  23   13   14   75   26 2688   53   14   21   26]\n",
      " [  13    9   12    1   10   46 3061    1    3    0]\n",
      " [   9 1193   41   14   32    8    8 1935   18  133]\n",
      " [  13   32   12   47    9   49   12   12  870   28]\n",
      " [  10   27   10   59   88   23    0   54    9 2809]]\n"
     ]
    }
   ],
   "source": [
    "predictions = lr.predict(X)\n",
    "prediction_probs = lr.predict_proba(X)\n",
    "score_res(labels, predictions, prediction_probs)"
   ]
  },
  {
   "cell_type": "markdown",
   "metadata": {},
   "source": [
    "### Interactive confusion matrix using plotly"
   ]
  },
  {
   "cell_type": "code",
   "execution_count": 36,
   "metadata": {
    "collapsed": true
   },
   "outputs": [],
   "source": [
    "import plotly\n",
    "import plotly.graph_objs as go\n",
    "import plotly.figure_factory as ff\n",
    "from plotly.offline import init_notebook_mode, iplot\n",
    "from IPython.display import display, HTML\n",
    "import plotly.graph_objs as go"
   ]
  },
  {
   "cell_type": "code",
   "execution_count": 37,
   "metadata": {},
   "outputs": [
    {
     "data": {
      "text/html": [
       "<script>requirejs.config({paths: { 'plotly': ['https://cdn.plot.ly/plotly-latest.min']},});if(!window.Plotly) {{require(['plotly'],function(plotly) {window.Plotly=plotly;});}}</script>"
      ],
      "text/vnd.plotly.v1+html": [
       "<script>requirejs.config({paths: { 'plotly': ['https://cdn.plot.ly/plotly-latest.min']},});if(!window.Plotly) {{require(['plotly'],function(plotly) {window.Plotly=plotly;});}}</script>"
      ]
     },
     "metadata": {},
     "output_type": "display_data"
    },
    {
     "data": {
      "application/vnd.plotly.v1+json": {
       "data": [
        {
         "colorscale": "Jet",
         "type": "heatmap",
         "x": [
          0,
          1,
          2,
          3,
          4,
          5,
          6,
          7,
          8,
          9
         ],
         "y": [
          0,
          1,
          2,
          3,
          4,
          5,
          6,
          7,
          8,
          9
         ],
         "z": [
          [
           3148,
           3,
           6,
           6,
           5,
           8,
           11,
           2,
           8,
           3
          ],
          [
           4,
           2528,
           28,
           16,
           19,
           19,
           3,
           860,
           21,
           81
          ],
          [
           19,
           22,
           2990,
           28,
           27,
           10,
           33,
           37,
           45,
           12
          ],
          [
           11,
           13,
           71,
           2977,
           6,
           74,
           10,
           25,
           26,
           29
          ],
          [
           5,
           9,
           16,
           5,
           2919,
           6,
           12,
           8,
           14,
           89
          ],
          [
           23,
           13,
           14,
           75,
           26,
           2688,
           53,
           14,
           21,
           26
          ],
          [
           13,
           9,
           12,
           1,
           10,
           46,
           3061,
           1,
           3,
           0
          ],
          [
           9,
           1193,
           41,
           14,
           32,
           8,
           8,
           1935,
           18,
           133
          ],
          [
           13,
           32,
           12,
           47,
           9,
           49,
           12,
           12,
           870,
           28
          ],
          [
           10,
           27,
           10,
           59,
           88,
           23,
           0,
           54,
           9,
           2809
          ]
         ]
        }
       ],
       "layout": {
        "barmode": "overlay",
        "title": "Confusion Matrix",
        "xaxis": {
         "title": "Predicted value",
         "titlefont": {
          "color": "#7f7f7f",
          "family": "Courier New, monospace",
          "size": 18
         }
        },
        "yaxis": {
         "title": "True Value",
         "titlefont": {
          "color": "#7f7f7f",
          "family": "Courier New, monospace",
          "size": 18
         }
        }
       }
      },
      "text/html": [
       "<div id=\"ded07da4-df24-4296-b401-cfef7941a999\" style=\"height: 525px; width: 100%;\" class=\"plotly-graph-div\"></div><script type=\"text/javascript\">require([\"plotly\"], function(Plotly) { window.PLOTLYENV=window.PLOTLYENV || {};window.PLOTLYENV.BASE_URL=\"https://plot.ly\";Plotly.newPlot(\"ded07da4-df24-4296-b401-cfef7941a999\", [{\"type\": \"heatmap\", \"x\": [0, 1, 2, 3, 4, 5, 6, 7, 8, 9], \"y\": [0, 1, 2, 3, 4, 5, 6, 7, 8, 9], \"z\": [[3148, 3, 6, 6, 5, 8, 11, 2, 8, 3], [4, 2528, 28, 16, 19, 19, 3, 860, 21, 81], [19, 22, 2990, 28, 27, 10, 33, 37, 45, 12], [11, 13, 71, 2977, 6, 74, 10, 25, 26, 29], [5, 9, 16, 5, 2919, 6, 12, 8, 14, 89], [23, 13, 14, 75, 26, 2688, 53, 14, 21, 26], [13, 9, 12, 1, 10, 46, 3061, 1, 3, 0], [9, 1193, 41, 14, 32, 8, 8, 1935, 18, 133], [13, 32, 12, 47, 9, 49, 12, 12, 870, 28], [10, 27, 10, 59, 88, 23, 0, 54, 9, 2809]], \"colorscale\": \"Jet\"}], {\"barmode\": \"overlay\", \"title\": \"Confusion Matrix\", \"xaxis\": {\"title\": \"Predicted value\", \"titlefont\": {\"color\": \"#7f7f7f\", \"family\": \"Courier New, monospace\", \"size\": 18}}, \"yaxis\": {\"title\": \"True Value\", \"titlefont\": {\"color\": \"#7f7f7f\", \"family\": \"Courier New, monospace\", \"size\": 18}}}, {\"showLink\": true, \"linkText\": \"Export to plot.ly\"})});</script>"
      ],
      "text/vnd.plotly.v1+html": [
       "<div id=\"ded07da4-df24-4296-b401-cfef7941a999\" style=\"height: 525px; width: 100%;\" class=\"plotly-graph-div\"></div><script type=\"text/javascript\">require([\"plotly\"], function(Plotly) { window.PLOTLYENV=window.PLOTLYENV || {};window.PLOTLYENV.BASE_URL=\"https://plot.ly\";Plotly.newPlot(\"ded07da4-df24-4296-b401-cfef7941a999\", [{\"type\": \"heatmap\", \"x\": [0, 1, 2, 3, 4, 5, 6, 7, 8, 9], \"y\": [0, 1, 2, 3, 4, 5, 6, 7, 8, 9], \"z\": [[3148, 3, 6, 6, 5, 8, 11, 2, 8, 3], [4, 2528, 28, 16, 19, 19, 3, 860, 21, 81], [19, 22, 2990, 28, 27, 10, 33, 37, 45, 12], [11, 13, 71, 2977, 6, 74, 10, 25, 26, 29], [5, 9, 16, 5, 2919, 6, 12, 8, 14, 89], [23, 13, 14, 75, 26, 2688, 53, 14, 21, 26], [13, 9, 12, 1, 10, 46, 3061, 1, 3, 0], [9, 1193, 41, 14, 32, 8, 8, 1935, 18, 133], [13, 32, 12, 47, 9, 49, 12, 12, 870, 28], [10, 27, 10, 59, 88, 23, 0, 54, 9, 2809]], \"colorscale\": \"Jet\"}], {\"barmode\": \"overlay\", \"title\": \"Confusion Matrix\", \"xaxis\": {\"title\": \"Predicted value\", \"titlefont\": {\"color\": \"#7f7f7f\", \"family\": \"Courier New, monospace\", \"size\": 18}}, \"yaxis\": {\"title\": \"True Value\", \"titlefont\": {\"color\": \"#7f7f7f\", \"family\": \"Courier New, monospace\", \"size\": 18}}}, {\"showLink\": true, \"linkText\": \"Export to plot.ly\"})});</script>"
      ]
     },
     "metadata": {},
     "output_type": "display_data"
    }
   ],
   "source": [
    "def int_conf_mat(x, y):\n",
    "    init_notebook_mode(connected=True)\n",
    "\n",
    "    trace1 = {\n",
    "      \"x\": np.unique(y), \n",
    "      \"y\": np.unique(y), \n",
    "      \"z\": confusion_matrix(x, y), \n",
    "      \"colorscale\": \"Jet\", \n",
    "      \"type\": \"heatmap\"\n",
    "    }\n",
    "    data_plot = [trace1]\n",
    "    layout = {\n",
    "      \"barmode\": \"overlay\", \n",
    "      \"title\": \"Confusion Matrix\", \n",
    "      \"xaxis\": {\n",
    "        \"title\": \"Predicted value\", \n",
    "        \"titlefont\": {\n",
    "          \"color\": \"#7f7f7f\", \n",
    "          \"family\": \"Courier New, monospace\", \n",
    "          \"size\": 18\n",
    "        }\n",
    "      }, \n",
    "      \"yaxis\": {\n",
    "        \"title\": \"True Value\", \n",
    "        \"titlefont\": {\n",
    "          \"color\": \"#7f7f7f\", \n",
    "          \"family\": \"Courier New, monospace\", \n",
    "          \"size\": 18\n",
    "        }\n",
    "      }\n",
    "    }\n",
    "    fig = go.Figure(data=data_plot, layout=layout)\n",
    "    plotly.offline.iplot(fig)\n",
    "\n",
    "int_conf_mat(labels, predictions)"
   ]
  },
  {
   "cell_type": "markdown",
   "metadata": {},
   "source": [
    "- Interactive confusion matrix to analyze the predicted results. Please hover over the heatmap to get the values at any point."
   ]
  },
  {
   "cell_type": "markdown",
   "metadata": {},
   "source": [
    "-----"
   ]
  },
  {
   "cell_type": "markdown",
   "metadata": {},
   "source": [
    "- We can use AUC-ROC, precision score, recall score as performance metrics but they won't be much helpful in this particular dataset.\n",
    "- We will go ahead with other modelling approaches and compare them on the basis of log-loss, accuracy and confusion matrix observation"
   ]
  },
  {
   "cell_type": "markdown",
   "metadata": {},
   "source": [
    "------"
   ]
  },
  {
   "cell_type": "markdown",
   "metadata": {},
   "source": [
    "### Observing classwise accuracy "
   ]
  },
  {
   "cell_type": "code",
   "execution_count": 39,
   "metadata": {},
   "outputs": [
    {
     "data": {
      "text/plain": [
       "1    3849\n",
       "0    3255\n",
       "3    3228\n",
       "9    3210\n",
       "6    3203\n",
       "2    3200\n",
       "4    3141\n",
       "7    2948\n",
       "5    2931\n",
       "8    1035\n",
       "Name: predictions, dtype: int64"
      ]
     },
     "execution_count": 39,
     "metadata": {},
     "output_type": "execute_result"
    }
   ],
   "source": [
    "pred_labels = pd.DataFrame(data={'labels': labels, 'predictions': predictions})\n",
    "pred_labels.predictions.value_counts() "
   ]
  },
  {
   "cell_type": "code",
   "execution_count": 40,
   "metadata": {},
   "outputs": [
    {
     "data": {
      "text/plain": [
       "labels\n",
       "0    0.983750\n",
       "1    0.706343\n",
       "2    0.927707\n",
       "3    0.918260\n",
       "4    0.946805\n",
       "5    0.910261\n",
       "6    0.969899\n",
       "7    0.570628\n",
       "8    0.802583\n",
       "9    0.909356\n",
       "Name: accuracy, dtype: float64"
      ]
     },
     "execution_count": 40,
     "metadata": {},
     "output_type": "execute_result"
    }
   ],
   "source": [
    "pred_labels['accuracy'] = (pred_labels['predictions'] == pred_labels['labels'])\n",
    "pred_labels.groupby(['labels'])['accuracy'].mean()"
   ]
  },
  {
   "cell_type": "markdown",
   "metadata": {
    "heading_collapsed": true
   },
   "source": [
    "### Fitting Logistic Regression on train/test"
   ]
  },
  {
   "cell_type": "code",
   "execution_count": 41,
   "metadata": {
    "collapsed": true,
    "hidden": true
   },
   "outputs": [],
   "source": [
    "lr_2 = LogisticRegression()"
   ]
  },
  {
   "cell_type": "code",
   "execution_count": 42,
   "metadata": {
    "hidden": true
   },
   "outputs": [
    {
     "data": {
      "text/plain": [
       "LogisticRegression(C=1.0, class_weight=None, dual=False, fit_intercept=True,\n",
       "          intercept_scaling=1, max_iter=100, multi_class='ovr', n_jobs=1,\n",
       "          penalty='l2', random_state=None, solver='liblinear', tol=0.0001,\n",
       "          verbose=0, warm_start=False)"
      ]
     },
     "execution_count": 42,
     "metadata": {},
     "output_type": "execute_result"
    }
   ],
   "source": [
    "lr_2.fit(x_train, y_train)"
   ]
  },
  {
   "cell_type": "code",
   "execution_count": 43,
   "metadata": {
    "hidden": true
   },
   "outputs": [
    {
     "name": "stdout",
     "output_type": "stream",
     "text": [
      "Log Loss : 0.5053005789850795\n",
      "Accuracy : 0.8388333333333333\n",
      "\n",
      " Confusion Matrix : \n",
      " [[654   2   0   0   0   2   2   0   1   1]\n",
      " [  1 463   6   3   5   2   0 159   9  16]\n",
      " [  5   5 590  13   7   2   8   7  12   4]\n",
      " [  4   3  20 599   0  29   2  12   2   9]\n",
      " [  0   4   3   3 580   3   3   1   2  28]\n",
      " [  6   3   3  15   7 508  12   3   5   5]\n",
      " [  2   5   3   0   4  14 607   0   1   0]\n",
      " [  2 292  14   3  11   2   0 343   4  32]\n",
      " [  0  12   3  11   4  15   1   3 154   9]\n",
      " [  5   8   0  14  19   4   0   9   2 535]]\n"
     ]
    }
   ],
   "source": [
    "predictions = lr_2.predict(x_test)\n",
    "prediction_probs = lr_2.predict_proba(x_test)\n",
    "score_res(y_test, predictions, prediction_probs)"
   ]
  },
  {
   "cell_type": "markdown",
   "metadata": {},
   "source": [
    "### Hyperparameter tuning for Logistic Regression"
   ]
  },
  {
   "cell_type": "code",
   "execution_count": 47,
   "metadata": {},
   "outputs": [
    {
     "data": {
      "text/plain": [
       "LogisticRegression(C=1.0, class_weight=None, dual=False, fit_intercept=True,\n",
       "          intercept_scaling=1, max_iter=100, multi_class='ovr', n_jobs=1,\n",
       "          penalty='l1', random_state=None, solver='liblinear', tol=0.0001,\n",
       "          verbose=0, warm_start=False)"
      ]
     },
     "execution_count": 47,
     "metadata": {},
     "output_type": "execute_result"
    }
   ],
   "source": [
    "lr = LogisticRegression(penalty = 'l1')\n",
    "lr.fit(x_train, y_train)"
   ]
  },
  {
   "cell_type": "code",
   "execution_count": null,
   "metadata": {
    "collapsed": true
   },
   "outputs": [],
   "source": [
    "from sklearn.model_selection import GridSearchCV\n",
    "\n",
    "lr = LogisticRegression()\n",
    "\n",
    "print('Best Hyperparameters -')\n",
    "\n",
    "# regularization penalty options\n",
    "penalty = ['l1', 'l2']\n",
    "\n",
    "# regularization hyperparameter options\n",
    "C = [0.01, 0.3, 0.7, 1.0, 4, 10]\n",
    "\n",
    "# hyperparameter dictionary\n",
    "hyperparameters = dict(C=C, penalty=penalty, n_jobs=[-1])\n",
    "\n",
    "# grid search using 5-fold cross validation\n",
    "clf = GridSearchCV(lr, hyperparameters, cv=5, verbose=0)\n",
    "\n",
    "# Fit grid search\n",
    "best_model = clf.fit(x_train, y_train)"
   ]
  },
  {
   "cell_type": "code",
   "execution_count": 50,
   "metadata": {},
   "outputs": [
    {
     "name": "stdout",
     "output_type": "stream",
     "text": [
      "Best Penalty: l1\n",
      "Best C: 0.7\n"
     ]
    }
   ],
   "source": [
    "# View best hyperparameters\n",
    "print('Best Penalty:', best_model.best_estimator_.get_params()['penalty'])\n",
    "print('Best C:', best_model.best_estimator_.get_params()['C'])"
   ]
  },
  {
   "cell_type": "code",
   "execution_count": 51,
   "metadata": {},
   "outputs": [
    {
     "name": "stdout",
     "output_type": "stream",
     "text": [
      "Log Loss : 0.5016850452916816\n",
      "Accuracy : 0.8415\n",
      "\n",
      " Confusion Matrix : \n",
      " [[652   2   0   0   0   2   3   0   1   2]\n",
      " [  1 459   4   2   6   2   0 167   9  14]\n",
      " [  5   5 591  12   6   2  10   7  10   5]\n",
      " [  2   2  22 602   0  26   2  12   2  10]\n",
      " [  1   4   2   1 583   2   3   1   2  28]\n",
      " [  4   3   4  12   8 510  14   1   5   6]\n",
      " [  2   5   4   0   4  13 606   1   1   0]\n",
      " [  2 279  13   3  11   2   0 358   3  32]\n",
      " [  0  14   4   9   4  18   0   3 152   8]\n",
      " [  6   7   0  14  21   3   0   8   1 536]]\n"
     ]
    }
   ],
   "source": [
    "# Prediction using best model\n",
    "predictions = best_model.predict(x_test)\n",
    "prediction_probs = best_model.predict_proba(x_test)\n",
    "score_res(y_test, predictions, prediction_probs)"
   ]
  },
  {
   "cell_type": "markdown",
   "metadata": {},
   "source": []
  },
  {
   "cell_type": "markdown",
   "metadata": {},
   "source": [
    "### Fitting RF classifier with Hyperparemeter tuning"
   ]
  },
  {
   "cell_type": "code",
   "execution_count": 53,
   "metadata": {
    "collapsed": true
   },
   "outputs": [],
   "source": [
    "from sklearn.ensemble import RandomForestClassifier"
   ]
  },
  {
   "cell_type": "code",
   "execution_count": 54,
   "metadata": {},
   "outputs": [
    {
     "data": {
      "text/plain": [
       "RandomForestClassifier(bootstrap=True, class_weight=None, criterion='gini',\n",
       "            max_depth=None, max_features='auto', max_leaf_nodes=None,\n",
       "            min_impurity_decrease=0.0, min_impurity_split=None,\n",
       "            min_samples_leaf=1, min_samples_split=2,\n",
       "            min_weight_fraction_leaf=0.0, n_estimators=10, n_jobs=1,\n",
       "            oob_score=False, random_state=None, verbose=0,\n",
       "            warm_start=False)"
      ]
     },
     "execution_count": 54,
     "metadata": {},
     "output_type": "execute_result"
    }
   ],
   "source": [
    "rfc = RandomForestClassifier()\n",
    "rfc.fit(x_train, y_train)"
   ]
  },
  {
   "cell_type": "code",
   "execution_count": 55,
   "metadata": {},
   "outputs": [
    {
     "name": "stdout",
     "output_type": "stream",
     "text": [
      "Log Loss : 0.7580602159145947\n",
      "Accuracy : 0.8516666666666667\n",
      "\n",
      " Confusion Matrix : \n",
      " [[649   1   2   2   2   2   3   0   1   0]\n",
      " [  1 474   5   1   8   0   1 168   1   5]\n",
      " [  8   6 611  10   6   1   3   3   4   1]\n",
      " [  3   6  20 618   0  17   3   4   0   9]\n",
      " [  0   4   4   1 590   0   3   1   1  23]\n",
      " [  5   4   2  20   4 525   4   1   0   2]\n",
      " [  8   3   3   0  11   8 603   0   0   0]\n",
      " [  2 332  12   0   2   3   0 338   1  13]\n",
      " [  4   8   9  16   1   9   1   4 155   5]\n",
      " [  5   4   2  11  15   5   2   4   1 547]]\n"
     ]
    }
   ],
   "source": [
    "predictions = rfc.predict(x_test)\n",
    "prediction_probs = rfc.predict_proba(x_test)\n",
    "score_res(y_test, predictions, prediction_probs)"
   ]
  },
  {
   "cell_type": "code",
   "execution_count": null,
   "metadata": {
    "collapsed": true
   },
   "outputs": [],
   "source": [
    "## Hyperparameter Tuning\n",
    "\n",
    "# Create the parameter grid based on the results of random search \n",
    "param_grid = {\n",
    "    'bootstrap': [True],\n",
    "    'max_depth': [80, 100],\n",
    "    'max_features': [2, 3],\n",
    "    'min_samples_leaf': [3, 5],\n",
    "    'min_samples_split': [4, 10],\n",
    "    'n_estimators': [50, 100, 300, 500]\n",
    "}\n",
    "# Create a based model\n",
    "rfc = RandomForestClassifier()\n",
    "\n",
    "# Instantiate the grid search model\n",
    "grid_search = GridSearchCV(estimator = rfc, param_grid = param_grid, \n",
    "                          cv = 3, n_jobs = -1, verbose = 2)\n",
    "\n",
    "# Fit the grid search to the data\n",
    "grid_search.fit(x_train, y_train)"
   ]
  },
  {
   "cell_type": "code",
   "execution_count": 58,
   "metadata": {},
   "outputs": [
    {
     "data": {
      "text/plain": [
       "{'bootstrap': True,\n",
       " 'max_depth': 100,\n",
       " 'max_features': 3,\n",
       " 'min_samples_leaf': 3,\n",
       " 'min_samples_split': 4,\n",
       " 'n_estimators': 500}"
      ]
     },
     "execution_count": 58,
     "metadata": {},
     "output_type": "execute_result"
    }
   ],
   "source": [
    "grid_search.best_params_"
   ]
  },
  {
   "cell_type": "code",
   "execution_count": 60,
   "metadata": {},
   "outputs": [
    {
     "name": "stdout",
     "output_type": "stream",
     "text": [
      "Log Loss : 0.797950167818783\n",
      "Accuracy : 0.869\n",
      "\n",
      " Confusion Matrix : \n",
      " [[653   0   0   1   0   1   6   0   1   0]\n",
      " [  2 461   7   1   6   0   1 179   0   7]\n",
      " [  5   1 630   5   2   0   5   2   2   1]\n",
      " [  2   5  11 638   1   7   1   6   0   9]\n",
      " [  0   5   2   0 592   0   5   1   0  22]\n",
      " [  4   1   4  20   2 521  10   0   0   5]\n",
      " [  5   3   0   0   3   8 617   0   0   0]\n",
      " [  2 260  11   0   7   1   0 398   1  23]\n",
      " [  0  15   5  26   3  13   3   1 134  12]\n",
      " [  5   3   0  10   5   0   0   3   0 570]]\n"
     ]
    }
   ],
   "source": [
    "best_grid = grid_search.best_estimator_\n",
    "predictions = best_grid.predict(x_test)\n",
    "prediction_probs = best_grid.predict_proba(x_test)\n",
    "score_res(y_test, predictions, prediction_probs)"
   ]
  },
  {
   "cell_type": "markdown",
   "metadata": {
    "heading_collapsed": true
   },
   "source": [
    "### Fitting SVC"
   ]
  },
  {
   "cell_type": "code",
   "execution_count": 61,
   "metadata": {
    "collapsed": true,
    "hidden": true
   },
   "outputs": [],
   "source": [
    "from sklearn.svm import SVC"
   ]
  },
  {
   "cell_type": "code",
   "execution_count": 62,
   "metadata": {
    "hidden": true
   },
   "outputs": [
    {
     "data": {
      "text/plain": [
       "SVC(C=1.0, cache_size=200, class_weight=None, coef0=0.0,\n",
       "  decision_function_shape='ovr', degree=3, gamma='auto', kernel='rbf',\n",
       "  max_iter=-1, probability=False, random_state=None, shrinking=True,\n",
       "  tol=0.001, verbose=False)"
      ]
     },
     "execution_count": 62,
     "metadata": {},
     "output_type": "execute_result"
    }
   ],
   "source": [
    "svc = SVC()\n",
    "svc.fit(x_train, y_train)"
   ]
  },
  {
   "cell_type": "code",
   "execution_count": 63,
   "metadata": {
    "hidden": true
   },
   "outputs": [
    {
     "name": "stdout",
     "output_type": "stream",
     "text": [
      "Accuracy : 0.8595\n",
      "\n",
      " Confusion Matrix : \n",
      " [[651   1   2   1   0   3   2   2   0   0]\n",
      " [  1 459   8   1   7   0   0 182   0   6]\n",
      " [  4   8 606   6   9   2   8   2   7   1]\n",
      " [  2   9  11 608   1  26   1  14   1   7]\n",
      " [  1   2   4   0 586   0   4   2   0  28]\n",
      " [  3   4   5  10   5 526  11   0   2   1]\n",
      " [  6   4   7   0   5   5 609   0   0   0]\n",
      " [  1 267  11   1   6   3   0 396   1  17]\n",
      " [  0  14   4   9   2   9   1   5 166   2]\n",
      " [  5   4   0   7  16   3   0  11   0 550]]\n"
     ]
    }
   ],
   "source": [
    "predictions = svc.predict(x_test)\n",
    "score_res(y_test, predictions)"
   ]
  },
  {
   "cell_type": "markdown",
   "metadata": {
    "heading_collapsed": true
   },
   "source": [
    "### Fitting KNN"
   ]
  },
  {
   "cell_type": "markdown",
   "metadata": {
    "hidden": true
   },
   "source": [
    "- Being an algorithm which is easy to implement and understand, KNN is a good choice to experiment.\n",
    "- It sometimes might give better results than other complicated algorithms if the points are distinctly seperated in the vector space "
   ]
  },
  {
   "cell_type": "code",
   "execution_count": 64,
   "metadata": {
    "collapsed": true,
    "hidden": true
   },
   "outputs": [],
   "source": [
    "from sklearn.neighbors import KNeighborsClassifier"
   ]
  },
  {
   "cell_type": "code",
   "execution_count": 65,
   "metadata": {
    "hidden": true
   },
   "outputs": [
    {
     "data": {
      "text/plain": [
       "KNeighborsClassifier(algorithm='auto', leaf_size=30, metric='minkowski',\n",
       "           metric_params=None, n_jobs=-1, n_neighbors=7, p=2,\n",
       "           weights='uniform')"
      ]
     },
     "execution_count": 65,
     "metadata": {},
     "output_type": "execute_result"
    }
   ],
   "source": [
    "knn = KNeighborsClassifier(n_neighbors=7, n_jobs=-1)\n",
    "knn.fit(x_train, y_train)"
   ]
  },
  {
   "cell_type": "code",
   "execution_count": 70,
   "metadata": {
    "hidden": true
   },
   "outputs": [
    {
     "name": "stdout",
     "output_type": "stream",
     "text": [
      "Log Loss : 0.695785190672101\n",
      "Accuracy : 0.8773333333333333\n",
      "\n",
      " Confusion Matrix : \n",
      " [[658   0   0   0   0   1   3   0   0   0]\n",
      " [  0 435   1   0   1   0   0 225   0   2]\n",
      " [  7  11 619   2   0   0   2   8   1   3]\n",
      " [  0   1   7 653   0   7   0   7   0   5]\n",
      " [  1  13   0   0 599   0   0   2   0  12]\n",
      " [  3   2   0   2   1 549   6   1   0   3]\n",
      " [  4   3   1   0   1   3 622   2   0   0]\n",
      " [  0 310   3   0   1   0   0 383   0   6]\n",
      " [  0  10   0  14   1   6   3   2 171   5]\n",
      " [  1   3   0   7   0   1   0   9   0 575]]\n"
     ]
    }
   ],
   "source": [
    "predictions = knn.predict(x_test)\n",
    "prediction_probs = knn.predict_proba(x_test)\n",
    "score_res(y_test, predictions, prediction_probs)"
   ]
  },
  {
   "cell_type": "code",
   "execution_count": null,
   "metadata": {
    "collapsed": true,
    "hidden": true
   },
   "outputs": [],
   "source": []
  },
  {
   "cell_type": "markdown",
   "metadata": {
    "heading_collapsed": true
   },
   "source": [
    "### Fitting Convolutional Neural network"
   ]
  },
  {
   "cell_type": "code",
   "execution_count": 113,
   "metadata": {
    "collapsed": true,
    "hidden": true
   },
   "outputs": [],
   "source": [
    "from keras.models import Sequential\n",
    "from keras.layers import Dense, Activation\n",
    "from keras.layers import Embedding\n",
    "from keras.layers import Conv2D, MaxPool2D, Flatten, Dropout\n",
    "from keras.optimizers import Adam\n",
    "from keras.utils.np_utils import to_categorical"
   ]
  },
  {
   "cell_type": "markdown",
   "metadata": {
    "hidden": true
   },
   "source": [
    "- CNN architechture : <br>\n",
    "[[Conv2D->relu] -> [Conv2D->relu] -> MaxPool2D -> Dropout] -> [[Conv2D->relu] -> [Conv2D->relu] -> MaxPool2D -> Dropout] -> Flatten -> Dense -> Dropout -> Softmax\n",
    "<br> <br>\n",
    "- We'll use the 'data' which is not flattened to utilize the CNN architechture"
   ]
  },
  {
   "cell_type": "code",
   "execution_count": 111,
   "metadata": {
    "collapsed": true,
    "hidden": true
   },
   "outputs": [],
   "source": [
    "model = Sequential()\n",
    "\n",
    "model.add(Conv2D(filters = 32, kernel_size = (5,5), padding = 'Same', activation ='relu', input_shape = (28,28,1)))\n",
    "model.add(Conv2D(filters = 32, kernel_size = (5,5),padding = 'Same', activation ='relu'))\n",
    "\n",
    "model.add(MaxPool2D(pool_size=(2,2)))\n",
    "\n",
    "model.add(Dropout(0.25))\n",
    "\n",
    "model.add(Conv2D(filters = 64, kernel_size = (3,3),padding = 'Same', activation ='relu'))\n",
    "model.add(Conv2D(filters = 64, kernel_size = (3,3),padding = 'Same', activation ='relu'))\n",
    "\n",
    "model.add(MaxPool2D(pool_size=(2,2), strides=(2,2)))\n",
    "model.add(Dropout(0.25))\n",
    "\n",
    "model.add(Flatten())\n",
    "model.add(Dense(256, activation = \"relu\"))\n",
    "model.add(Dropout(0.5))\n",
    "model.add(Dense(10, activation = \"softmax\"))"
   ]
  },
  {
   "cell_type": "code",
   "execution_count": 112,
   "metadata": {
    "hidden": true
   },
   "outputs": [
    {
     "name": "stdout",
     "output_type": "stream",
     "text": [
      "_________________________________________________________________\n",
      "Layer (type)                 Output Shape              Param #   \n",
      "=================================================================\n",
      "conv2d_23 (Conv2D)           (None, 28, 28, 32)        832       \n",
      "_________________________________________________________________\n",
      "conv2d_24 (Conv2D)           (None, 28, 28, 32)        25632     \n",
      "_________________________________________________________________\n",
      "max_pooling2d_11 (MaxPooling (None, 14, 14, 32)        0         \n",
      "_________________________________________________________________\n",
      "dropout_13 (Dropout)         (None, 14, 14, 32)        0         \n",
      "_________________________________________________________________\n",
      "conv2d_25 (Conv2D)           (None, 14, 14, 64)        18496     \n",
      "_________________________________________________________________\n",
      "conv2d_26 (Conv2D)           (None, 14, 14, 64)        36928     \n",
      "_________________________________________________________________\n",
      "max_pooling2d_12 (MaxPooling (None, 7, 7, 64)          0         \n",
      "_________________________________________________________________\n",
      "dropout_14 (Dropout)         (None, 7, 7, 64)          0         \n",
      "_________________________________________________________________\n",
      "flatten_5 (Flatten)          (None, 3136)              0         \n",
      "_________________________________________________________________\n",
      "dense_9 (Dense)              (None, 256)               803072    \n",
      "_________________________________________________________________\n",
      "dropout_15 (Dropout)         (None, 256)               0         \n",
      "_________________________________________________________________\n",
      "dense_10 (Dense)             (None, 10)                2570      \n",
      "=================================================================\n",
      "Total params: 887,530\n",
      "Trainable params: 887,530\n",
      "Non-trainable params: 0\n",
      "_________________________________________________________________\n"
     ]
    }
   ],
   "source": [
    "model.summary()"
   ]
  },
  {
   "cell_type": "code",
   "execution_count": 115,
   "metadata": {
    "hidden": true
   },
   "outputs": [
    {
     "name": "stdout",
     "output_type": "stream",
     "text": [
      "Shape of training Data :  (24000, 28, 28, 1) \n",
      "Shape of testing Data :  (6000, 28, 28, 1)\n",
      "Shape of training lables :  (24000, 10) \n",
      "Shape of testing labels :  (6000, 10)\n"
     ]
    }
   ],
   "source": [
    "Y = to_categorical(labels, num_classes = 10)\n",
    "\n",
    "data_train, data_test, y_train, y_test = train_test_split(data, Y, test_size=0.2, random_state=3)\n",
    "data_train, data_test = data_train.reshape(-1,28,28,1), data_test.reshape(-1,28,28,1)\n",
    "\n",
    "print ('Shape of training Data : ', data_train.shape, '\\nShape of testing Data : ', data_test.shape)\n",
    "print ('Shape of training lables : ', y_train.shape, '\\nShape of testing labels : ', y_test.shape)"
   ]
  },
  {
   "cell_type": "code",
   "execution_count": 124,
   "metadata": {
    "hidden": true
   },
   "outputs": [
    {
     "name": "stdout",
     "output_type": "stream",
     "text": [
      "Training model...\n",
      "Train on 21600 samples, validate on 2400 samples\n",
      "Epoch 1/5\n",
      "21600/21600 [==============================] - 139s 6ms/step - loss: 0.2230 - acc: 0.8998 - val_loss: 0.2149 - val_acc: 0.9083\n",
      "Epoch 2/5\n",
      "21600/21600 [==============================] - 134s 6ms/step - loss: 0.2061 - acc: 0.9049 - val_loss: 0.1949 - val_acc: 0.9137\n",
      "Epoch 3/5\n",
      "21600/21600 [==============================] - 135s 6ms/step - loss: 0.1927 - acc: 0.9070 - val_loss: 0.1948 - val_acc: 0.9142\n",
      "Epoch 4/5\n",
      "21600/21600 [==============================] - 128s 6ms/step - loss: 0.1904 - acc: 0.9094 - val_loss: 0.1880 - val_acc: 0.9142\n",
      "Epoch 5/5\n",
      "21600/21600 [==============================] - 137s 6ms/step - loss: 0.1841 - acc: 0.9114 - val_loss: 0.1843 - val_acc: 0.9142\n"
     ]
    },
    {
     "data": {
      "text/plain": [
       "<keras.callbacks.History at 0x12e3984a8>"
      ]
     },
     "execution_count": 124,
     "metadata": {},
     "output_type": "execute_result"
    }
   ],
   "source": [
    "print(\"Training model...\")\n",
    "\n",
    "adam = Adam(lr=0.001, beta_1=0.9, beta_2=0.999, epsilon=None, decay=0.0, amsgrad=False)\n",
    "\n",
    "model.compile(loss='categorical_crossentropy',\n",
    "              optimizer=adam,\n",
    "              metrics=['accuracy'])\n",
    "batch_size = 32\n",
    "epochs = 5\n",
    "\n",
    "model.fit(data_train, y_train,\n",
    "          batch_size=batch_size,\n",
    "          epochs=epochs,\n",
    "          verbose=True,\n",
    "          validation_split=0.1)"
   ]
  },
  {
   "cell_type": "code",
   "execution_count": 125,
   "metadata": {
    "hidden": true
   },
   "outputs": [
    {
     "name": "stdout",
     "output_type": "stream",
     "text": [
      "6000/6000 [==============================] - 12s 2ms/step\n"
     ]
    }
   ],
   "source": [
    "score, accuracy = model.evaluate(data_test, y_test,\n",
    "                                batch_size=batch_size, \n",
    "                                verbose=True)"
   ]
  },
  {
   "cell_type": "code",
   "execution_count": 126,
   "metadata": {
    "hidden": true
   },
   "outputs": [
    {
     "name": "stdout",
     "output_type": "stream",
     "text": [
      "Test score: 0.173\n",
      "Test accuracy: 0.916\n"
     ]
    }
   ],
   "source": [
    "print('Test score: {:.3}'.format(score))\n",
    "print('Test accuracy: {:.3}'.format(accuracy))"
   ]
  },
  {
   "cell_type": "code",
   "execution_count": 127,
   "metadata": {
    "hidden": true
   },
   "outputs": [
    {
     "data": {
      "text/html": [
       "<script>requirejs.config({paths: { 'plotly': ['https://cdn.plot.ly/plotly-latest.min']},});if(!window.Plotly) {{require(['plotly'],function(plotly) {window.Plotly=plotly;});}}</script>"
      ],
      "text/vnd.plotly.v1+html": [
       "<script>requirejs.config({paths: { 'plotly': ['https://cdn.plot.ly/plotly-latest.min']},});if(!window.Plotly) {{require(['plotly'],function(plotly) {window.Plotly=plotly;});}}</script>"
      ]
     },
     "metadata": {},
     "output_type": "display_data"
    },
    {
     "data": {
      "application/vnd.plotly.v1+json": {
       "data": [
        {
         "colorscale": "Jet",
         "type": "heatmap",
         "x": [
          0,
          1,
          2,
          3,
          4,
          5,
          6,
          7,
          8,
          9
         ],
         "y": [
          0,
          1,
          2,
          3,
          4,
          5,
          6,
          7,
          8,
          9
         ],
         "z": [
          [
           3197,
           0,
           0,
           0,
           0,
           0,
           2,
           0,
           1,
           0
          ],
          [
           0,
           2499,
           8,
           0,
           1,
           1,
           0,
           1069,
           0,
           1
          ],
          [
           2,
           3,
           3212,
           3,
           0,
           0,
           0,
           1,
           0,
           2
          ],
          [
           0,
           0,
           6,
           3218,
           0,
           10,
           0,
           3,
           1,
           4
          ],
          [
           1,
           3,
           0,
           0,
           3061,
           0,
           3,
           1,
           0,
           14
          ],
          [
           0,
           0,
           1,
           2,
           0,
           2943,
           3,
           0,
           1,
           3
          ],
          [
           7,
           2,
           1,
           1,
           0,
           9,
           3134,
           0,
           2,
           0
          ],
          [
           1,
           1177,
           10,
           1,
           1,
           0,
           0,
           2194,
           0,
           7
          ],
          [
           2,
           1,
           1,
           3,
           0,
           3,
           0,
           0,
           1072,
           2
          ],
          [
           4,
           1,
           0,
           0,
           5,
           3,
           0,
           4,
           2,
           3070
          ]
         ]
        }
       ],
       "layout": {
        "barmode": "overlay",
        "title": "Confusion Matrix",
        "xaxis": {
         "title": "Predicted value",
         "titlefont": {
          "color": "#7f7f7f",
          "family": "Courier New, monospace",
          "size": 18
         }
        },
        "yaxis": {
         "title": "True Value",
         "titlefont": {
          "color": "#7f7f7f",
          "family": "Courier New, monospace",
          "size": 18
         }
        }
       }
      },
      "text/html": [
       "<div id=\"00853538-e112-417b-88d6-47a70b9160fc\" style=\"height: 525px; width: 100%;\" class=\"plotly-graph-div\"></div><script type=\"text/javascript\">require([\"plotly\"], function(Plotly) { window.PLOTLYENV=window.PLOTLYENV || {};window.PLOTLYENV.BASE_URL=\"https://plot.ly\";Plotly.newPlot(\"00853538-e112-417b-88d6-47a70b9160fc\", [{\"type\": \"heatmap\", \"x\": [0, 1, 2, 3, 4, 5, 6, 7, 8, 9], \"y\": [0, 1, 2, 3, 4, 5, 6, 7, 8, 9], \"z\": [[3197, 0, 0, 0, 0, 0, 2, 0, 1, 0], [0, 2499, 8, 0, 1, 1, 0, 1069, 0, 1], [2, 3, 3212, 3, 0, 0, 0, 1, 0, 2], [0, 0, 6, 3218, 0, 10, 0, 3, 1, 4], [1, 3, 0, 0, 3061, 0, 3, 1, 0, 14], [0, 0, 1, 2, 0, 2943, 3, 0, 1, 3], [7, 2, 1, 1, 0, 9, 3134, 0, 2, 0], [1, 1177, 10, 1, 1, 0, 0, 2194, 0, 7], [2, 1, 1, 3, 0, 3, 0, 0, 1072, 2], [4, 1, 0, 0, 5, 3, 0, 4, 2, 3070]], \"colorscale\": \"Jet\"}], {\"barmode\": \"overlay\", \"title\": \"Confusion Matrix\", \"xaxis\": {\"title\": \"Predicted value\", \"titlefont\": {\"color\": \"#7f7f7f\", \"family\": \"Courier New, monospace\", \"size\": 18}}, \"yaxis\": {\"title\": \"True Value\", \"titlefont\": {\"color\": \"#7f7f7f\", \"family\": \"Courier New, monospace\", \"size\": 18}}}, {\"showLink\": true, \"linkText\": \"Export to plot.ly\"})});</script>"
      ],
      "text/vnd.plotly.v1+html": [
       "<div id=\"00853538-e112-417b-88d6-47a70b9160fc\" style=\"height: 525px; width: 100%;\" class=\"plotly-graph-div\"></div><script type=\"text/javascript\">require([\"plotly\"], function(Plotly) { window.PLOTLYENV=window.PLOTLYENV || {};window.PLOTLYENV.BASE_URL=\"https://plot.ly\";Plotly.newPlot(\"00853538-e112-417b-88d6-47a70b9160fc\", [{\"type\": \"heatmap\", \"x\": [0, 1, 2, 3, 4, 5, 6, 7, 8, 9], \"y\": [0, 1, 2, 3, 4, 5, 6, 7, 8, 9], \"z\": [[3197, 0, 0, 0, 0, 0, 2, 0, 1, 0], [0, 2499, 8, 0, 1, 1, 0, 1069, 0, 1], [2, 3, 3212, 3, 0, 0, 0, 1, 0, 2], [0, 0, 6, 3218, 0, 10, 0, 3, 1, 4], [1, 3, 0, 0, 3061, 0, 3, 1, 0, 14], [0, 0, 1, 2, 0, 2943, 3, 0, 1, 3], [7, 2, 1, 1, 0, 9, 3134, 0, 2, 0], [1, 1177, 10, 1, 1, 0, 0, 2194, 0, 7], [2, 1, 1, 3, 0, 3, 0, 0, 1072, 2], [4, 1, 0, 0, 5, 3, 0, 4, 2, 3070]], \"colorscale\": \"Jet\"}], {\"barmode\": \"overlay\", \"title\": \"Confusion Matrix\", \"xaxis\": {\"title\": \"Predicted value\", \"titlefont\": {\"color\": \"#7f7f7f\", \"family\": \"Courier New, monospace\", \"size\": 18}}, \"yaxis\": {\"title\": \"True Value\", \"titlefont\": {\"color\": \"#7f7f7f\", \"family\": \"Courier New, monospace\", \"size\": 18}}}, {\"showLink\": true, \"linkText\": \"Export to plot.ly\"})});</script>"
      ]
     },
     "metadata": {},
     "output_type": "display_data"
    }
   ],
   "source": [
    "prediction_probs = model.predict(data.reshape(-1,28,28,1))\n",
    "predictions = np.argmax(prediction_probs, axis = 1)\n",
    "int_conf_mat(labels, predictions)"
   ]
  },
  {
   "cell_type": "markdown",
   "metadata": {
    "hidden": true
   },
   "source": [
    "- Reference : The Convolutional Neural Network architechture has been referred from a kaggle kernel - <br> 'introduction-to-cnn-keras-0-997-top-6' by 'yassineghouzam'"
   ]
  },
  {
   "cell_type": "markdown",
   "metadata": {
    "heading_collapsed": true
   },
   "source": [
    "### Looking at errors"
   ]
  },
  {
   "cell_type": "code",
   "execution_count": 144,
   "metadata": {
    "collapsed": true,
    "hidden": true
   },
   "outputs": [],
   "source": [
    "matchs = np.array(labels == predictions)\n",
    "errors = np.where(matchs==False)[0]"
   ]
  },
  {
   "cell_type": "code",
   "execution_count": 147,
   "metadata": {
    "hidden": true
   },
   "outputs": [
    {
     "name": "stdout",
     "output_type": "stream",
     "text": [
      "Looking at values predicted wrong by the model : \n",
      "                            \n",
      "                            \n",
      "                            \n",
      "                            \n",
      "                            \n",
      "                            \n",
      "                            \n",
      "      ░█▓▓░░                \n",
      "     ▓████████░             \n",
      "      ▓█████████▓           \n",
      "         ░▒▓▓█████▒         \n",
      "              ▓████░        \n",
      "                ▓██░        \n",
      "                 ██▓        \n",
      "                 ▓██        \n",
      "                 ███        \n",
      "                 ██▓        \n",
      "                ▒██░        \n",
      "                ▓██░        \n",
      "               ░███         \n",
      "               ▓██░         \n",
      "              ░███          \n",
      "              ███░          \n",
      "             ░███           \n",
      "             ▓██░           \n",
      "             ██▒            \n",
      "             ▓▒             \n",
      "                            \n",
      "                            \n",
      "                            \n",
      "                            \n",
      "                            \n",
      "            █▓              \n",
      "           ░██▓             \n",
      "           ▓███             \n",
      "           ████▒            \n",
      "           ████             \n",
      "           ███▒             \n",
      "           ▒██▒             \n",
      "           ░███             \n",
      "           ░███             \n",
      "            ▒██░            \n",
      "             ██▓            \n",
      "             ███░           \n",
      "             ▒███           \n",
      "              ███           \n",
      "              ███░          \n",
      "              ▒██▓          \n",
      "               ███▓░        \n",
      "               ▓████░       \n",
      "                ▓███░       \n",
      "                 ██▒        \n",
      "                            \n",
      "                            \n",
      "                            \n",
      "                            \n"
     ]
    }
   ],
   "source": [
    "print ('Looking at values predicted wrong by the model : ')\n",
    "for i in range(0, 2):\n",
    "    console_print(data[errors[i]])"
   ]
  },
  {
   "cell_type": "code",
   "execution_count": null,
   "metadata": {
    "collapsed": true,
    "hidden": true
   },
   "outputs": [],
   "source": []
  },
  {
   "cell_type": "markdown",
   "metadata": {
    "heading_collapsed": true
   },
   "source": [
    "### Comments "
   ]
  },
  {
   "cell_type": "markdown",
   "metadata": {
    "hidden": true
   },
   "source": [
    "- CNN performs the best for our predictions out of all the models\n",
    "- The best performing CNN gets confused between 7 and 1 which can be observed in the confusion matrix. The error can be understood intuitively as 7 and 1 when not presented clearly can be confusing even to human eyes. This can be improved with some more model tuning and data augmentation.\n",
    "- The classwise accuracy is proportionate to the initial finding of the class balance in the dataset\n",
    "- We have used regularization and then cross validation in our models to avoid overfitting on the training set"
   ]
  },
  {
   "cell_type": "markdown",
   "metadata": {
    "hidden": true
   },
   "source": [
    "- We can also use oversampling for label '7' or '1' to overfit a particular class which might improve our overall accuracy"
   ]
  },
  {
   "cell_type": "code",
   "execution_count": null,
   "metadata": {
    "collapsed": true,
    "hidden": true
   },
   "outputs": [],
   "source": []
  }
 ],
 "metadata": {
  "kernelspec": {
   "display_name": "Python 3",
   "language": "python",
   "name": "python3"
  },
  "language_info": {
   "codemirror_mode": {
    "name": "ipython",
    "version": 3
   },
   "file_extension": ".py",
   "mimetype": "text/x-python",
   "name": "python",
   "nbconvert_exporter": "python",
   "pygments_lexer": "ipython3",
   "version": "3.5.3"
  },
  "varInspector": {
   "cols": {
    "lenName": 16,
    "lenType": 16,
    "lenVar": 40
   },
   "kernels_config": {
    "python": {
     "delete_cmd_postfix": "",
     "delete_cmd_prefix": "del ",
     "library": "var_list.py",
     "varRefreshCmd": "print(var_dic_list())"
    },
    "r": {
     "delete_cmd_postfix": ") ",
     "delete_cmd_prefix": "rm(",
     "library": "var_list.r",
     "varRefreshCmd": "cat(var_dic_list()) "
    }
   },
   "types_to_exclude": [
    "module",
    "function",
    "builtin_function_or_method",
    "instance",
    "_Feature"
   ],
   "window_display": false
  }
 },
 "nbformat": 4,
 "nbformat_minor": 2
}
