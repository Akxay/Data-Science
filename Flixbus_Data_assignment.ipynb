{
 "cells": [
  {
   "cell_type": "markdown",
   "metadata": {},
   "source": [
    "### Business Problem:\n",
    "- Given the company's sales data from 1st January, 2017 to 26th February, 2018, estimate the how many tickets company will sell through specific channel & country from current date(t) and in the next 10 days(t+10)."
   ]
  },
  {
   "cell_type": "markdown",
   "metadata": {},
   "source": [
    "Let’s discuss one of the ways of solving this problem. So, as a first step I would like to break the overall solution into 4 parts and work on each part sequentially: \n",
    "- Data understanding and transformation as per our problem\n",
    "- Exploratory data analysis to figure out the trends in the data\n",
    "- Training and Evaluating a forecasting model\n",
    "- Recommendations to the business"
   ]
  },
  {
   "cell_type": "markdown",
   "metadata": {},
   "source": [
    "### Load required python modules"
   ]
  },
  {
   "cell_type": "code",
   "execution_count": 3,
   "metadata": {},
   "outputs": [
    {
     "name": "stderr",
     "output_type": "stream",
     "text": [
      "Using TensorFlow backend.\n"
     ]
    }
   ],
   "source": [
    "import os\n",
    "os.environ[\"CUDA_DEVICE_ORDER\"] = \"PCI_BUS_ID\"\n",
    "os.environ[\"CUDA_VISIBLE_DEVICES\"] = \"\"\n",
    "\n",
    "import pandas as pd\n",
    "import numpy as np\n",
    "import matplotlib.pyplot as plt\n",
    "import numpy as np\n",
    "import seaborn as sns\n",
    "import warnings\n",
    "import time\n",
    "from matplotlib import pyplot\n",
    "from sklearn.preprocessing import MinMaxScaler\n",
    "from sklearn.preprocessing import StandardScaler\n",
    "\n",
    "from math import sqrt\n",
    "from numpy import split\n",
    "from numpy import array\n",
    "from pandas import read_csv\n",
    "from sklearn.metrics import mean_squared_error\n",
    "from matplotlib import pyplot\n",
    "from keras.models import Sequential\n",
    "from keras.layers import Dense\n",
    "from keras.layers import Flatten\n",
    "from keras.layers import LSTM\n",
    "from keras.layers import RepeatVector\n",
    "from keras.layers import TimeDistributed\n",
    "\n",
    "\n",
    "warnings.filterwarnings(\"ignore\")\n",
    "pd.set_option('display.float_format', lambda x: '%.3f' % x)\n",
    "np.set_printoptions(suppress=True)\n",
    "%matplotlib inline"
   ]
  },
  {
   "cell_type": "markdown",
   "metadata": {},
   "source": [
    "### Loading Data of all 3 tables"
   ]
  },
  {
   "cell_type": "code",
   "execution_count": 4,
   "metadata": {},
   "outputs": [
    {
     "name": "stdout",
     "output_type": "stream",
     "text": [
      "Channels data shape (2054059, 3) Country data shape (1917668, 3) Tickets data shape (1999716, 3)\n"
     ]
    }
   ],
   "source": [
    "channels_data = pd.read_csv('flixbus_data/orders_channels.csv')\n",
    "tickets_data = pd.read_csv('flixbus_data/orders_tickets.csv')\n",
    "countries_data = pd.read_csv('flixbus_data/orders_country.csv')\n",
    "print('Channels data shape %s Country data shape %s Tickets data shape %s' % (channels_data.shape, countries_data.shape, tickets_data.shape ))"
   ]
  },
  {
   "cell_type": "markdown",
   "metadata": {},
   "source": [
    "### Merge data"
   ]
  },
  {
   "cell_type": "code",
   "execution_count": 5,
   "metadata": {},
   "outputs": [],
   "source": [
    "ticket_channel_df = pd.merge(tickets_data, channels_data, on='id', how = 'left')\n",
    "sales_df = pd.merge(ticket_channel_df, countries_data, on='id', how = 'left')"
   ]
  },
  {
   "cell_type": "code",
   "execution_count": 6,
   "metadata": {},
   "outputs": [
    {
     "data": {
      "text/html": [
       "<div>\n",
       "<style scoped>\n",
       "    .dataframe tbody tr th:only-of-type {\n",
       "        vertical-align: middle;\n",
       "    }\n",
       "\n",
       "    .dataframe tbody tr th {\n",
       "        vertical-align: top;\n",
       "    }\n",
       "\n",
       "    .dataframe thead th {\n",
       "        text-align: right;\n",
       "    }\n",
       "</style>\n",
       "<table border=\"1\" class=\"dataframe\">\n",
       "  <thead>\n",
       "    <tr style=\"text-align: right;\">\n",
       "      <th></th>\n",
       "      <th>id</th>\n",
       "      <th>n_tickets</th>\n",
       "      <th>type</th>\n",
       "      <th>date</th>\n",
       "      <th>channel_id</th>\n",
       "      <th>country_1</th>\n",
       "      <th>country_2</th>\n",
       "    </tr>\n",
       "  </thead>\n",
       "  <tbody>\n",
       "    <tr>\n",
       "      <th>0</th>\n",
       "      <td>1586391</td>\n",
       "      <td>2</td>\n",
       "      <td>pax</td>\n",
       "      <td>2017-12-16</td>\n",
       "      <td>37.000</td>\n",
       "      <td>24.000</td>\n",
       "      <td>NaN</td>\n",
       "    </tr>\n",
       "    <tr>\n",
       "      <th>1</th>\n",
       "      <td>438232</td>\n",
       "      <td>2</td>\n",
       "      <td>pax</td>\n",
       "      <td>2017-04-25</td>\n",
       "      <td>39.000</td>\n",
       "      <td>24.000</td>\n",
       "      <td>NaN</td>\n",
       "    </tr>\n",
       "    <tr>\n",
       "      <th>2</th>\n",
       "      <td>270896</td>\n",
       "      <td>1</td>\n",
       "      <td>pax</td>\n",
       "      <td>2017-11-04</td>\n",
       "      <td>28.000</td>\n",
       "      <td>24.000</td>\n",
       "      <td>xx</td>\n",
       "    </tr>\n",
       "    <tr>\n",
       "      <th>3</th>\n",
       "      <td>1181593</td>\n",
       "      <td>2</td>\n",
       "      <td>pax</td>\n",
       "      <td>2017-07-24</td>\n",
       "      <td>28.000</td>\n",
       "      <td>9.000</td>\n",
       "      <td>7</td>\n",
       "    </tr>\n",
       "    <tr>\n",
       "      <th>4</th>\n",
       "      <td>964842</td>\n",
       "      <td>1</td>\n",
       "      <td>pax</td>\n",
       "      <td>2017-08-20</td>\n",
       "      <td>26.000</td>\n",
       "      <td>26.000</td>\n",
       "      <td>NaN</td>\n",
       "    </tr>\n",
       "  </tbody>\n",
       "</table>\n",
       "</div>"
      ],
      "text/plain": [
       "        id  n_tickets type        date  channel_id  country_1 country_2\n",
       "0  1586391          2  pax  2017-12-16      37.000     24.000       NaN\n",
       "1   438232          2  pax  2017-04-25      39.000     24.000       NaN\n",
       "2   270896          1  pax  2017-11-04      28.000     24.000        xx\n",
       "3  1181593          2  pax  2017-07-24      28.000      9.000         7\n",
       "4   964842          1  pax  2017-08-20      26.000     26.000       NaN"
      ]
     },
     "execution_count": 6,
     "metadata": {},
     "output_type": "execute_result"
    }
   ],
   "source": [
    "sales_df.head()"
   ]
  },
  {
   "cell_type": "markdown",
   "metadata": {},
   "source": [
    "### Data description and cleaning"
   ]
  },
  {
   "cell_type": "code",
   "execution_count": 7,
   "metadata": {},
   "outputs": [
    {
     "data": {
      "text/plain": [
       "id              int64\n",
       "n_tickets       int64\n",
       "type           object\n",
       "date           object\n",
       "channel_id    float64\n",
       "country_1     float64\n",
       "country_2      object\n",
       "dtype: object"
      ]
     },
     "execution_count": 7,
     "metadata": {},
     "output_type": "execute_result"
    }
   ],
   "source": [
    "sales_df.dtypes"
   ]
  },
  {
   "cell_type": "code",
   "execution_count": 8,
   "metadata": {},
   "outputs": [],
   "source": [
    "sales_df['date'] = pd.to_datetime(sales_df['date'], format='%Y-%m-%d')\n",
    "sales_df['channel_id'] = sales_df['channel_id'].astype('object')\n",
    "sales_df['country_1'] = sales_df['country_1'].astype('object')"
   ]
  },
  {
   "cell_type": "code",
   "execution_count": 9,
   "metadata": {},
   "outputs": [
    {
     "data": {
      "text/plain": [
       "id                 0\n",
       "n_tickets          0\n",
       "type               0\n",
       "date               0\n",
       "channel_id    300031\n",
       "country_1      74718\n",
       "country_2     848129\n",
       "dtype: int64"
      ]
     },
     "execution_count": 9,
     "metadata": {},
     "output_type": "execute_result"
    }
   ],
   "source": [
    "# checking the number of NAs in all variables\n",
    "sales_df.isnull().sum()"
   ]
  },
  {
   "cell_type": "code",
   "execution_count": 10,
   "metadata": {},
   "outputs": [
    {
     "name": "stdout",
     "output_type": "stream",
     "text": [
      "id----    1970544\n",
      "n_tickets----    67\n",
      "type----    2\n",
      "date----    422\n",
      "channel_id----    30\n",
      "country_1----    24\n",
      "country_2----    21\n"
     ]
    }
   ],
   "source": [
    "# Unique Value counts\n",
    "for col in list(sales_df.columns):\n",
    "    print (str(col) + '----    ' + str(len(sales_df[col].unique())))"
   ]
  },
  {
   "cell_type": "code",
   "execution_count": 11,
   "metadata": {},
   "outputs": [
    {
     "data": {
      "text/plain": [
       "(Timestamp('2017-01-01 00:00:00'), Timestamp('2018-02-26 00:00:00'))"
      ]
     },
     "execution_count": 11,
     "metadata": {},
     "output_type": "execute_result"
    }
   ],
   "source": [
    "#start and end date in our data\n",
    "sales_df['date'].min(), sales_df['date'].max()"
   ]
  },
  {
   "cell_type": "code",
   "execution_count": 12,
   "metadata": {},
   "outputs": [],
   "source": [
    "def get_country_resolved(row):\n",
    "    if pd.isnull(row[0]):\n",
    "        return row[1]\n",
    "    else:\n",
    "        return row[0]\n",
    "sales_df['country_1'] = sales_df[['country_1', 'country_2']].apply(lambda x: get_country_resolved(x), axis=1)"
   ]
  },
  {
   "cell_type": "code",
   "execution_count": 13,
   "metadata": {},
   "outputs": [
    {
     "data": {
      "text/html": [
       "<div>\n",
       "<style scoped>\n",
       "    .dataframe tbody tr th:only-of-type {\n",
       "        vertical-align: middle;\n",
       "    }\n",
       "\n",
       "    .dataframe tbody tr th {\n",
       "        vertical-align: top;\n",
       "    }\n",
       "\n",
       "    .dataframe thead th {\n",
       "        text-align: right;\n",
       "    }\n",
       "</style>\n",
       "<table border=\"1\" class=\"dataframe\">\n",
       "  <thead>\n",
       "    <tr style=\"text-align: right;\">\n",
       "      <th></th>\n",
       "      <th>n_tickets</th>\n",
       "      <th>date</th>\n",
       "      <th>channel_id</th>\n",
       "      <th>country_1</th>\n",
       "    </tr>\n",
       "  </thead>\n",
       "  <tbody>\n",
       "    <tr>\n",
       "      <th>0</th>\n",
       "      <td>2</td>\n",
       "      <td>2017-12-16</td>\n",
       "      <td>37.000</td>\n",
       "      <td>24.000</td>\n",
       "    </tr>\n",
       "    <tr>\n",
       "      <th>1</th>\n",
       "      <td>2</td>\n",
       "      <td>2017-04-25</td>\n",
       "      <td>39.000</td>\n",
       "      <td>24.000</td>\n",
       "    </tr>\n",
       "    <tr>\n",
       "      <th>2</th>\n",
       "      <td>1</td>\n",
       "      <td>2017-11-04</td>\n",
       "      <td>28.000</td>\n",
       "      <td>24.000</td>\n",
       "    </tr>\n",
       "    <tr>\n",
       "      <th>3</th>\n",
       "      <td>2</td>\n",
       "      <td>2017-07-24</td>\n",
       "      <td>28.000</td>\n",
       "      <td>9.000</td>\n",
       "    </tr>\n",
       "    <tr>\n",
       "      <th>4</th>\n",
       "      <td>1</td>\n",
       "      <td>2017-08-20</td>\n",
       "      <td>26.000</td>\n",
       "      <td>26.000</td>\n",
       "    </tr>\n",
       "  </tbody>\n",
       "</table>\n",
       "</div>"
      ],
      "text/plain": [
       "   n_tickets       date  channel_id country_1\n",
       "0          2 2017-12-16      37.000    24.000\n",
       "1          2 2017-04-25      39.000    24.000\n",
       "2          1 2017-11-04      28.000    24.000\n",
       "3          2 2017-07-24      28.000     9.000\n",
       "4          1 2017-08-20      26.000    26.000"
      ]
     },
     "execution_count": 13,
     "metadata": {},
     "output_type": "execute_result"
    }
   ],
   "source": [
    "# giving a unique level to country_1 and channel_id missing values.\n",
    "sales_df[\"channel_id\"].fillna(1000.0, inplace = True) \n",
    "sales_df[\"country_1\"].fillna(1000.0, inplace = True)\n",
    "\n",
    "sales_df.drop(['country_2', 'type', 'id'], axis=1, inplace=True)\n",
    "sales_df.head()"
   ]
  },
  {
   "cell_type": "markdown",
   "metadata": {},
   "source": [
    "### Grouping data on daily basis considering channel_id and country_1 and take summation of n_tickets\n",
    "Merge daily data by grouping on date, channel_id & country_id_1 for further analysis & forecasting."
   ]
  },
  {
   "cell_type": "code",
   "execution_count": 14,
   "metadata": {},
   "outputs": [
    {
     "name": "stdout",
     "output_type": "stream",
     "text": [
      "(65804, 4)\n"
     ]
    },
    {
     "data": {
      "text/html": [
       "<div>\n",
       "<style scoped>\n",
       "    .dataframe tbody tr th:only-of-type {\n",
       "        vertical-align: middle;\n",
       "    }\n",
       "\n",
       "    .dataframe tbody tr th {\n",
       "        vertical-align: top;\n",
       "    }\n",
       "\n",
       "    .dataframe thead th {\n",
       "        text-align: right;\n",
       "    }\n",
       "</style>\n",
       "<table border=\"1\" class=\"dataframe\">\n",
       "  <thead>\n",
       "    <tr style=\"text-align: right;\">\n",
       "      <th></th>\n",
       "      <th>date</th>\n",
       "      <th>channel_id</th>\n",
       "      <th>country_1</th>\n",
       "      <th>n_tickets</th>\n",
       "    </tr>\n",
       "  </thead>\n",
       "  <tbody>\n",
       "    <tr>\n",
       "      <th>0</th>\n",
       "      <td>2017-01-01</td>\n",
       "      <td>23.000</td>\n",
       "      <td>20.000</td>\n",
       "      <td>2</td>\n",
       "    </tr>\n",
       "    <tr>\n",
       "      <th>90</th>\n",
       "      <td>2017-01-01</td>\n",
       "      <td>39.000</td>\n",
       "      <td>17</td>\n",
       "      <td>2</td>\n",
       "    </tr>\n",
       "    <tr>\n",
       "      <th>89</th>\n",
       "      <td>2017-01-01</td>\n",
       "      <td>39.000</td>\n",
       "      <td>0</td>\n",
       "      <td>2</td>\n",
       "    </tr>\n",
       "    <tr>\n",
       "      <th>88</th>\n",
       "      <td>2017-01-01</td>\n",
       "      <td>39.000</td>\n",
       "      <td>1000.000</td>\n",
       "      <td>154</td>\n",
       "    </tr>\n",
       "    <tr>\n",
       "      <th>87</th>\n",
       "      <td>2017-01-01</td>\n",
       "      <td>39.000</td>\n",
       "      <td>32.000</td>\n",
       "      <td>22</td>\n",
       "    </tr>\n",
       "    <tr>\n",
       "      <th>86</th>\n",
       "      <td>2017-01-01</td>\n",
       "      <td>39.000</td>\n",
       "      <td>31.000</td>\n",
       "      <td>12</td>\n",
       "    </tr>\n",
       "    <tr>\n",
       "      <th>85</th>\n",
       "      <td>2017-01-01</td>\n",
       "      <td>39.000</td>\n",
       "      <td>29.000</td>\n",
       "      <td>56</td>\n",
       "    </tr>\n",
       "    <tr>\n",
       "      <th>84</th>\n",
       "      <td>2017-01-01</td>\n",
       "      <td>39.000</td>\n",
       "      <td>28.000</td>\n",
       "      <td>6</td>\n",
       "    </tr>\n",
       "    <tr>\n",
       "      <th>83</th>\n",
       "      <td>2017-01-01</td>\n",
       "      <td>39.000</td>\n",
       "      <td>27.000</td>\n",
       "      <td>134</td>\n",
       "    </tr>\n",
       "    <tr>\n",
       "      <th>82</th>\n",
       "      <td>2017-01-01</td>\n",
       "      <td>39.000</td>\n",
       "      <td>26.000</td>\n",
       "      <td>42</td>\n",
       "    </tr>\n",
       "  </tbody>\n",
       "</table>\n",
       "</div>"
      ],
      "text/plain": [
       "         date  channel_id country_1  n_tickets\n",
       "0  2017-01-01      23.000    20.000          2\n",
       "90 2017-01-01      39.000        17          2\n",
       "89 2017-01-01      39.000         0          2\n",
       "88 2017-01-01      39.000  1000.000        154\n",
       "87 2017-01-01      39.000    32.000         22\n",
       "86 2017-01-01      39.000    31.000         12\n",
       "85 2017-01-01      39.000    29.000         56\n",
       "84 2017-01-01      39.000    28.000          6\n",
       "83 2017-01-01      39.000    27.000        134\n",
       "82 2017-01-01      39.000    26.000         42"
      ]
     },
     "execution_count": 14,
     "metadata": {},
     "output_type": "execute_result"
    }
   ],
   "source": [
    "sales_df = pd.DataFrame(sales_df.groupby(['date', 'channel_id', 'country_1']).sum())\n",
    "sales_df = sales_df.reset_index()\n",
    "sales_df = sales_df.sort_values(by=['date'], ascending=True)\n",
    "# sales_df.drop(['index'], axis=1, inplace=True)\n",
    "print(sales_df.shape)\n",
    "sales_df.head(10)"
   ]
  },
  {
   "cell_type": "markdown",
   "metadata": {},
   "source": [
    "#### This is the data we will use for analysis & forecasting.."
   ]
  },
  {
   "cell_type": "code",
   "execution_count": 15,
   "metadata": {},
   "outputs": [
    {
     "data": {
      "text/plain": [
       "<matplotlib.axes._subplots.AxesSubplot at 0x7f721f6cba58>"
      ]
     },
     "execution_count": 15,
     "metadata": {},
     "output_type": "execute_result"
    },
    {
     "data": {
      "image/png": "[encoded data removed]",
      "text/plain": [
       "<Figure size 432x288 with 1 Axes>"
      ]
     },
     "metadata": {
      "needs_background": "light"
     },
     "output_type": "display_data"
    }
   ],
   "source": [
    "sales_df.groupby('date').sum()['n_tickets'].plot()"
   ]
  },
  {
   "cell_type": "code",
   "execution_count": 44,
   "metadata": {},
   "outputs": [
    {
     "data": {
      "text/plain": [
       "<matplotlib.axes._subplots.AxesSubplot at 0x7f7226a06278>"
      ]
     },
     "execution_count": 44,
     "metadata": {},
     "output_type": "execute_result"
    },
    {
     "data": {
      "image/png": "[encoded data removed]",
      "text/plain": [
       "<Figure size 842.4x595.44 with 1 Axes>"
      ]
     },
     "metadata": {},
     "output_type": "display_data"
    }
   ],
   "source": [
    "sales_df[sales_df.month==10].groupby('date').sum()['n_tickets'].plot()"
   ]
  },
  {
   "cell_type": "code",
   "execution_count": 17,
   "metadata": {},
   "outputs": [
    {
     "data": {
      "text/plain": [
       "<matplotlib.axes._subplots.AxesSubplot at 0x7f72286de0f0>"
      ]
     },
     "execution_count": 17,
     "metadata": {},
     "output_type": "execute_result"
    },
    {
     "data": {
      "image/png": "[encoded data removed]",
      "text/plain": [
       "<Figure size 842.4x595.44 with 1 Axes>"
      ]
     },
     "metadata": {},
     "output_type": "display_data"
    }
   ],
   "source": [
    "sns.set(rc={'figure.figsize':(11.7,8.27)})\n",
    "t_plot = sales_df.head(2000)\n",
    "t_plot = t_plot.set_index(t_plot.date)\n",
    "sns.tsplot([t_plot.n_tickets], color=\"indianred\")"
   ]
  },
  {
   "cell_type": "code",
   "execution_count": 18,
   "metadata": {},
   "outputs": [],
   "source": [
    "## There are some sudden spikes in the data which we can further investigate"
   ]
  },
  {
   "cell_type": "code",
   "execution_count": 19,
   "metadata": {},
   "outputs": [],
   "source": [
    "# I have taken friday as weekend because most working class people travel on friday night\n",
    "#we can tweak this based on business inputs\n",
    "sales_df['weekend'] = ((sales_df.date.dt.dayofweek) // 4 == 1).astype('bool')"
   ]
  },
  {
   "cell_type": "code",
   "execution_count": 20,
   "metadata": {},
   "outputs": [
    {
     "data": {
      "text/plain": [
       "(65804, 12)"
      ]
     },
     "execution_count": 20,
     "metadata": {},
     "output_type": "execute_result"
    }
   ],
   "source": [
    "# Feature engineering with the date\n",
    "sales_df['year']=sales_df.date.dt.year.astype('object')\n",
    "sales_df['month']=sales_df.date.dt.month.astype('object')\n",
    "sales_df['day']=sales_df.date.dt.day.astype('object')\n",
    "sales_df['weekday']=sales_df.date.dt.weekday.astype('object')\n",
    "sales_df['month_end']=sales_df.date.dt.is_month_end\n",
    "sales_df['month_start']=sales_df.date.dt.is_month_start\n",
    "sales_df['week']=sales_df.date.dt.week\n",
    "\n",
    "sales_df['week'] = sales_df['week'].apply(lambda x: x+1)\n",
    "sales_df.loc[sales_df.week==53, 'week'] = 1\n",
    "\n",
    "sales_df.loc[sales_df['country_1']=='xx', 'country_1'] = 1001\n",
    "sales_df.shape"
   ]
  },
  {
   "cell_type": "code",
   "execution_count": 21,
   "metadata": {},
   "outputs": [],
   "source": [
    "# taking atleast one year data for train"
   ]
  },
  {
   "cell_type": "markdown",
   "metadata": {},
   "source": [
    "##### We will use complete one year data for exploration & model building (1 Jan 2017-2017) and rest of the data for testing our model(2 Jan’18 - 26 Feb’18)"
   ]
  },
  {
   "cell_type": "code",
   "execution_count": 22,
   "metadata": {},
   "outputs": [
    {
     "name": "stdout",
     "output_type": "stream",
     "text": [
      "(56680, 12) (9124, 12)\n"
     ]
    }
   ],
   "source": [
    "train = sales_df[sales_df['date'] < '2018-01-02']\n",
    "test = sales_df[(sales_df['date'] >= '2018-01-02')]\n",
    "print(train.shape, test.shape)"
   ]
  },
  {
   "cell_type": "code",
   "execution_count": 23,
   "metadata": {},
   "outputs": [],
   "source": [
    "def get_univariate_bar(cols, df, top_n):\n",
    "    cl_analysis = df.groupby(cols, as_index=False).agg({\"n_tickets\": ['count',\"sum\"]})\\\n",
    "                        .sort_values(by = [('n_tickets', 'sum')], \\\n",
    "                         ascending = [False])\n",
    "    sns.catplot(x=cols[0], y=('n_tickets','sum'), kind=\"bar\", data=cl_analysis.head(top_n));"
   ]
  },
  {
   "cell_type": "code",
   "execution_count": 24,
   "metadata": {},
   "outputs": [
    {
     "data": {
      "image/png": "[encoded data removed]",
      "text/plain": [
       "<Figure size 360x360 with 1 Axes>"
      ]
     },
     "metadata": {},
     "output_type": "display_data"
    }
   ],
   "source": [
    "get_univariate_bar(['month'], train, 12)"
   ]
  },
  {
   "cell_type": "code",
   "execution_count": 25,
   "metadata": {},
   "outputs": [
    {
     "data": {
      "image/png": "[encoded data removed]",
      "text/plain": [
       "<Figure size 360x360 with 1 Axes>"
      ]
     },
     "metadata": {},
     "output_type": "display_data"
    },
    {
     "data": {
      "image/png": "[encoded data removed]",
      "text/plain": [
       "<Figure size 360x360 with 1 Axes>"
      ]
     },
     "metadata": {},
     "output_type": "display_data"
    }
   ],
   "source": [
    "get_univariate_bar(['channel_id'], train, 5)\n",
    "get_univariate_bar(['channel_id'], test, 5)"
   ]
  },
  {
   "cell_type": "markdown",
   "metadata": {},
   "source": [
    "- Most of the sales is coming from channels 39, 28, 37, 35 and 1000(NA)\n",
    "- Maximum sales is coming from channel 39 (could be any organic channel eg. google search)"
   ]
  },
  {
   "cell_type": "code",
   "execution_count": 26,
   "metadata": {},
   "outputs": [
    {
     "data": {
      "image/png": "[encoded data removed]",
      "text/plain": [
       "<Figure size 360x360 with 1 Axes>"
      ]
     },
     "metadata": {},
     "output_type": "display_data"
    },
    {
     "data": {
      "image/png": "[encoded data removed]",
      "text/plain": [
       "<Figure size 360x360 with 1 Axes>"
      ]
     },
     "metadata": {},
     "output_type": "display_data"
    }
   ],
   "source": [
    "get_univariate_bar(['country_1'], train, 5)\n",
    "get_univariate_bar(['country_1'], test, 5)"
   ]
  },
  {
   "cell_type": "markdown",
   "metadata": {},
   "source": [
    "- Most of the sales is coming from Countries 24, 4, 11, 12 and 1000(NA)\n",
    "- Maximum sales is coming from country 24(could be Germany)"
   ]
  },
  {
   "cell_type": "code",
   "execution_count": 27,
   "metadata": {},
   "outputs": [
    {
     "data": {
      "text/plain": [
       "<matplotlib.axes._subplots.AxesSubplot at 0x7f7226a389e8>"
      ]
     },
     "execution_count": 27,
     "metadata": {},
     "output_type": "execute_result"
    },
    {
     "data": {
      "image/png": "[encoded data removed]",
      "text/plain": [
       "<Figure size 842.4x595.44 with 1 Axes>"
      ]
     },
     "metadata": {},
     "output_type": "display_data"
    }
   ],
   "source": [
    "train.groupby('week').sum()['n_tickets'].plot()"
   ]
  },
  {
   "cell_type": "markdown",
   "metadata": {},
   "source": [
    "- First & Second week of January observed the highest sales, when people go to or come back from their home land for work\n",
    "- Also, First week of October observed huge tickets sales because of Oktoberfest"
   ]
  },
  {
   "cell_type": "code",
   "execution_count": 28,
   "metadata": {},
   "outputs": [],
   "source": [
    "def get_bivariate_bar(cols, df):\n",
    "    wcc_analysis = df.groupby(cols, as_index=False).agg({\"n_tickets\": ['count',\"sum\"]})\n",
    "    colm = []\n",
    "    for col in wcc_analysis.columns:\n",
    "        if col[1] == '':\n",
    "            colm.append(''.join(col))\n",
    "        else:\n",
    "#             print('_'.join(col)+'_'+cols[0]+'_'+cols[1])\n",
    "            colm.append('_'.join(col)+'_'+cols[0]+'_'+cols[1])\n",
    "    wcc_analysis.columns = colm\n",
    "    wcc_analysis['rank'] = wcc_analysis.groupby(cols[0])['n_tickets_sum_'+cols[0]+'_'+cols[1]].rank(ascending=False)\n",
    "    return wcc_analysis"
   ]
  },
  {
   "cell_type": "code",
   "execution_count": 29,
   "metadata": {},
   "outputs": [
    {
     "data": {
      "image/png": "[encoded data removed]",
      "text/plain": [
       "<Figure size 413.6x360 with 1 Axes>"
      ]
     },
     "metadata": {},
     "output_type": "display_data"
    }
   ],
   "source": [
    "mchn = get_bivariate_bar(['month','channel_id'], train)\n",
    "top_5_channel = mchn[(mchn['channel_id'] == 39 )| (mchn['channel_id'] == 35) | (mchn['channel_id'] == 28)|(mchn['channel_id'] == 37) | (mchn['channel_id'] == 1000)]\n",
    "sns.catplot(x = 'channel_id', y='n_tickets_sum_month_channel_id', hue= 'month', kind = 'swarm', data = top_5_channel);"
   ]
  },
  {
   "cell_type": "markdown",
   "metadata": {},
   "source": [
    "- From channel 39, maximum sales is observed in October month (could be people come for oktoberfest and then travel in Europe)\n",
    "- February seems to be the month of least sales in all the top 5 channels (could be people have come back from New year and Christmas vacations and now they want to just settle down)"
   ]
  },
  {
   "cell_type": "code",
   "execution_count": 30,
   "metadata": {
    "scrolled": true
   },
   "outputs": [
    {
     "data": {
      "image/png": "[encoded data removed]",
      "text/plain": [
       "<Figure size 413.6x360 with 1 Axes>"
      ]
     },
     "metadata": {},
     "output_type": "display_data"
    }
   ],
   "source": [
    "mcntry = get_bivariate_bar(['month','country_1'], train)\n",
    "top_5_country = mcntry[(mcntry['country_1'] == 24 )| (mcntry['country_1'] == 4) | (mcntry['country_1'] == 11)|(mcntry['country_1'] == 12) | (mcntry['country_1'] == 1000)]\n",
    "sns.catplot(x = 'country_1', y='n_tickets_sum_month_country_1', hue= 'month' , kind = 'bar', data = top_5_country, ci = None);"
   ]
  },
  {
   "cell_type": "markdown",
   "metadata": {},
   "source": [
    "- From country 24, maximum sales is observed in October month followed by January (Oktoberfest & New Year)\n",
    "- February seems to be the month of least sales in all the top 5 countries (seems to be a global thought process of settling down)\n"
   ]
  },
  {
   "cell_type": "code",
   "execution_count": 31,
   "metadata": {
    "scrolled": true
   },
   "outputs": [
    {
     "data": {
      "image/png": "[encoded data removed]",
      "text/plain": [
       "<Figure size 414.675x360 with 1 Axes>"
      ]
     },
     "metadata": {},
     "output_type": "display_data"
    }
   ],
   "source": [
    "mweek = get_bivariate_bar(['month', 'weekday'], train)\n",
    "sns.catplot(x=\"month\", y=\"n_tickets_sum_month_weekday\", hue=\"weekday\", kind=\"swarm\", data=mweek);"
   ]
  },
  {
   "cell_type": "markdown",
   "metadata": {},
   "source": [
    "- January, July and October are the months when maximum sales is observed on Mondays (because demand is high in these months and that’s why people might pre-plan their trips)\n",
    "\n",
    "- March, June, November are the months when maximum sales is observed on Thursdays(because demand is not so high in these months and that’s why people might book their trips just in time)\n",
    "\n",
    "- Saturday seems to be the day of least sales which shows people travel less on Saturdays (because people might spend their Saturdays in planning)"
   ]
  },
  {
   "cell_type": "code",
   "execution_count": 32,
   "metadata": {
    "scrolled": true
   },
   "outputs": [
    {
     "data": {
      "image/png": "[encoded data removed]",
      "text/plain": [
       "<Figure size 428.459x360 with 1 Axes>"
      ]
     },
     "metadata": {},
     "output_type": "display_data"
    }
   ],
   "source": [
    "mweekend = get_bivariate_bar(['month', 'weekend'],train)\n",
    "sns.catplot(x=\"month\", y=\"n_tickets_sum_month_weekend\", hue=\"weekend\", kind=\"point\", data=mweekend);"
   ]
  },
  {
   "cell_type": "markdown",
   "metadata": {},
   "source": [
    "- Mostly, sales is high over the weekdays as compared to weekends(including Fridays) (because people might plan their trips on weekends)\n",
    "\n",
    "- In September and December, although, sales on weekdays decreases, there is a sudden increase in the sales on weekends (could be some marketing campaign for discounts etc)"
   ]
  },
  {
   "cell_type": "markdown",
   "metadata": {},
   "source": [
    "# Forecasting Model:"
   ]
  },
  {
   "cell_type": "markdown",
   "metadata": {},
   "source": [
    "### Encoder-Decoder LSTM Model for multi step (10 days) forecasting"
   ]
  },
  {
   "cell_type": "code",
   "execution_count": 33,
   "metadata": {},
   "outputs": [],
   "source": [
    "x_train = train[['date','n_tickets', 'channel_id', 'country_1', 'weekend',\n",
    "       'month', 'day', 'weekday', 'month_end', 'month_start'\n",
    "        ]]\n",
    "x_test = test[['date','n_tickets', 'channel_id', 'country_1', 'weekend',\n",
    "       'month', 'day', 'weekday', 'month_end', 'month_start'\n",
    "       ]]"
   ]
  },
  {
   "cell_type": "code",
   "execution_count": 34,
   "metadata": {},
   "outputs": [],
   "source": [
    "dataset = x_train.append(x_test)\n",
    "dataset = dataset.set_index('date')"
   ]
  },
  {
   "cell_type": "code",
   "execution_count": 35,
   "metadata": {},
   "outputs": [
    {
     "data": {
      "text/html": [
       "<div>\n",
       "<style scoped>\n",
       "    .dataframe tbody tr th:only-of-type {\n",
       "        vertical-align: middle;\n",
       "    }\n",
       "\n",
       "    .dataframe tbody tr th {\n",
       "        vertical-align: top;\n",
       "    }\n",
       "\n",
       "    .dataframe thead th {\n",
       "        text-align: right;\n",
       "    }\n",
       "</style>\n",
       "<table border=\"1\" class=\"dataframe\">\n",
       "  <thead>\n",
       "    <tr style=\"text-align: right;\">\n",
       "      <th></th>\n",
       "      <th>n_tickets</th>\n",
       "      <th>channel_id</th>\n",
       "      <th>country_1</th>\n",
       "      <th>weekend</th>\n",
       "      <th>month</th>\n",
       "      <th>day</th>\n",
       "      <th>weekday</th>\n",
       "      <th>month_end</th>\n",
       "      <th>month_start</th>\n",
       "    </tr>\n",
       "    <tr>\n",
       "      <th>date</th>\n",
       "      <th></th>\n",
       "      <th></th>\n",
       "      <th></th>\n",
       "      <th></th>\n",
       "      <th></th>\n",
       "      <th></th>\n",
       "      <th></th>\n",
       "      <th></th>\n",
       "      <th></th>\n",
       "    </tr>\n",
       "  </thead>\n",
       "  <tbody>\n",
       "    <tr>\n",
       "      <th>2017-01-01</th>\n",
       "      <td>2</td>\n",
       "      <td>23.000</td>\n",
       "      <td>20.000</td>\n",
       "      <td>True</td>\n",
       "      <td>1</td>\n",
       "      <td>1</td>\n",
       "      <td>6</td>\n",
       "      <td>False</td>\n",
       "      <td>True</td>\n",
       "    </tr>\n",
       "    <tr>\n",
       "      <th>2017-01-01</th>\n",
       "      <td>2</td>\n",
       "      <td>39.000</td>\n",
       "      <td>17</td>\n",
       "      <td>True</td>\n",
       "      <td>1</td>\n",
       "      <td>1</td>\n",
       "      <td>6</td>\n",
       "      <td>False</td>\n",
       "      <td>True</td>\n",
       "    </tr>\n",
       "    <tr>\n",
       "      <th>2017-01-01</th>\n",
       "      <td>2</td>\n",
       "      <td>39.000</td>\n",
       "      <td>0</td>\n",
       "      <td>True</td>\n",
       "      <td>1</td>\n",
       "      <td>1</td>\n",
       "      <td>6</td>\n",
       "      <td>False</td>\n",
       "      <td>True</td>\n",
       "    </tr>\n",
       "    <tr>\n",
       "      <th>2017-01-01</th>\n",
       "      <td>154</td>\n",
       "      <td>39.000</td>\n",
       "      <td>1000.000</td>\n",
       "      <td>True</td>\n",
       "      <td>1</td>\n",
       "      <td>1</td>\n",
       "      <td>6</td>\n",
       "      <td>False</td>\n",
       "      <td>True</td>\n",
       "    </tr>\n",
       "    <tr>\n",
       "      <th>2017-01-01</th>\n",
       "      <td>22</td>\n",
       "      <td>39.000</td>\n",
       "      <td>32.000</td>\n",
       "      <td>True</td>\n",
       "      <td>1</td>\n",
       "      <td>1</td>\n",
       "      <td>6</td>\n",
       "      <td>False</td>\n",
       "      <td>True</td>\n",
       "    </tr>\n",
       "  </tbody>\n",
       "</table>\n",
       "</div>"
      ],
      "text/plain": [
       "            n_tickets  channel_id country_1  weekend month day weekday  \\\n",
       "date                                                                     \n",
       "2017-01-01          2      23.000    20.000     True     1   1       6   \n",
       "2017-01-01          2      39.000        17     True     1   1       6   \n",
       "2017-01-01          2      39.000         0     True     1   1       6   \n",
       "2017-01-01        154      39.000  1000.000     True     1   1       6   \n",
       "2017-01-01         22      39.000    32.000     True     1   1       6   \n",
       "\n",
       "            month_end  month_start  \n",
       "date                                \n",
       "2017-01-01      False         True  \n",
       "2017-01-01      False         True  \n",
       "2017-01-01      False         True  \n",
       "2017-01-01      False         True  \n",
       "2017-01-01      False         True  "
      ]
     },
     "execution_count": 35,
     "metadata": {},
     "output_type": "execute_result"
    }
   ],
   "source": [
    "dataset.head()"
   ]
  },
  {
   "cell_type": "code",
   "execution_count": 36,
   "metadata": {},
   "outputs": [],
   "source": [
    "# x_train = train[['date','n_tickets', 'channel_id', 'country_1', 'weekend',\n",
    "#        'month', 'day', 'weekday', 'month_end', 'month_start'\n",
    "#         ]]\n",
    "\n",
    "# x_val = val[['date','n_tickets','channel_id', 'country_1', 'weekend',\n",
    "#        'month', 'day', 'weekday', 'month_end', 'month_start'\n",
    "#        ]]\n",
    "\n",
    "# x_test = test[['date','n_tickets', 'channel_id', 'country_1', 'weekend',\n",
    "#        'month', 'day', 'weekday', 'month_end', 'month_start'\n",
    "#        ]]"
   ]
  },
  {
   "cell_type": "code",
   "execution_count": 37,
   "metadata": {},
   "outputs": [],
   "source": [
    "dataset.weekend = dataset.weekend.apply(lambda x: 1 if x else 0)\n",
    "dataset.month_end = dataset.month_end.apply(lambda x: 1 if x else 0)\n",
    "dataset.month_start = dataset.month_start.apply(lambda x: 1 if x else 0)"
   ]
  },
  {
   "cell_type": "code",
   "execution_count": 38,
   "metadata": {},
   "outputs": [
    {
     "data": {
      "text/plain": [
       "n_tickets        int64\n",
       "channel_id     float64\n",
       "country_1       object\n",
       "weekend          int64\n",
       "month           object\n",
       "day             object\n",
       "weekday         object\n",
       "month_end        int64\n",
       "month_start      int64\n",
       "dtype: object"
      ]
     },
     "execution_count": 38,
     "metadata": {},
     "output_type": "execute_result"
    }
   ],
   "source": [
    "dataset.dtypes"
   ]
  },
  {
   "cell_type": "code",
   "execution_count": 39,
   "metadata": {},
   "outputs": [],
   "source": [
    "dataset.n_tickets = dataset.n_tickets.astype('float32')\n",
    "dataset.month_end = dataset.month_end.astype('float32')\n",
    "dataset.weekend = dataset.weekend.astype('float32')\n",
    "dataset.month_start = dataset.month_start.astype('float32')\n",
    "dataset.channel_id = dataset.channel_id.astype('float32')\n",
    "dataset.country_1 = dataset.country_1.astype('float32')\n",
    "dataset.month = dataset.month.astype('float32')\n",
    "dataset.weekday = dataset.weekday.astype('float32')\n",
    "dataset.day = dataset.day.astype('float32')"
   ]
  },
  {
   "cell_type": "code",
   "execution_count": 40,
   "metadata": {},
   "outputs": [
    {
     "name": "stdout",
     "output_type": "stream",
     "text": [
      "(56680, 9) (9124, 9)\n"
     ]
    }
   ],
   "source": [
    "# split dataset into train/test sets\n",
    "def split_dataset(train, test):\n",
    "    # restructure into windows of 10 data points\n",
    "    train = array(split(train, len(train)/10))\n",
    "    test = array(split(test, len(test)/10))\n",
    "    return train, test\n",
    "train, test = dataset[dataset.index < '2018-01-02'], dataset[dataset.index >= '2018-01-02']\n",
    "print(train.shape, test.shape)"
   ]
  },
  {
   "cell_type": "code",
   "execution_count": 41,
   "metadata": {},
   "outputs": [],
   "source": [
    "train_df = train\n",
    "test_df = test\n",
    "test_index_df = test_df"
   ]
  },
  {
   "cell_type": "code",
   "execution_count": 42,
   "metadata": {},
   "outputs": [],
   "source": [
    "list_of_indexes=[]\n",
    "train_df= train_df.reset_index()\n",
    "train_df.drop(['date'],axis=1, inplace=True)\n",
    "train_df.index.to_series().rolling(10).apply((lambda x: list_of_indexes.append(x.tolist()) or 0), raw=False)\n",
    "list_of_indexes\n",
    "\n",
    "train_df = train_df.apply(tuple,axis=1).apply(list)\n",
    "train = [[train_df[ix] for ix in x] for x in list_of_indexes]\n",
    "train = np.array(train)"
   ]
  },
  {
   "cell_type": "code",
   "execution_count": 43,
   "metadata": {},
   "outputs": [],
   "source": [
    "list_of_indexes=[]\n",
    "test_df= test_df.reset_index()\n",
    "test_df.drop(['date'],axis=1, inplace=True)\n",
    "test_df.index.to_series().rolling(10).apply((lambda x: list_of_indexes.append(x.tolist()) or 0), raw=False)\n",
    "list_of_indexes\n",
    "\n",
    "test_df = test_df.apply(tuple,axis=1).apply(list)\n",
    "test = [[test_df[ix] for ix in x] for x in list_of_indexes]\n",
    "test = np.array(test)"
   ]
  },
  {
   "cell_type": "code",
   "execution_count": 281,
   "metadata": {},
   "outputs": [],
   "source": [
    "# train, test = split_dataset(train.values, test[:9120].values) # removing last 4 obs for bucketing into groups of 10"
   ]
  },
  {
   "cell_type": "code",
   "execution_count": 108,
   "metadata": {},
   "outputs": [],
   "source": [
    "# evaluate forecasts against expected values\n",
    "def evaluate_forecasts(actual, predicted):\n",
    "    scores = list()\n",
    "    # calculate an RMSE score for each day\n",
    "    for i in range(actual.shape[1]):\n",
    "        # calculate mse\n",
    "        mse = mean_squared_error(actual[:, i], predicted[:, i])\n",
    "        # calculate rmse\n",
    "        rmse = sqrt(mse)\n",
    "        scores.append(rmse)\n",
    "    # calculate overall RMSE\n",
    "    s = 0\n",
    "    for row in range(actual.shape[0]):\n",
    "        for col in range(actual.shape[1]):\n",
    "            s += (actual[row, col] - predicted[row, col])**2\n",
    "    score = sqrt(s / (actual.shape[0] * actual.shape[1]))\n",
    "    return score, scores\n",
    "\n",
    "# summarize scores\n",
    "def summarize_scores(name, score, scores):\n",
    "    s_scores = ', '.join(['%.1f' % s for s in scores])\n",
    "    print('%s: [%.3f] %s' % (name, score, s_scores))\n",
    "\n",
    "# convert history into inputs and outputs\n",
    "def to_supervised(train, n_input, n_out=10):\n",
    "    # flatten data\n",
    "    data = train.reshape((train.shape[0]*train.shape[1], train.shape[2]))\n",
    "    X, y = list(), list()\n",
    "    in_start = 0\n",
    "    # step over the entire history one time step at a time\n",
    "    for _ in range(len(data)):\n",
    "        # define the end of the input sequence\n",
    "        in_end = in_start + n_input\n",
    "        out_end = in_end + n_out\n",
    "    # ensure we have enough data for this instance\n",
    "        if out_end < len(data):\n",
    "            X.append(data[in_start:in_end, :])\n",
    "            y.append(data[in_end:out_end, 0])\n",
    "        # move along one time step\n",
    "        in_start += 1\n",
    "    return array(X), array(y)\n",
    "\n",
    "# train the model\n",
    "def build_model(train, n_input):\n",
    "    # prepare data\n",
    "    train_x, train_y = to_supervised(train, n_input)\n",
    "    # define parameters\n",
    "    verbose, epochs, batch_size = 1, 1, 64\n",
    "    n_timesteps, n_features, n_outputs = train_x.shape[1], train_x.shape[2], train_y.shape[1]\n",
    "    print(n_timesteps, n_features, n_outputs)\n",
    "    # reshape output into [samples, timesteps, features]\n",
    "    train_y = train_y.reshape((train_y.shape[0], train_y.shape[1], 1))\n",
    "    # define model\n",
    "    model = Sequential()\n",
    "    model.add(LSTM(200, activation='relu', input_shape=(n_timesteps, n_features)))\n",
    "    model.add(RepeatVector(n_outputs))\n",
    "    model.add(LSTM(200, activation='relu', return_sequences=True))\n",
    "    model.add(TimeDistributed(Dense(100, activation='relu')))\n",
    "    model.add(TimeDistributed(Dense(1)))\n",
    "    model.compile(loss='mse', optimizer='adam')\n",
    "    # fit network\n",
    "    model.fit(train_x, train_y, epochs=epochs, batch_size=batch_size, verbose=verbose)\n",
    "    return model\n",
    "\n",
    "# make a forecast\n",
    "def forecast(model, history, n_input):\n",
    "    # flatten data\n",
    "    data = array(history)\n",
    "    data = data.reshape((data.shape[0]*data.shape[1], data.shape[2]))\n",
    "    # retrieve last observations for input data\n",
    "    input_x = data[-n_input:, :]\n",
    "    # reshape into [1, n_input, n]\n",
    "    input_x = input_x.reshape((1, input_x.shape[0], input_x.shape[1]))\n",
    "    # forecast the next 10 days\n",
    "    yhat = model.predict(input_x, verbose=0)\n",
    "    # we only want the vector forecast\n",
    "    yhat = yhat[0]\n",
    "    return yhat\n",
    "\n",
    "# evaluate a single model\n",
    "def evaluate_model(train, test, n_input):\n",
    "    # fit model\n",
    "    model = build_model(train, n_input)\n",
    "    # history is a list of 10 days data\n",
    "    history = [x for x in train]\n",
    "    # walk-forward validation over 10 days\n",
    "    predictions = list()\n",
    "    for i in range(len(test)):\n",
    "        # predict for 10 days\n",
    "        yhat_sequence = forecast(model, history, n_input)\n",
    "        # store the predictions\n",
    "        predictions.append(yhat_sequence)\n",
    "        # get real observation and add to history for predicting next 10 days\n",
    "        history.append(test[i, :])\n",
    "    # evaluate predictions days for 10 days\n",
    "    predictions = array(predictions)\n",
    "    score, scores = evaluate_forecasts(test[:, :, 0], predictions)\n",
    "    return predictions, score, scores"
   ]
  },
  {
   "cell_type": "code",
   "execution_count": 196,
   "metadata": {},
   "outputs": [
    {
     "name": "stdout",
     "output_type": "stream",
     "text": [
      "10 9 10\n",
      "Epoch 1/1\n",
      "566690/566690 [==============================] - 1047s 2ms/step - loss: 28541.8827\n",
      "lstm: [178.029] 165.7, 166.6, 182.4, 181.5, 181.4, 180.5, 152.5, 154.8, 187.6, 218.3\n"
     ]
    }
   ],
   "source": [
    "n_input = 10\n",
    "pred, score, scores = evaluate_model(train, test, n_input)\n",
    "# summarize scores\n",
    "summarize_scores('lstm', score, scores)"
   ]
  },
  {
   "cell_type": "code",
   "execution_count": 283,
   "metadata": {},
   "outputs": [
    {
     "data": {
      "text/plain": [
       "10"
      ]
     },
     "execution_count": 283,
     "metadata": {},
     "output_type": "execute_result"
    }
   ],
   "source": [
    "n_input"
   ]
  },
  {
   "cell_type": "code",
   "execution_count": 284,
   "metadata": {},
   "outputs": [
    {
     "data": {
      "text/plain": [
       "(178.02890592243318,\n",
       " [165.72464746242443,\n",
       "  166.5984449904083,\n",
       "  182.392170390096,\n",
       "  181.48667561278245,\n",
       "  181.40562632184407,\n",
       "  180.47914543938572,\n",
       "  152.46658512049297,\n",
       "  154.841501009647,\n",
       "  187.6354507460779,\n",
       "  218.27392488630528])"
      ]
     },
     "execution_count": 284,
     "metadata": {},
     "output_type": "execute_result"
    }
   ],
   "source": [
    "score, scores"
   ]
  },
  {
   "cell_type": "code",
   "execution_count": 285,
   "metadata": {},
   "outputs": [
    {
     "data": {
      "image/png": "[encoded data removed]",
      "text/plain": [
       "<Figure size 842.4x595.44 with 1 Axes>"
      ]
     },
     "metadata": {},
     "output_type": "display_data"
    }
   ],
   "source": [
    "# plot scores\n",
    "days = ['1', '2', '3', '4', '5', '6', '7', '8', '9','10']\n",
    "pyplot.plot(days, scores, marker='o', label='lstm')\n",
    "pyplot.show()"
   ]
  },
  {
   "cell_type": "code",
   "execution_count": 286,
   "metadata": {},
   "outputs": [
    {
     "data": {
      "text/plain": [
       "(9115, 10, 9)"
      ]
     },
     "execution_count": 286,
     "metadata": {},
     "output_type": "execute_result"
    }
   ],
   "source": [
    "test.shape"
   ]
  },
  {
   "cell_type": "code",
   "execution_count": 287,
   "metadata": {},
   "outputs": [
    {
     "data": {
      "text/plain": [
       "array([[  93.,   39.,   23.,    0.,    1.,    2.,    1.,    0.,    0.],\n",
       "       [  70.,   39.,   26.,    0.,    1.,    2.,    1.,    0.,    0.],\n",
       "       [2720.,   39.,   24.,    0.,    1.,    2.,    1.,    0.,    0.],\n",
       "       [   1.,   39.,   16.,    0.,    1.,    2.,    1.,    0.,    0.],\n",
       "       [  43.,   39.,   20.,    0.,    1.,    2.,    1.,    0.,    0.],\n",
       "       [ 117.,   39.,   27.,    0.,    1.,    2.,    1.,    0.,    0.],\n",
       "       [  27.,   39.,   19.,    0.,    1.,    2.,    1.,    0.,    0.],\n",
       "       [  10.,   39.,   17.,    0.,    1.,    2.,    1.,    0.,    0.],\n",
       "       [  71.,   39.,   21.,    0.,    1.,    2.,    1.,    0.,    0.],\n",
       "       [   5.,   39.,   28.,    0.,    1.,    2.,    1.,    0.,    0.]])"
      ]
     },
     "execution_count": 287,
     "metadata": {},
     "output_type": "execute_result"
    }
   ],
   "source": [
    "test[0]"
   ]
  },
  {
   "cell_type": "code",
   "execution_count": 288,
   "metadata": {},
   "outputs": [],
   "source": [
    "import numpy as np\n",
    "import pandas as pd\n",
    "np.random.seed(2016)\n",
    "\n",
    "df = pd.DataFrame(test.reshape(-1, 9), columns=['n_tickets', 'channel_id', 'country_1', 'weekend', 'month', 'day',\n",
    "       'weekday', 'month_end', 'month_start'])\n",
    "df['ten_days'] = np.repeat(np.arange(test.shape[0]), test.shape[1]) + 1"
   ]
  },
  {
   "cell_type": "code",
   "execution_count": 289,
   "metadata": {},
   "outputs": [
    {
     "data": {
      "text/html": [
       "<div>\n",
       "<style scoped>\n",
       "    .dataframe tbody tr th:only-of-type {\n",
       "        vertical-align: middle;\n",
       "    }\n",
       "\n",
       "    .dataframe tbody tr th {\n",
       "        vertical-align: top;\n",
       "    }\n",
       "\n",
       "    .dataframe thead th {\n",
       "        text-align: right;\n",
       "    }\n",
       "</style>\n",
       "<table border=\"1\" class=\"dataframe\">\n",
       "  <thead>\n",
       "    <tr style=\"text-align: right;\">\n",
       "      <th></th>\n",
       "      <th>n_tickets</th>\n",
       "      <th>channel_id</th>\n",
       "      <th>country_1</th>\n",
       "      <th>weekend</th>\n",
       "      <th>month</th>\n",
       "      <th>day</th>\n",
       "      <th>weekday</th>\n",
       "      <th>month_end</th>\n",
       "      <th>month_start</th>\n",
       "      <th>ten_days</th>\n",
       "    </tr>\n",
       "  </thead>\n",
       "  <tbody>\n",
       "    <tr>\n",
       "      <th>0</th>\n",
       "      <td>93.000</td>\n",
       "      <td>39.000</td>\n",
       "      <td>23.000</td>\n",
       "      <td>0.000</td>\n",
       "      <td>1.000</td>\n",
       "      <td>2.000</td>\n",
       "      <td>1.000</td>\n",
       "      <td>0.000</td>\n",
       "      <td>0.000</td>\n",
       "      <td>1</td>\n",
       "    </tr>\n",
       "    <tr>\n",
       "      <th>1</th>\n",
       "      <td>70.000</td>\n",
       "      <td>39.000</td>\n",
       "      <td>26.000</td>\n",
       "      <td>0.000</td>\n",
       "      <td>1.000</td>\n",
       "      <td>2.000</td>\n",
       "      <td>1.000</td>\n",
       "      <td>0.000</td>\n",
       "      <td>0.000</td>\n",
       "      <td>1</td>\n",
       "    </tr>\n",
       "    <tr>\n",
       "      <th>2</th>\n",
       "      <td>2720.000</td>\n",
       "      <td>39.000</td>\n",
       "      <td>24.000</td>\n",
       "      <td>0.000</td>\n",
       "      <td>1.000</td>\n",
       "      <td>2.000</td>\n",
       "      <td>1.000</td>\n",
       "      <td>0.000</td>\n",
       "      <td>0.000</td>\n",
       "      <td>1</td>\n",
       "    </tr>\n",
       "    <tr>\n",
       "      <th>3</th>\n",
       "      <td>1.000</td>\n",
       "      <td>39.000</td>\n",
       "      <td>16.000</td>\n",
       "      <td>0.000</td>\n",
       "      <td>1.000</td>\n",
       "      <td>2.000</td>\n",
       "      <td>1.000</td>\n",
       "      <td>0.000</td>\n",
       "      <td>0.000</td>\n",
       "      <td>1</td>\n",
       "    </tr>\n",
       "    <tr>\n",
       "      <th>4</th>\n",
       "      <td>43.000</td>\n",
       "      <td>39.000</td>\n",
       "      <td>20.000</td>\n",
       "      <td>0.000</td>\n",
       "      <td>1.000</td>\n",
       "      <td>2.000</td>\n",
       "      <td>1.000</td>\n",
       "      <td>0.000</td>\n",
       "      <td>0.000</td>\n",
       "      <td>1</td>\n",
       "    </tr>\n",
       "    <tr>\n",
       "      <th>5</th>\n",
       "      <td>117.000</td>\n",
       "      <td>39.000</td>\n",
       "      <td>27.000</td>\n",
       "      <td>0.000</td>\n",
       "      <td>1.000</td>\n",
       "      <td>2.000</td>\n",
       "      <td>1.000</td>\n",
       "      <td>0.000</td>\n",
       "      <td>0.000</td>\n",
       "      <td>1</td>\n",
       "    </tr>\n",
       "    <tr>\n",
       "      <th>6</th>\n",
       "      <td>27.000</td>\n",
       "      <td>39.000</td>\n",
       "      <td>19.000</td>\n",
       "      <td>0.000</td>\n",
       "      <td>1.000</td>\n",
       "      <td>2.000</td>\n",
       "      <td>1.000</td>\n",
       "      <td>0.000</td>\n",
       "      <td>0.000</td>\n",
       "      <td>1</td>\n",
       "    </tr>\n",
       "    <tr>\n",
       "      <th>7</th>\n",
       "      <td>10.000</td>\n",
       "      <td>39.000</td>\n",
       "      <td>17.000</td>\n",
       "      <td>0.000</td>\n",
       "      <td>1.000</td>\n",
       "      <td>2.000</td>\n",
       "      <td>1.000</td>\n",
       "      <td>0.000</td>\n",
       "      <td>0.000</td>\n",
       "      <td>1</td>\n",
       "    </tr>\n",
       "    <tr>\n",
       "      <th>8</th>\n",
       "      <td>71.000</td>\n",
       "      <td>39.000</td>\n",
       "      <td>21.000</td>\n",
       "      <td>0.000</td>\n",
       "      <td>1.000</td>\n",
       "      <td>2.000</td>\n",
       "      <td>1.000</td>\n",
       "      <td>0.000</td>\n",
       "      <td>0.000</td>\n",
       "      <td>1</td>\n",
       "    </tr>\n",
       "    <tr>\n",
       "      <th>9</th>\n",
       "      <td>5.000</td>\n",
       "      <td>39.000</td>\n",
       "      <td>28.000</td>\n",
       "      <td>0.000</td>\n",
       "      <td>1.000</td>\n",
       "      <td>2.000</td>\n",
       "      <td>1.000</td>\n",
       "      <td>0.000</td>\n",
       "      <td>0.000</td>\n",
       "      <td>1</td>\n",
       "    </tr>\n",
       "    <tr>\n",
       "      <th>10</th>\n",
       "      <td>70.000</td>\n",
       "      <td>39.000</td>\n",
       "      <td>26.000</td>\n",
       "      <td>0.000</td>\n",
       "      <td>1.000</td>\n",
       "      <td>2.000</td>\n",
       "      <td>1.000</td>\n",
       "      <td>0.000</td>\n",
       "      <td>0.000</td>\n",
       "      <td>2</td>\n",
       "    </tr>\n",
       "    <tr>\n",
       "      <th>11</th>\n",
       "      <td>2720.000</td>\n",
       "      <td>39.000</td>\n",
       "      <td>24.000</td>\n",
       "      <td>0.000</td>\n",
       "      <td>1.000</td>\n",
       "      <td>2.000</td>\n",
       "      <td>1.000</td>\n",
       "      <td>0.000</td>\n",
       "      <td>0.000</td>\n",
       "      <td>2</td>\n",
       "    </tr>\n",
       "    <tr>\n",
       "      <th>12</th>\n",
       "      <td>1.000</td>\n",
       "      <td>39.000</td>\n",
       "      <td>16.000</td>\n",
       "      <td>0.000</td>\n",
       "      <td>1.000</td>\n",
       "      <td>2.000</td>\n",
       "      <td>1.000</td>\n",
       "      <td>0.000</td>\n",
       "      <td>0.000</td>\n",
       "      <td>2</td>\n",
       "    </tr>\n",
       "    <tr>\n",
       "      <th>13</th>\n",
       "      <td>43.000</td>\n",
       "      <td>39.000</td>\n",
       "      <td>20.000</td>\n",
       "      <td>0.000</td>\n",
       "      <td>1.000</td>\n",
       "      <td>2.000</td>\n",
       "      <td>1.000</td>\n",
       "      <td>0.000</td>\n",
       "      <td>0.000</td>\n",
       "      <td>2</td>\n",
       "    </tr>\n",
       "    <tr>\n",
       "      <th>14</th>\n",
       "      <td>117.000</td>\n",
       "      <td>39.000</td>\n",
       "      <td>27.000</td>\n",
       "      <td>0.000</td>\n",
       "      <td>1.000</td>\n",
       "      <td>2.000</td>\n",
       "      <td>1.000</td>\n",
       "      <td>0.000</td>\n",
       "      <td>0.000</td>\n",
       "      <td>2</td>\n",
       "    </tr>\n",
       "    <tr>\n",
       "      <th>15</th>\n",
       "      <td>27.000</td>\n",
       "      <td>39.000</td>\n",
       "      <td>19.000</td>\n",
       "      <td>0.000</td>\n",
       "      <td>1.000</td>\n",
       "      <td>2.000</td>\n",
       "      <td>1.000</td>\n",
       "      <td>0.000</td>\n",
       "      <td>0.000</td>\n",
       "      <td>2</td>\n",
       "    </tr>\n",
       "    <tr>\n",
       "      <th>16</th>\n",
       "      <td>10.000</td>\n",
       "      <td>39.000</td>\n",
       "      <td>17.000</td>\n",
       "      <td>0.000</td>\n",
       "      <td>1.000</td>\n",
       "      <td>2.000</td>\n",
       "      <td>1.000</td>\n",
       "      <td>0.000</td>\n",
       "      <td>0.000</td>\n",
       "      <td>2</td>\n",
       "    </tr>\n",
       "    <tr>\n",
       "      <th>17</th>\n",
       "      <td>71.000</td>\n",
       "      <td>39.000</td>\n",
       "      <td>21.000</td>\n",
       "      <td>0.000</td>\n",
       "      <td>1.000</td>\n",
       "      <td>2.000</td>\n",
       "      <td>1.000</td>\n",
       "      <td>0.000</td>\n",
       "      <td>0.000</td>\n",
       "      <td>2</td>\n",
       "    </tr>\n",
       "    <tr>\n",
       "      <th>18</th>\n",
       "      <td>5.000</td>\n",
       "      <td>39.000</td>\n",
       "      <td>28.000</td>\n",
       "      <td>0.000</td>\n",
       "      <td>1.000</td>\n",
       "      <td>2.000</td>\n",
       "      <td>1.000</td>\n",
       "      <td>0.000</td>\n",
       "      <td>0.000</td>\n",
       "      <td>2</td>\n",
       "    </tr>\n",
       "    <tr>\n",
       "      <th>19</th>\n",
       "      <td>1.000</td>\n",
       "      <td>39.000</td>\n",
       "      <td>13.000</td>\n",
       "      <td>0.000</td>\n",
       "      <td>1.000</td>\n",
       "      <td>2.000</td>\n",
       "      <td>1.000</td>\n",
       "      <td>0.000</td>\n",
       "      <td>0.000</td>\n",
       "      <td>2</td>\n",
       "    </tr>\n",
       "  </tbody>\n",
       "</table>\n",
       "</div>"
      ],
      "text/plain": [
       "    n_tickets  channel_id  country_1  weekend  month   day  weekday  \\\n",
       "0      93.000      39.000     23.000    0.000  1.000 2.000    1.000   \n",
       "1      70.000      39.000     26.000    0.000  1.000 2.000    1.000   \n",
       "2    2720.000      39.000     24.000    0.000  1.000 2.000    1.000   \n",
       "3       1.000      39.000     16.000    0.000  1.000 2.000    1.000   \n",
       "4      43.000      39.000     20.000    0.000  1.000 2.000    1.000   \n",
       "5     117.000      39.000     27.000    0.000  1.000 2.000    1.000   \n",
       "6      27.000      39.000     19.000    0.000  1.000 2.000    1.000   \n",
       "7      10.000      39.000     17.000    0.000  1.000 2.000    1.000   \n",
       "8      71.000      39.000     21.000    0.000  1.000 2.000    1.000   \n",
       "9       5.000      39.000     28.000    0.000  1.000 2.000    1.000   \n",
       "10     70.000      39.000     26.000    0.000  1.000 2.000    1.000   \n",
       "11   2720.000      39.000     24.000    0.000  1.000 2.000    1.000   \n",
       "12      1.000      39.000     16.000    0.000  1.000 2.000    1.000   \n",
       "13     43.000      39.000     20.000    0.000  1.000 2.000    1.000   \n",
       "14    117.000      39.000     27.000    0.000  1.000 2.000    1.000   \n",
       "15     27.000      39.000     19.000    0.000  1.000 2.000    1.000   \n",
       "16     10.000      39.000     17.000    0.000  1.000 2.000    1.000   \n",
       "17     71.000      39.000     21.000    0.000  1.000 2.000    1.000   \n",
       "18      5.000      39.000     28.000    0.000  1.000 2.000    1.000   \n",
       "19      1.000      39.000     13.000    0.000  1.000 2.000    1.000   \n",
       "\n",
       "    month_end  month_start  ten_days  \n",
       "0       0.000        0.000         1  \n",
       "1       0.000        0.000         1  \n",
       "2       0.000        0.000         1  \n",
       "3       0.000        0.000         1  \n",
       "4       0.000        0.000         1  \n",
       "5       0.000        0.000         1  \n",
       "6       0.000        0.000         1  \n",
       "7       0.000        0.000         1  \n",
       "8       0.000        0.000         1  \n",
       "9       0.000        0.000         1  \n",
       "10      0.000        0.000         2  \n",
       "11      0.000        0.000         2  \n",
       "12      0.000        0.000         2  \n",
       "13      0.000        0.000         2  \n",
       "14      0.000        0.000         2  \n",
       "15      0.000        0.000         2  \n",
       "16      0.000        0.000         2  \n",
       "17      0.000        0.000         2  \n",
       "18      0.000        0.000         2  \n",
       "19      0.000        0.000         2  "
      ]
     },
     "execution_count": 289,
     "metadata": {},
     "output_type": "execute_result"
    }
   ],
   "source": [
    "df.head(20)"
   ]
  },
  {
   "cell_type": "code",
   "execution_count": 290,
   "metadata": {},
   "outputs": [],
   "source": [
    "test_new_df = df.groupby('ten_days').tail(1)\n",
    "test_new_df.drop(['ten_days'], axis=1, inplace=True)\n",
    "test_new_df = test_new_df.reset_index()"
   ]
  },
  {
   "cell_type": "code",
   "execution_count": 291,
   "metadata": {},
   "outputs": [
    {
     "data": {
      "text/html": [
       "<div>\n",
       "<style scoped>\n",
       "    .dataframe tbody tr th:only-of-type {\n",
       "        vertical-align: middle;\n",
       "    }\n",
       "\n",
       "    .dataframe tbody tr th {\n",
       "        vertical-align: top;\n",
       "    }\n",
       "\n",
       "    .dataframe thead th {\n",
       "        text-align: right;\n",
       "    }\n",
       "</style>\n",
       "<table border=\"1\" class=\"dataframe\">\n",
       "  <thead>\n",
       "    <tr style=\"text-align: right;\">\n",
       "      <th></th>\n",
       "      <th>index</th>\n",
       "      <th>n_tickets</th>\n",
       "      <th>channel_id</th>\n",
       "      <th>country_1</th>\n",
       "      <th>weekend</th>\n",
       "      <th>month</th>\n",
       "      <th>day</th>\n",
       "      <th>weekday</th>\n",
       "      <th>month_end</th>\n",
       "      <th>month_start</th>\n",
       "    </tr>\n",
       "  </thead>\n",
       "  <tbody>\n",
       "    <tr>\n",
       "      <th>0</th>\n",
       "      <td>9</td>\n",
       "      <td>5.000</td>\n",
       "      <td>39.000</td>\n",
       "      <td>28.000</td>\n",
       "      <td>0.000</td>\n",
       "      <td>1.000</td>\n",
       "      <td>2.000</td>\n",
       "      <td>1.000</td>\n",
       "      <td>0.000</td>\n",
       "      <td>0.000</td>\n",
       "    </tr>\n",
       "    <tr>\n",
       "      <th>1</th>\n",
       "      <td>19</td>\n",
       "      <td>1.000</td>\n",
       "      <td>39.000</td>\n",
       "      <td>13.000</td>\n",
       "      <td>0.000</td>\n",
       "      <td>1.000</td>\n",
       "      <td>2.000</td>\n",
       "      <td>1.000</td>\n",
       "      <td>0.000</td>\n",
       "      <td>0.000</td>\n",
       "    </tr>\n",
       "    <tr>\n",
       "      <th>2</th>\n",
       "      <td>29</td>\n",
       "      <td>9.000</td>\n",
       "      <td>39.000</td>\n",
       "      <td>31.000</td>\n",
       "      <td>0.000</td>\n",
       "      <td>1.000</td>\n",
       "      <td>2.000</td>\n",
       "      <td>1.000</td>\n",
       "      <td>0.000</td>\n",
       "      <td>0.000</td>\n",
       "    </tr>\n",
       "    <tr>\n",
       "      <th>3</th>\n",
       "      <td>39</td>\n",
       "      <td>24.000</td>\n",
       "      <td>39.000</td>\n",
       "      <td>32.000</td>\n",
       "      <td>0.000</td>\n",
       "      <td>1.000</td>\n",
       "      <td>2.000</td>\n",
       "      <td>1.000</td>\n",
       "      <td>0.000</td>\n",
       "      <td>0.000</td>\n",
       "    </tr>\n",
       "    <tr>\n",
       "      <th>4</th>\n",
       "      <td>49</td>\n",
       "      <td>171.000</td>\n",
       "      <td>39.000</td>\n",
       "      <td>1000.000</td>\n",
       "      <td>0.000</td>\n",
       "      <td>1.000</td>\n",
       "      <td>2.000</td>\n",
       "      <td>1.000</td>\n",
       "      <td>0.000</td>\n",
       "      <td>0.000</td>\n",
       "    </tr>\n",
       "  </tbody>\n",
       "</table>\n",
       "</div>"
      ],
      "text/plain": [
       "   index  n_tickets  channel_id  country_1  weekend  month   day  weekday  \\\n",
       "0      9      5.000      39.000     28.000    0.000  1.000 2.000    1.000   \n",
       "1     19      1.000      39.000     13.000    0.000  1.000 2.000    1.000   \n",
       "2     29      9.000      39.000     31.000    0.000  1.000 2.000    1.000   \n",
       "3     39     24.000      39.000     32.000    0.000  1.000 2.000    1.000   \n",
       "4     49    171.000      39.000   1000.000    0.000  1.000 2.000    1.000   \n",
       "\n",
       "   month_end  month_start  \n",
       "0      0.000        0.000  \n",
       "1      0.000        0.000  \n",
       "2      0.000        0.000  \n",
       "3      0.000        0.000  \n",
       "4      0.000        0.000  "
      ]
     },
     "execution_count": 291,
     "metadata": {},
     "output_type": "execute_result"
    }
   ],
   "source": [
    "test_new_df.head()"
   ]
  },
  {
   "cell_type": "code",
   "execution_count": 292,
   "metadata": {},
   "outputs": [],
   "source": [
    "pred_df = pd.DataFrame(pred.reshape((pred.shape[0]*pred.shape[2], pred.shape[1])))"
   ]
  },
  {
   "cell_type": "code",
   "execution_count": 293,
   "metadata": {},
   "outputs": [
    {
     "data": {
      "text/html": [
       "<div>\n",
       "<style scoped>\n",
       "    .dataframe tbody tr th:only-of-type {\n",
       "        vertical-align: middle;\n",
       "    }\n",
       "\n",
       "    .dataframe tbody tr th {\n",
       "        vertical-align: top;\n",
       "    }\n",
       "\n",
       "    .dataframe thead th {\n",
       "        text-align: right;\n",
       "    }\n",
       "</style>\n",
       "<table border=\"1\" class=\"dataframe\">\n",
       "  <thead>\n",
       "    <tr style=\"text-align: right;\">\n",
       "      <th></th>\n",
       "      <th>forecast_day_1</th>\n",
       "      <th>forecast_day_2</th>\n",
       "      <th>forecast_day_3</th>\n",
       "      <th>forecast_day_4</th>\n",
       "      <th>forecast_day_5</th>\n",
       "      <th>forecast_day_6</th>\n",
       "      <th>forecast_day_7</th>\n",
       "      <th>forecast_day_8</th>\n",
       "      <th>forecast_day_9</th>\n",
       "      <th>forecast_day_10</th>\n",
       "    </tr>\n",
       "  </thead>\n",
       "  <tbody>\n",
       "    <tr>\n",
       "      <th>0</th>\n",
       "      <td>6.446</td>\n",
       "      <td>6.221</td>\n",
       "      <td>5.818</td>\n",
       "      <td>5.887</td>\n",
       "      <td>6.199</td>\n",
       "      <td>6.084</td>\n",
       "      <td>6.542</td>\n",
       "      <td>6.989</td>\n",
       "      <td>7.539</td>\n",
       "      <td>7.796</td>\n",
       "    </tr>\n",
       "    <tr>\n",
       "      <th>1</th>\n",
       "      <td>504.091</td>\n",
       "      <td>1257.605</td>\n",
       "      <td>582.810</td>\n",
       "      <td>547.793</td>\n",
       "      <td>424.599</td>\n",
       "      <td>285.523</td>\n",
       "      <td>142.971</td>\n",
       "      <td>161.947</td>\n",
       "      <td>235.106</td>\n",
       "      <td>332.233</td>\n",
       "    </tr>\n",
       "    <tr>\n",
       "      <th>2</th>\n",
       "      <td>1423.825</td>\n",
       "      <td>397.940</td>\n",
       "      <td>457.482</td>\n",
       "      <td>259.963</td>\n",
       "      <td>168.700</td>\n",
       "      <td>237.823</td>\n",
       "      <td>352.524</td>\n",
       "      <td>501.949</td>\n",
       "      <td>690.201</td>\n",
       "      <td>932.984</td>\n",
       "    </tr>\n",
       "    <tr>\n",
       "      <th>3</th>\n",
       "      <td>1026.845</td>\n",
       "      <td>662.760</td>\n",
       "      <td>482.354</td>\n",
       "      <td>373.491</td>\n",
       "      <td>252.761</td>\n",
       "      <td>171.474</td>\n",
       "      <td>115.545</td>\n",
       "      <td>201.168</td>\n",
       "      <td>319.503</td>\n",
       "      <td>475.010</td>\n",
       "    </tr>\n",
       "    <tr>\n",
       "      <th>4</th>\n",
       "      <td>35.746</td>\n",
       "      <td>35.159</td>\n",
       "      <td>28.263</td>\n",
       "      <td>20.472</td>\n",
       "      <td>16.200</td>\n",
       "      <td>16.031</td>\n",
       "      <td>19.740</td>\n",
       "      <td>24.380</td>\n",
       "      <td>30.799</td>\n",
       "      <td>38.878</td>\n",
       "    </tr>\n",
       "  </tbody>\n",
       "</table>\n",
       "</div>"
      ],
      "text/plain": [
       "   forecast_day_1  forecast_day_2  forecast_day_3  forecast_day_4  \\\n",
       "0           6.446           6.221           5.818           5.887   \n",
       "1         504.091        1257.605         582.810         547.793   \n",
       "2        1423.825         397.940         457.482         259.963   \n",
       "3        1026.845         662.760         482.354         373.491   \n",
       "4          35.746          35.159          28.263          20.472   \n",
       "\n",
       "   forecast_day_5  forecast_day_6  forecast_day_7  forecast_day_8  \\\n",
       "0           6.199           6.084           6.542           6.989   \n",
       "1         424.599         285.523         142.971         161.947   \n",
       "2         168.700         237.823         352.524         501.949   \n",
       "3         252.761         171.474         115.545         201.168   \n",
       "4          16.200          16.031          19.740          24.380   \n",
       "\n",
       "   forecast_day_9  forecast_day_10  \n",
       "0           7.539            7.796  \n",
       "1         235.106          332.233  \n",
       "2         690.201          932.984  \n",
       "3         319.503          475.010  \n",
       "4          30.799           38.878  "
      ]
     },
     "execution_count": 293,
     "metadata": {},
     "output_type": "execute_result"
    }
   ],
   "source": [
    "pred_df = pred_df.rename(columns = {0: 'forecast_day_1', 1: 'forecast_day_2', 2: 'forecast_day_3', 3: 'forecast_day_4', 4: 'forecast_day_5', 5: 'forecast_day_6',\n",
    "6: 'forecast_day_7', 7: 'forecast_day_8',8: 'forecast_day_9', 9: 'forecast_day_10'})\n",
    "pred_df.head()"
   ]
  },
  {
   "cell_type": "code",
   "execution_count": 326,
   "metadata": {},
   "outputs": [],
   "source": [
    "df_forecast=pd.concat([test_new_df,pred_df],axis=1).drop(['index', 'weekend', 'month',\n",
    "       'day', 'weekday', 'month_end', 'month_start'], axis=1)\n",
    "df_forecast['date'] = test_index_df[9:9124].reset_index()['date']\n",
    "df_forecast = df_forecast.set_index('date')"
   ]
  },
  {
   "cell_type": "code",
   "execution_count": 328,
   "metadata": {},
   "outputs": [
    {
     "data": {
      "text/html": [
       "<div>\n",
       "<style scoped>\n",
       "    .dataframe tbody tr th:only-of-type {\n",
       "        vertical-align: middle;\n",
       "    }\n",
       "\n",
       "    .dataframe tbody tr th {\n",
       "        vertical-align: top;\n",
       "    }\n",
       "\n",
       "    .dataframe thead th {\n",
       "        text-align: right;\n",
       "    }\n",
       "</style>\n",
       "<table border=\"1\" class=\"dataframe\">\n",
       "  <thead>\n",
       "    <tr style=\"text-align: right;\">\n",
       "      <th></th>\n",
       "      <th>n_tickets</th>\n",
       "      <th>channel_id</th>\n",
       "      <th>country_1</th>\n",
       "      <th>forecast_day_1</th>\n",
       "      <th>forecast_day_2</th>\n",
       "      <th>forecast_day_3</th>\n",
       "      <th>forecast_day_4</th>\n",
       "      <th>forecast_day_5</th>\n",
       "      <th>forecast_day_6</th>\n",
       "      <th>forecast_day_7</th>\n",
       "      <th>forecast_day_8</th>\n",
       "      <th>forecast_day_9</th>\n",
       "      <th>forecast_day_10</th>\n",
       "    </tr>\n",
       "    <tr>\n",
       "      <th>date</th>\n",
       "      <th></th>\n",
       "      <th></th>\n",
       "      <th></th>\n",
       "      <th></th>\n",
       "      <th></th>\n",
       "      <th></th>\n",
       "      <th></th>\n",
       "      <th></th>\n",
       "      <th></th>\n",
       "      <th></th>\n",
       "      <th></th>\n",
       "      <th></th>\n",
       "      <th></th>\n",
       "    </tr>\n",
       "  </thead>\n",
       "  <tbody>\n",
       "    <tr>\n",
       "      <th>2018-01-02</th>\n",
       "      <td>5.000</td>\n",
       "      <td>39.000</td>\n",
       "      <td>28.000</td>\n",
       "      <td>6.446</td>\n",
       "      <td>6.221</td>\n",
       "      <td>5.818</td>\n",
       "      <td>5.887</td>\n",
       "      <td>6.199</td>\n",
       "      <td>6.084</td>\n",
       "      <td>6.542</td>\n",
       "      <td>6.989</td>\n",
       "      <td>7.539</td>\n",
       "      <td>7.796</td>\n",
       "    </tr>\n",
       "    <tr>\n",
       "      <th>2018-01-02</th>\n",
       "      <td>1.000</td>\n",
       "      <td>39.000</td>\n",
       "      <td>13.000</td>\n",
       "      <td>504.091</td>\n",
       "      <td>1257.605</td>\n",
       "      <td>582.810</td>\n",
       "      <td>547.793</td>\n",
       "      <td>424.599</td>\n",
       "      <td>285.523</td>\n",
       "      <td>142.971</td>\n",
       "      <td>161.947</td>\n",
       "      <td>235.106</td>\n",
       "      <td>332.233</td>\n",
       "    </tr>\n",
       "    <tr>\n",
       "      <th>2018-01-02</th>\n",
       "      <td>9.000</td>\n",
       "      <td>39.000</td>\n",
       "      <td>31.000</td>\n",
       "      <td>1423.825</td>\n",
       "      <td>397.940</td>\n",
       "      <td>457.482</td>\n",
       "      <td>259.963</td>\n",
       "      <td>168.700</td>\n",
       "      <td>237.823</td>\n",
       "      <td>352.524</td>\n",
       "      <td>501.949</td>\n",
       "      <td>690.201</td>\n",
       "      <td>932.984</td>\n",
       "    </tr>\n",
       "    <tr>\n",
       "      <th>2018-01-02</th>\n",
       "      <td>24.000</td>\n",
       "      <td>39.000</td>\n",
       "      <td>32.000</td>\n",
       "      <td>1026.845</td>\n",
       "      <td>662.760</td>\n",
       "      <td>482.354</td>\n",
       "      <td>373.491</td>\n",
       "      <td>252.761</td>\n",
       "      <td>171.474</td>\n",
       "      <td>115.545</td>\n",
       "      <td>201.168</td>\n",
       "      <td>319.503</td>\n",
       "      <td>475.010</td>\n",
       "    </tr>\n",
       "    <tr>\n",
       "      <th>2018-01-02</th>\n",
       "      <td>171.000</td>\n",
       "      <td>39.000</td>\n",
       "      <td>1000.000</td>\n",
       "      <td>35.746</td>\n",
       "      <td>35.159</td>\n",
       "      <td>28.263</td>\n",
       "      <td>20.472</td>\n",
       "      <td>16.200</td>\n",
       "      <td>16.031</td>\n",
       "      <td>19.740</td>\n",
       "      <td>24.380</td>\n",
       "      <td>30.799</td>\n",
       "      <td>38.878</td>\n",
       "    </tr>\n",
       "  </tbody>\n",
       "</table>\n",
       "</div>"
      ],
      "text/plain": [
       "            n_tickets  channel_id  country_1  forecast_day_1  forecast_day_2  \\\n",
       "date                                                                           \n",
       "2018-01-02      5.000      39.000     28.000           6.446           6.221   \n",
       "2018-01-02      1.000      39.000     13.000         504.091        1257.605   \n",
       "2018-01-02      9.000      39.000     31.000        1423.825         397.940   \n",
       "2018-01-02     24.000      39.000     32.000        1026.845         662.760   \n",
       "2018-01-02    171.000      39.000   1000.000          35.746          35.159   \n",
       "\n",
       "            forecast_day_3  forecast_day_4  forecast_day_5  forecast_day_6  \\\n",
       "date                                                                         \n",
       "2018-01-02           5.818           5.887           6.199           6.084   \n",
       "2018-01-02         582.810         547.793         424.599         285.523   \n",
       "2018-01-02         457.482         259.963         168.700         237.823   \n",
       "2018-01-02         482.354         373.491         252.761         171.474   \n",
       "2018-01-02          28.263          20.472          16.200          16.031   \n",
       "\n",
       "            forecast_day_7  forecast_day_8  forecast_day_9  forecast_day_10  \n",
       "date                                                                         \n",
       "2018-01-02           6.542           6.989           7.539            7.796  \n",
       "2018-01-02         142.971         161.947         235.106          332.233  \n",
       "2018-01-02         352.524         501.949         690.201          932.984  \n",
       "2018-01-02         115.545         201.168         319.503          475.010  \n",
       "2018-01-02          19.740          24.380          30.799           38.878  "
      ]
     },
     "execution_count": 328,
     "metadata": {},
     "output_type": "execute_result"
    }
   ],
   "source": [
    "df_forecast.head()"
   ]
  },
  {
   "cell_type": "markdown",
   "metadata": {},
   "source": [
    "### Writing data to csv file"
   ]
  },
  {
   "cell_type": "code",
   "execution_count": 330,
   "metadata": {},
   "outputs": [],
   "source": [
    "df_forecast.to_csv('flixbus_data/flixbus_forecasts.csv')"
   ]
  },
  {
   "cell_type": "markdown",
   "metadata": {},
   "source": [
    "### Recommendations\n",
    "- Plan and spend marketing budget strategically. Eg there is no point of spending a lot of money on adv in February because you know the demand is going to be less.\n",
    "- Make better decisions about choosing channels to sell tickets\n",
    "- If we have the route information, we can plan the availability of buses during peak and low demand times as well\n",
    "- Set dynamic pricing (high in case of high demand)\n",
    "- set targets and countries for salesperson\n"
   ]
  },
  {
   "cell_type": "code",
   "execution_count": null,
   "metadata": {},
   "outputs": [],
   "source": []
  }
 ],
 "metadata": {
  "kernelspec": {
   "display_name": "Python (deeplearning)",
   "language": "python",
   "name": "deeplearning"
  },
  "language_info": {
   "codemirror_mode": {
    "name": "ipython",
    "version": 3
   },
   "file_extension": ".py",
   "mimetype": "text/x-python",
   "name": "python",
   "nbconvert_exporter": "python",
   "pygments_lexer": "ipython3",
   "version": "3.6.9"
  }
 },
 "nbformat": 4,
 "nbformat_minor": 2
}
