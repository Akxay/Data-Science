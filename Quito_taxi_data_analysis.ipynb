{
 "cells": [
  {
   "cell_type": "markdown",
   "metadata": {},
   "source": [
    "## Problem Statement: \n",
    "** For the current location and time, predict how long a passanger will be stuck in traffic in the city of Quito, Eor? **"
   ]
  },
  {
   "cell_type": "markdown",
   "metadata": {
    "heading_collapsed": true
   },
   "source": [
    "### Loading required packages"
   ]
  },
  {
   "cell_type": "code",
   "execution_count": 632,
   "metadata": {
    "collapsed": true,
    "hidden": true
   },
   "outputs": [],
   "source": [
    "import pandas as pd\n",
    "from datetime import datetime\n",
    "import pandas as pd\n",
    "import numpy as np\n",
    "import matplotlib\n",
    "import warnings\n",
    "warnings.filterwarnings(\"ignore\")\n",
    "\n",
    "import xgboost as xgb\n",
    "from sklearn.model_selection import train_test_split\n",
    "from sklearn.linear_model import LinearRegression, Ridge,BayesianRidge\n",
    "from sklearn.cluster import MiniBatchKMeans, KMeans\n",
    "from sklearn.metrics import mean_squared_error\n",
    "from math import radians, cos, sin, asin, sqrt\n",
    "import seaborn as sns\n",
    "import matplotlib.pyplot as plt\n",
    "\n",
    "plt.rcParams['figure.figsize'] = [20, 10]\n",
    "%matplotlib inline\n",
    "color = sns.color_palette()\n",
    "pd.set_option('display.float_format', lambda x: '%.3f' % x)"
   ]
  },
  {
   "cell_type": "markdown",
   "metadata": {
    "heading_collapsed": true
   },
   "source": [
    "### Load dataset for Quito city"
   ]
  },
  {
   "cell_type": "code",
   "execution_count": 633,
   "metadata": {
    "collapsed": false,
    "hidden": true
   },
   "outputs": [
    {
     "data": {
      "text/html": [
       "<div>\n",
       "<style>\n",
       "    .dataframe thead tr:only-child th {\n",
       "        text-align: right;\n",
       "    }\n",
       "\n",
       "    .dataframe thead th {\n",
       "        text-align: left;\n",
       "    }\n",
       "\n",
       "    .dataframe tbody tr th {\n",
       "        vertical-align: top;\n",
       "    }\n",
       "</style>\n",
       "<table border=\"1\" class=\"dataframe\">\n",
       "  <thead>\n",
       "    <tr style=\"text-align: right;\">\n",
       "      <th></th>\n",
       "      <th>id</th>\n",
       "      <th>vendor_id</th>\n",
       "      <th>pickup_datetime</th>\n",
       "      <th>dropoff_datetime</th>\n",
       "      <th>pickup_longitude</th>\n",
       "      <th>pickup_latitude</th>\n",
       "      <th>dropoff_longitude</th>\n",
       "      <th>dropoff_latitude</th>\n",
       "      <th>store_and_fwd_flag</th>\n",
       "      <th>trip_duration</th>\n",
       "      <th>dist_meters</th>\n",
       "      <th>wait_sec</th>\n",
       "    </tr>\n",
       "  </thead>\n",
       "  <tbody>\n",
       "    <tr>\n",
       "      <th>0</th>\n",
       "      <td>1</td>\n",
       "      <td>Quito</td>\n",
       "      <td>2016-09-17 09:32:06</td>\n",
       "      <td>2016-09-17 10:05:51</td>\n",
       "      <td>-78.504</td>\n",
       "      <td>-0.233</td>\n",
       "      <td>-78.549</td>\n",
       "      <td>-0.361</td>\n",
       "      <td>N</td>\n",
       "      <td>2025</td>\n",
       "      <td>24228</td>\n",
       "      <td>346</td>\n",
       "    </tr>\n",
       "    <tr>\n",
       "      <th>1</th>\n",
       "      <td>2</td>\n",
       "      <td>Quito</td>\n",
       "      <td>2016-09-18 04:03:20</td>\n",
       "      <td>2016-09-18 04:26:30</td>\n",
       "      <td>-78.440</td>\n",
       "      <td>0.007</td>\n",
       "      <td>-78.491</td>\n",
       "      <td>-0.105</td>\n",
       "      <td>N</td>\n",
       "      <td>1390</td>\n",
       "      <td>16680</td>\n",
       "      <td>456</td>\n",
       "    </tr>\n",
       "    <tr>\n",
       "      <th>2</th>\n",
       "      <td>3</td>\n",
       "      <td>Quito</td>\n",
       "      <td>2016-09-16 06:29:36</td>\n",
       "      <td>2016-09-18 06:41:33</td>\n",
       "      <td>-78.470</td>\n",
       "      <td>-0.144</td>\n",
       "      <td>-78.470</td>\n",
       "      <td>-0.131</td>\n",
       "      <td>N</td>\n",
       "      <td>130317</td>\n",
       "      <td>1987</td>\n",
       "      <td>290</td>\n",
       "    </tr>\n",
       "    <tr>\n",
       "      <th>3</th>\n",
       "      <td>4</td>\n",
       "      <td>Quito</td>\n",
       "      <td>2016-09-18 05:57:47</td>\n",
       "      <td>2016-09-18 06:30:00</td>\n",
       "      <td>-78.558</td>\n",
       "      <td>-0.278</td>\n",
       "      <td>-78.430</td>\n",
       "      <td>-0.202</td>\n",
       "      <td>N</td>\n",
       "      <td>1933</td>\n",
       "      <td>25146</td>\n",
       "      <td>302</td>\n",
       "    </tr>\n",
       "    <tr>\n",
       "      <th>4</th>\n",
       "      <td>5</td>\n",
       "      <td>Quito</td>\n",
       "      <td>2016-09-18 07:58:42</td>\n",
       "      <td>2016-09-18 08:14:29</td>\n",
       "      <td>-78.522</td>\n",
       "      <td>-0.208</td>\n",
       "      <td>-78.505</td>\n",
       "      <td>-0.222</td>\n",
       "      <td>N</td>\n",
       "      <td>948</td>\n",
       "      <td>4625</td>\n",
       "      <td>314</td>\n",
       "    </tr>\n",
       "  </tbody>\n",
       "</table>\n",
       "</div>"
      ],
      "text/plain": [
       "   id vendor_id     pickup_datetime     dropoff_datetime  pickup_longitude  \\\n",
       "0   1     Quito 2016-09-17 09:32:06  2016-09-17 10:05:51           -78.504   \n",
       "1   2     Quito 2016-09-18 04:03:20  2016-09-18 04:26:30           -78.440   \n",
       "2   3     Quito 2016-09-16 06:29:36  2016-09-18 06:41:33           -78.470   \n",
       "3   4     Quito 2016-09-18 05:57:47  2016-09-18 06:30:00           -78.558   \n",
       "4   5     Quito 2016-09-18 07:58:42  2016-09-18 08:14:29           -78.522   \n",
       "\n",
       "   pickup_latitude  dropoff_longitude  dropoff_latitude store_and_fwd_flag  \\\n",
       "0           -0.233            -78.549            -0.361                  N   \n",
       "1            0.007            -78.491            -0.105                  N   \n",
       "2           -0.144            -78.470            -0.131                  N   \n",
       "3           -0.278            -78.430            -0.202                  N   \n",
       "4           -0.208            -78.505            -0.222                  N   \n",
       "\n",
       "   trip_duration  dist_meters  wait_sec  \n",
       "0           2025        24228       346  \n",
       "1           1390        16680       456  \n",
       "2         130317         1987       290  \n",
       "3           1933        25146       302  \n",
       "4            948         4625       314  "
      ]
     },
     "execution_count": 633,
     "metadata": {},
     "output_type": "execute_result"
    }
   ],
   "source": [
    "data = pd.read_csv(\"uio_clean.csv\", parse_dates=['pickup_datetime'])\n",
    "data.head()"
   ]
  },
  {
   "cell_type": "markdown",
   "metadata": {},
   "source": [
    "### Split Train/Test"
   ]
  },
  {
   "cell_type": "markdown",
   "metadata": {},
   "source": [
    "- Taking a small subset for testing before analyzing and preprocessing the Dataset so that we can replicate the original dataset and the distribution while final testing. Also, it'll help us in avoiding overfitting on validation set."
   ]
  },
  {
   "cell_type": "code",
   "execution_count": 634,
   "metadata": {
    "collapsed": false
   },
   "outputs": [
    {
     "name": "stdout",
     "output_type": "stream",
     "text": [
      "((25892, 12), (6474, 12))\n"
     ]
    }
   ],
   "source": [
    "# split train and test (80-20)\n",
    "np.random.seed(3)\n",
    "n = data.shape[0]\n",
    "inx = np.random.permutation(n)\n",
    "n_sample = int(0.8*n)\n",
    "train = data[data.index.isin(inx[:n_sample])]\n",
    "test = data[~data.index.isin(inx[:n_sample])]\n",
    "print(train.shape, test.shape)"
   ]
  },
  {
   "cell_type": "markdown",
   "metadata": {
    "heading_collapsed": true
   },
   "source": [
    "### Summarize the DataSet"
   ]
  },
  {
   "cell_type": "code",
   "execution_count": 635,
   "metadata": {
    "collapsed": false,
    "hidden": true
   },
   "outputs": [
    {
     "data": {
      "text/html": [
       "<div>\n",
       "<style>\n",
       "    .dataframe thead tr:only-child th {\n",
       "        text-align: right;\n",
       "    }\n",
       "\n",
       "    .dataframe thead th {\n",
       "        text-align: left;\n",
       "    }\n",
       "\n",
       "    .dataframe tbody tr th {\n",
       "        vertical-align: top;\n",
       "    }\n",
       "</style>\n",
       "<table border=\"1\" class=\"dataframe\">\n",
       "  <thead>\n",
       "    <tr style=\"text-align: right;\">\n",
       "      <th></th>\n",
       "      <th>id</th>\n",
       "      <th>pickup_longitude</th>\n",
       "      <th>pickup_latitude</th>\n",
       "      <th>dropoff_longitude</th>\n",
       "      <th>dropoff_latitude</th>\n",
       "      <th>trip_duration</th>\n",
       "      <th>dist_meters</th>\n",
       "      <th>wait_sec</th>\n",
       "    </tr>\n",
       "  </thead>\n",
       "  <tbody>\n",
       "    <tr>\n",
       "      <th>count</th>\n",
       "      <td>25892.000</td>\n",
       "      <td>25892.000</td>\n",
       "      <td>25892.000</td>\n",
       "      <td>25892.000</td>\n",
       "      <td>25892.000</td>\n",
       "      <td>25892.000</td>\n",
       "      <td>25892.000</td>\n",
       "      <td>25892.000</td>\n",
       "    </tr>\n",
       "    <tr>\n",
       "      <th>mean</th>\n",
       "      <td>16141.528</td>\n",
       "      <td>-78.492</td>\n",
       "      <td>-0.189</td>\n",
       "      <td>-78.493</td>\n",
       "      <td>-0.191</td>\n",
       "      <td>38341.191</td>\n",
       "      <td>6653.554</td>\n",
       "      <td>22906781.438</td>\n",
       "    </tr>\n",
       "    <tr>\n",
       "      <th>std</th>\n",
       "      <td>9346.730</td>\n",
       "      <td>0.044</td>\n",
       "      <td>0.077</td>\n",
       "      <td>0.046</td>\n",
       "      <td>0.088</td>\n",
       "      <td>409606.982</td>\n",
       "      <td>18460.798</td>\n",
       "      <td>798654247.020</td>\n",
       "    </tr>\n",
       "    <tr>\n",
       "      <th>min</th>\n",
       "      <td>1.000</td>\n",
       "      <td>-80.682</td>\n",
       "      <td>-3.454</td>\n",
       "      <td>-80.682</td>\n",
       "      <td>-3.575</td>\n",
       "      <td>-388711.000</td>\n",
       "      <td>20.000</td>\n",
       "      <td>0.000</td>\n",
       "    </tr>\n",
       "    <tr>\n",
       "      <th>25%</th>\n",
       "      <td>8017.500</td>\n",
       "      <td>-78.506</td>\n",
       "      <td>-0.218</td>\n",
       "      <td>-78.506</td>\n",
       "      <td>-0.221</td>\n",
       "      <td>500.000</td>\n",
       "      <td>2155.750</td>\n",
       "      <td>106.000</td>\n",
       "    </tr>\n",
       "    <tr>\n",
       "      <th>50%</th>\n",
       "      <td>16143.500</td>\n",
       "      <td>-78.490</td>\n",
       "      <td>-0.182</td>\n",
       "      <td>-78.490</td>\n",
       "      <td>-0.185</td>\n",
       "      <td>894.000</td>\n",
       "      <td>4118.000</td>\n",
       "      <td>242.000</td>\n",
       "    </tr>\n",
       "    <tr>\n",
       "      <th>75%</th>\n",
       "      <td>24220.250</td>\n",
       "      <td>-78.476</td>\n",
       "      <td>-0.148</td>\n",
       "      <td>-78.477</td>\n",
       "      <td>-0.150</td>\n",
       "      <td>1701.000</td>\n",
       "      <td>7460.250</td>\n",
       "      <td>498.000</td>\n",
       "    </tr>\n",
       "    <tr>\n",
       "      <th>max</th>\n",
       "      <td>32364.000</td>\n",
       "      <td>-78.010</td>\n",
       "      <td>0.456</td>\n",
       "      <td>-77.710</td>\n",
       "      <td>0.819</td>\n",
       "      <td>24627195.000</td>\n",
       "      <td>1959571.000</td>\n",
       "      <td>95163057054.000</td>\n",
       "    </tr>\n",
       "  </tbody>\n",
       "</table>\n",
       "</div>"
      ],
      "text/plain": [
       "             id  pickup_longitude  pickup_latitude  dropoff_longitude  \\\n",
       "count 25892.000         25892.000        25892.000          25892.000   \n",
       "mean  16141.528           -78.492           -0.189            -78.493   \n",
       "std    9346.730             0.044            0.077              0.046   \n",
       "min       1.000           -80.682           -3.454            -80.682   \n",
       "25%    8017.500           -78.506           -0.218            -78.506   \n",
       "50%   16143.500           -78.490           -0.182            -78.490   \n",
       "75%   24220.250           -78.476           -0.148            -78.477   \n",
       "max   32364.000           -78.010            0.456            -77.710   \n",
       "\n",
       "       dropoff_latitude  trip_duration  dist_meters        wait_sec  \n",
       "count         25892.000      25892.000    25892.000       25892.000  \n",
       "mean             -0.191      38341.191     6653.554    22906781.438  \n",
       "std               0.088     409606.982    18460.798   798654247.020  \n",
       "min              -3.575    -388711.000       20.000           0.000  \n",
       "25%              -0.221        500.000     2155.750         106.000  \n",
       "50%              -0.185        894.000     4118.000         242.000  \n",
       "75%              -0.150       1701.000     7460.250         498.000  \n",
       "max               0.819   24627195.000  1959571.000 95163057054.000  "
      ]
     },
     "execution_count": 635,
     "metadata": {},
     "output_type": "execute_result"
    }
   ],
   "source": [
    "train.describe()"
   ]
  },
  {
   "cell_type": "markdown",
   "metadata": {
    "hidden": true
   },
   "source": [
    "1. After looking at the summary, we can see the minimum value for wait_sec is 0 which can be possible, in case driver got the clear road throughout the trip but a value of 95163057054 (26434182.515 hours) clearly shows the driver forgot to switch off the meter. No way someone waited for so long in a trip.\n",
    "\n",
    "2. Similarly, a distance of 1959571 (1959.571 KM) does not make sense. So clearly there are some outliers we need to deal with.\n",
    "\n",
    "3. Trip duration also has some outliers but this information will not be available during trip start/booking, so we will use it only for EDA or removing faulty observations."
   ]
  },
  {
   "cell_type": "code",
   "execution_count": 636,
   "metadata": {
    "collapsed": false,
    "hidden": true
   },
   "outputs": [
    {
     "data": {
      "text/plain": [
       "id                    0\n",
       "vendor_id             0\n",
       "pickup_datetime       0\n",
       "dropoff_datetime      0\n",
       "pickup_longitude      0\n",
       "pickup_latitude       0\n",
       "dropoff_longitude     0\n",
       "dropoff_latitude      0\n",
       "store_and_fwd_flag    0\n",
       "trip_duration         0\n",
       "dist_meters           0\n",
       "wait_sec              0\n",
       "dtype: int64"
      ]
     },
     "execution_count": 636,
     "metadata": {},
     "output_type": "execute_result"
    }
   ],
   "source": [
    "# checking the number of NAs in all variables\n",
    "train.isnull().sum()"
   ]
  },
  {
   "cell_type": "code",
   "execution_count": 637,
   "metadata": {
    "collapsed": false,
    "hidden": true,
    "scrolled": false
   },
   "outputs": [
    {
     "name": "stdout",
     "output_type": "stream",
     "text": [
      "id----    25892\n",
      "vendor_id----    4\n",
      "pickup_datetime----    25503\n",
      "dropoff_datetime----    25498\n",
      "pickup_longitude----    25505\n",
      "pickup_latitude----    25513\n",
      "dropoff_longitude----    25511\n",
      "dropoff_latitude----    25519\n",
      "store_and_fwd_flag----    1\n",
      "trip_duration----    6180\n",
      "dist_meters----    11716\n",
      "wait_sec----    2987\n"
     ]
    }
   ],
   "source": [
    "# Unique Value counts\n",
    "for col in list(train.columns):\n",
    "    print (str(col) + '----    ' + str(len(train[col].unique())) )"
   ]
  },
  {
   "cell_type": "code",
   "execution_count": 638,
   "metadata": {
    "collapsed": false,
    "hidden": true
   },
   "outputs": [
    {
     "name": "stdout",
     "output_type": "stream",
     "text": [
      "<class 'pandas.core.frame.DataFrame'>\n",
      "Int64Index: 25892 entries, 0 to 32363\n",
      "Data columns (total 12 columns):\n",
      "id                    25892 non-null int64\n",
      "vendor_id             25892 non-null object\n",
      "pickup_datetime       25892 non-null datetime64[ns]\n",
      "dropoff_datetime      25892 non-null object\n",
      "pickup_longitude      25892 non-null float64\n",
      "pickup_latitude       25892 non-null float64\n",
      "dropoff_longitude     25892 non-null float64\n",
      "dropoff_latitude      25892 non-null float64\n",
      "store_and_fwd_flag    25892 non-null object\n",
      "trip_duration         25892 non-null int64\n",
      "dist_meters           25892 non-null int64\n",
      "wait_sec              25892 non-null int64\n",
      "dtypes: datetime64[ns](1), float64(4), int64(4), object(3)\n",
      "memory usage: 2.6+ MB\n"
     ]
    }
   ],
   "source": [
    "# Column data type and number of values in column \n",
    "train.info()"
   ]
  },
  {
   "cell_type": "code",
   "execution_count": 639,
   "metadata": {
    "collapsed": false,
    "hidden": true
   },
   "outputs": [
    {
     "data": {
      "image/png": "[encoded data removed]",
      "text/plain": [
       "<matplotlib.figure.Figure at 0x7f46a1bfba10>"
      ]
     },
     "metadata": {},
     "output_type": "display_data"
    }
   ],
   "source": [
    "# let's look at the target variable\n",
    "plt.figure(figsize=(8,6))\n",
    "plt.scatter(range(train.shape[0]), np.sort(train[\"wait_sec\"].values), alpha=0.2)\n",
    "plt.xlabel('index', fontsize=12)\n",
    "plt.ylabel('wait_sec', fontsize=12)\n",
    "plt.show()"
   ]
  },
  {
   "cell_type": "code",
   "execution_count": 640,
   "metadata": {
    "collapsed": false,
    "hidden": true
   },
   "outputs": [
    {
     "data": {
      "text/plain": [
       "(25892, 12)"
      ]
     },
     "execution_count": 640,
     "metadata": {},
     "output_type": "execute_result"
    }
   ],
   "source": [
    "train.shape"
   ]
  },
  {
   "cell_type": "markdown",
   "metadata": {},
   "source": [
    "### Let's see the distribution of our target variable- wait_sec"
   ]
  },
  {
   "cell_type": "code",
   "execution_count": 641,
   "metadata": {
    "collapsed": false,
    "scrolled": false
   },
   "outputs": [
    {
     "data": {
      "image/png": "[encoded data removed]",
      "text/plain": [
       "<matplotlib.figure.Figure at 0x7f46a87596d0>"
      ]
     },
     "metadata": {},
     "output_type": "display_data"
    }
   ],
   "source": [
    "fig, ax = plt.subplots()\n",
    "# ax.ticklabel_format(useOffset=False, style='plain')\n",
    "ax.hist(train['wait_sec'], bins= 100)\n",
    "plt.xlabel('wait_sec')\n",
    "plt.ylabel('number of train records')\n",
    "plt.show()"
   ]
  },
  {
   "cell_type": "markdown",
   "metadata": {},
   "source": [
    "Visualizing wait_sec did not help much as some of the extremely large values are distorting everything, let's look at the log value and log value. Taking log makes sense as because in wait_sec some of the values will be really small and some will be extremely large, all needs to be bring somewhat together using log. "
   ]
  },
  {
   "cell_type": "code",
   "execution_count": 642,
   "metadata": {
    "collapsed": false,
    "scrolled": false
   },
   "outputs": [
    {
     "data": {
      "image/png": "[encoded data removed]",
      "text/plain": [
       "<matplotlib.figure.Figure at 0x7f46a1d00e50>"
      ]
     },
     "metadata": {},
     "output_type": "display_data"
    }
   ],
   "source": [
    "plt.figure(figsize=(6,4))\n",
    "sns.distplot(np.log(train.wait_sec.values +1), bins=50, kde=True)\n",
    "plt.xlabel('waiting time (in seconds)', fontsize=12)\n",
    "plt.show()"
   ]
  },
  {
   "cell_type": "markdown",
   "metadata": {},
   "source": [
    "     This looks much better than the previous one.\n",
    "     It clearly shows some outliers, Let's look at the quantiles in data cleaning section and truncate them"
   ]
  },
  {
   "cell_type": "code",
   "execution_count": 643,
   "metadata": {
    "collapsed": false
   },
   "outputs": [
    {
     "data": {
      "image/png": "[encoded data removed]",
      "text/plain": [
       "<matplotlib.figure.Figure at 0x7f46b1cfbed0>"
      ]
     },
     "metadata": {},
     "output_type": "display_data"
    },
    {
     "data": {
      "text/plain": [
       "array([[ 1.        ,  0.21358968],\n",
       "       [ 0.21358968,  1.        ]])"
      ]
     },
     "execution_count": 643,
     "metadata": {},
     "output_type": "execute_result"
    }
   ],
   "source": [
    "### Let's look at the wait sec and trip duration plot\n",
    "y = train['wait_sec']\n",
    "x = train['trip_duration']\n",
    "plt.scatter(x, y, alpha=0.2)\n",
    "plt.xlabel('trip_duration (in seconds)')\n",
    "plt.ylabel('wait_sec(in seconds)')\n",
    "plt.xlim(-10, 1*1e7)\n",
    "plt.ylim(-10, 1*1e11)\n",
    "plt.show()\n",
    "np.corrcoef(x,y)"
   ]
  },
  {
   "cell_type": "markdown",
   "metadata": {},
   "source": [
    "There seems a lot of outliers in trip duration as well as in wait sec, Let's do a clean up"
   ]
  },
  {
   "cell_type": "markdown",
   "metadata": {},
   "source": [
    "### Data Cleaning"
   ]
  },
  {
   "cell_type": "markdown",
   "metadata": {},
   "source": [
    "- wait_sec clean up"
   ]
  },
  {
   "cell_type": "code",
   "execution_count": 644,
   "metadata": {
    "collapsed": false
   },
   "outputs": [
    {
     "data": {
      "text/plain": [
       "0.000             0.000\n",
       "0.010             0.000\n",
       "0.030             9.000\n",
       "0.050            18.000\n",
       "0.250           106.000\n",
       "0.500           242.000\n",
       "0.750           498.000\n",
       "0.900          1070.000\n",
       "0.920          1311.720\n",
       "0.940          1772.540\n",
       "0.950          2198.900\n",
       "0.960          2908.360\n",
       "0.970          4319.270\n",
       "0.980          7999.360\n",
       "0.990        460644.910\n",
       "1.000   95163057054.000\n",
       "Name: wait_sec, dtype: float64"
      ]
     },
     "execution_count": 644,
     "metadata": {},
     "output_type": "execute_result"
    }
   ],
   "source": [
    "train[\"wait_sec\"].quantile([.0, 0.01, 0.03, 0.05, 0.25, .5, 0.75,0.90, 0.92, 0.94, 0.95, 0.96, 0.97, 0.98, 0.99, 1])"
   ]
  },
  {
   "cell_type": "code",
   "execution_count": 645,
   "metadata": {
    "collapsed": false
   },
   "outputs": [
    {
     "data": {
      "text/html": [
       "<div>\n",
       "<style>\n",
       "    .dataframe thead tr:only-child th {\n",
       "        text-align: right;\n",
       "    }\n",
       "\n",
       "    .dataframe thead th {\n",
       "        text-align: left;\n",
       "    }\n",
       "\n",
       "    .dataframe tbody tr th {\n",
       "        vertical-align: top;\n",
       "    }\n",
       "</style>\n",
       "<table border=\"1\" class=\"dataframe\">\n",
       "  <thead>\n",
       "    <tr style=\"text-align: right;\">\n",
       "      <th></th>\n",
       "      <th>id</th>\n",
       "      <th>vendor_id</th>\n",
       "      <th>pickup_datetime</th>\n",
       "      <th>dropoff_datetime</th>\n",
       "      <th>pickup_longitude</th>\n",
       "      <th>pickup_latitude</th>\n",
       "      <th>dropoff_longitude</th>\n",
       "      <th>dropoff_latitude</th>\n",
       "      <th>store_and_fwd_flag</th>\n",
       "      <th>trip_duration</th>\n",
       "      <th>dist_meters</th>\n",
       "      <th>wait_sec</th>\n",
       "    </tr>\n",
       "  </thead>\n",
       "  <tbody>\n",
       "    <tr>\n",
       "      <th>11</th>\n",
       "      <td>12</td>\n",
       "      <td>Quito</td>\n",
       "      <td>2016-09-17 04:15:09</td>\n",
       "      <td>2016-09-18 12:28:12</td>\n",
       "      <td>-78.511</td>\n",
       "      <td>-0.240</td>\n",
       "      <td>-78.510</td>\n",
       "      <td>-0.238</td>\n",
       "      <td>N</td>\n",
       "      <td>72784</td>\n",
       "      <td>251</td>\n",
       "      <td>2418</td>\n",
       "    </tr>\n",
       "    <tr>\n",
       "      <th>35</th>\n",
       "      <td>36</td>\n",
       "      <td>Quito</td>\n",
       "      <td>2016-09-15 07:05:04</td>\n",
       "      <td>2016-09-19 07:33:14</td>\n",
       "      <td>-78.481</td>\n",
       "      <td>-0.122</td>\n",
       "      <td>-78.487</td>\n",
       "      <td>-0.119</td>\n",
       "      <td>N</td>\n",
       "      <td>304091</td>\n",
       "      <td>7366</td>\n",
       "      <td>1396</td>\n",
       "    </tr>\n",
       "    <tr>\n",
       "      <th>51</th>\n",
       "      <td>52</td>\n",
       "      <td>Quito</td>\n",
       "      <td>2016-09-19 10:21:23</td>\n",
       "      <td>2016-09-19 10:32:07</td>\n",
       "      <td>-78.488</td>\n",
       "      <td>-0.172</td>\n",
       "      <td>-78.487</td>\n",
       "      <td>-0.191</td>\n",
       "      <td>N</td>\n",
       "      <td>644</td>\n",
       "      <td>2386</td>\n",
       "      <td>761386356</td>\n",
       "    </tr>\n",
       "    <tr>\n",
       "      <th>67</th>\n",
       "      <td>68</td>\n",
       "      <td>Quito</td>\n",
       "      <td>2016-09-19 11:39:07</td>\n",
       "      <td>2016-09-19 12:19:30</td>\n",
       "      <td>-78.480</td>\n",
       "      <td>-0.189</td>\n",
       "      <td>-78.501</td>\n",
       "      <td>-0.212</td>\n",
       "      <td>N</td>\n",
       "      <td>2423</td>\n",
       "      <td>3714</td>\n",
       "      <td>1821</td>\n",
       "    </tr>\n",
       "    <tr>\n",
       "      <th>77</th>\n",
       "      <td>78</td>\n",
       "      <td>Quito</td>\n",
       "      <td>2016-09-19 12:43:55</td>\n",
       "      <td>2016-09-19 02:46:04</td>\n",
       "      <td>-78.432</td>\n",
       "      <td>-0.139</td>\n",
       "      <td>-78.417</td>\n",
       "      <td>-0.137</td>\n",
       "      <td>N</td>\n",
       "      <td>7330</td>\n",
       "      <td>59823</td>\n",
       "      <td>2513</td>\n",
       "    </tr>\n",
       "  </tbody>\n",
       "</table>\n",
       "</div>"
      ],
      "text/plain": [
       "    id vendor_id     pickup_datetime     dropoff_datetime  pickup_longitude  \\\n",
       "11  12     Quito 2016-09-17 04:15:09  2016-09-18 12:28:12           -78.511   \n",
       "35  36     Quito 2016-09-15 07:05:04  2016-09-19 07:33:14           -78.481   \n",
       "51  52     Quito 2016-09-19 10:21:23  2016-09-19 10:32:07           -78.488   \n",
       "67  68     Quito 2016-09-19 11:39:07  2016-09-19 12:19:30           -78.480   \n",
       "77  78     Quito 2016-09-19 12:43:55  2016-09-19 02:46:04           -78.432   \n",
       "\n",
       "    pickup_latitude  dropoff_longitude  dropoff_latitude store_and_fwd_flag  \\\n",
       "11           -0.240            -78.510            -0.238                  N   \n",
       "35           -0.122            -78.487            -0.119                  N   \n",
       "51           -0.172            -78.487            -0.191                  N   \n",
       "67           -0.189            -78.501            -0.212                  N   \n",
       "77           -0.139            -78.417            -0.137                  N   \n",
       "\n",
       "    trip_duration  dist_meters   wait_sec  \n",
       "11          72784          251       2418  \n",
       "35         304091         7366       1396  \n",
       "51            644         2386  761386356  \n",
       "67           2423         3714       1821  \n",
       "77           7330        59823       2513  "
      ]
     },
     "execution_count": 645,
     "metadata": {},
     "output_type": "execute_result"
    }
   ],
   "source": [
    "train[train[\"wait_sec\"] > 1000 ].iloc[:,:18].head()"
   ]
  },
  {
   "cell_type": "markdown",
   "metadata": {},
   "source": [
    "1000 second (around 92 quantile) seems a pretty decent threshold as in daily city life on an average 15-20 min delay happens in a trip, there can be some instances where it is more than 20 min (in that case we, might require external data sources like weather data, Fastest Route information of Quito etc.)  Moreover, by looking at some of the observations manually, for 1 km there is more than 30 min wait time which clearly does not make sense, hence a lot of observations are faulty, probably driver forgot to stop the trip/meter, took a detour or stopped earlier."
   ]
  },
  {
   "cell_type": "code",
   "execution_count": 646,
   "metadata": {
    "collapsed": false
   },
   "outputs": [
    {
     "name": "stdout",
     "output_type": "stream",
     "text": [
      "(23095, 12)\n"
     ]
    }
   ],
   "source": [
    "train = train[train[\"wait_sec\"] <= 1000]\n",
    "print train.shape"
   ]
  },
  {
   "cell_type": "markdown",
   "metadata": {},
   "source": [
    "- trip_duration clean up:- Although we will not use it directly in our model as in real life scenario, this will not be available during booking time, but we will use it for target encoding & to remove faulty observations"
   ]
  },
  {
   "cell_type": "code",
   "execution_count": 647,
   "metadata": {
    "collapsed": false
   },
   "outputs": [
    {
     "data": {
      "text/plain": [
       "0.000          3.000\n",
       "0.001          8.094\n",
       "0.010         21.000\n",
       "0.050        100.000\n",
       "0.250        469.000\n",
       "0.500        810.000\n",
       "0.750       1374.000\n",
       "0.900       2638.000\n",
       "0.920       3510.440\n",
       "0.940       9226.880\n",
       "0.950      25683.800\n",
       "0.960      56212.120\n",
       "0.970      86620.080\n",
       "0.980     204618.360\n",
       "0.990     513001.680\n",
       "0.999    4592614.894\n",
       "1.000   19355368.000\n",
       "Name: trip_duration, dtype: float64"
      ]
     },
     "execution_count": 647,
     "metadata": {},
     "output_type": "execute_result"
    }
   ],
   "source": [
    "train[\"trip_duration\"].quantile([.0, 0.001, 0.01, 0.05, 0.25, .5, 0.75, 0.90, 0.92, 0.94, 0.95, 0.96, 0.97, 0.98, 0.99, 0.999, 1])"
   ]
  },
  {
   "cell_type": "code",
   "execution_count": 648,
   "metadata": {
    "collapsed": true
   },
   "outputs": [],
   "source": [
    "train = train[train[\"trip_duration\"] >= 60]        #  any one will atleast take 1 minute ride, else would walk\n",
    "train = train[train[\"trip_duration\"] < 3600*2]     # 2 hours are enough to go from one end of the city to another in Quito"
   ]
  },
  {
   "cell_type": "markdown",
   "metadata": {},
   "source": [
    "- Travelling on extreme ends in Quito would take maximum 2 hours."
   ]
  },
  {
   "cell_type": "markdown",
   "metadata": {},
   "source": [
    "<img src = \"boundary_points_quito.jpg\" alt=\"Boundary points\" style=\"width: 300px; height = 300px\" />"
   ]
  },
  {
   "cell_type": "markdown",
   "metadata": {},
   "source": [
    "#### Latitude and Longitude cleaning"
   ]
  },
  {
   "cell_type": "markdown",
   "metadata": {},
   "source": [
    "The Lat/Long coordinates of borders of Quito City are:\n",
    "\n",
    "    quito_border_longitude = (-78.34, -78.62)\n",
    "    quito_border_latitude = (-0.03, -0.37)\n",
    "\n",
    "Comparing this to our `train.describe()` output we see that there are some coordinate points (pick ups/drop offs) that fall outside these borders. So let's limit our area of investigation to within the Quito City borders."
   ]
  },
  {
   "cell_type": "code",
   "execution_count": 649,
   "metadata": {
    "collapsed": true
   },
   "outputs": [],
   "source": [
    "train = train[train['pickup_longitude'] <= -78.34]\n",
    "train = train[train['pickup_longitude'] >= -78.62]\n",
    "train = train[train['pickup_latitude'] <= -0.03]\n",
    "train = train[train['pickup_latitude'] >= -0.37]\n",
    "# train = train[train['dropoff_longitude'] <= -78.44]\n",
    "train = train[train['dropoff_longitude'] <= -78.34]\n",
    "train = train[train['dropoff_longitude'] >= -78.62]\n",
    "train = train[train['dropoff_latitude'] <= -0.03]\n",
    "train = train[train['dropoff_latitude'] >= -0.37]"
   ]
  },
  {
   "cell_type": "markdown",
   "metadata": {},
   "source": [
    "- Actually, the boundary for Quito has to be extended a bit till the airport (inclusing the right colored line)\n",
    "- I have figured these boundary latitude and longitudes manually using OSM api (https://nominatim.openstreetmap.org/search.php?q=quito&polygon_geojson=1&viewbox=)"
   ]
  },
  {
   "cell_type": "markdown",
   "metadata": {},
   "source": [
    "<img src = \"Quito.jpg\", alt=\"Quito Boundary\" style=\"width: 400px; height = 400px\" />"
   ]
  },
  {
   "cell_type": "code",
   "execution_count": 650,
   "metadata": {
    "collapsed": false
   },
   "outputs": [
    {
     "data": {
      "text/plain": [
       "(20737, 12)"
      ]
     },
     "execution_count": 650,
     "metadata": {},
     "output_type": "execute_result"
    }
   ],
   "source": [
    "train.shape"
   ]
  },
  {
   "cell_type": "markdown",
   "metadata": {},
   "source": [
    "- Let's create variable speed, it is not a feature for our model since it needs trip duration which is also not available during booking. We are using it just as part of our exploration."
   ]
  },
  {
   "cell_type": "code",
   "execution_count": 651,
   "metadata": {
    "collapsed": true
   },
   "outputs": [],
   "source": [
    "train[\"speed\"] = train[\"dist_meters\"]/train[\"trip_duration\"]        # metre/second"
   ]
  },
  {
   "cell_type": "code",
   "execution_count": 652,
   "metadata": {
    "collapsed": false
   },
   "outputs": [
    {
     "data": {
      "text/plain": [
       "0.000     0.003\n",
       "0.010     0.178\n",
       "0.250     3.861\n",
       "0.500     5.271\n",
       "0.750     6.847\n",
       "0.950    10.091\n",
       "0.960    10.552\n",
       "0.970    11.234\n",
       "0.980    12.233\n",
       "0.990    13.869\n",
       "0.999    34.955\n",
       "1.000   339.857\n",
       "Name: speed, dtype: float64"
      ]
     },
     "execution_count": 652,
     "metadata": {},
     "output_type": "execute_result"
    }
   ],
   "source": [
    "train[\"speed\"].quantile([.0, 0.01, 0.25, .5, 0.75, 0.95, 0.96, 0.97, 0.98, 0.99, 0.999, 1])"
   ]
  },
  {
   "cell_type": "code",
   "execution_count": 653,
   "metadata": {
    "collapsed": true
   },
   "outputs": [],
   "source": [
    "# train = train[train[\"speed\"] <= 35]\n",
    "# train = train[train[\"speed\"] > 0]"
   ]
  },
  {
   "cell_type": "markdown",
   "metadata": {},
   "source": [
    "Haversine distance:- Great circle distance between 2 points."
   ]
  },
  {
   "cell_type": "code",
   "execution_count": 654,
   "metadata": {
    "collapsed": false
   },
   "outputs": [
    {
     "data": {
      "text/plain": [
       "13.622392296891269"
      ]
     },
     "execution_count": 654,
     "metadata": {},
     "output_type": "execute_result"
    }
   ],
   "source": [
    "from math import radians, cos, sin, asin, sqrt\n",
    "def haversine(lat1, lon1, lat2, lon2):\n",
    "    \"\"\"\n",
    "    Calculate the great circle distance between two points \n",
    "    on the earth (specified in decimal degrees)\n",
    "    \"\"\"\n",
    "    # convert decimal degrees to radians \n",
    "    lon1, lat1, lon2, lat2 = map(radians, [lon1, lat1, lon2, lat2])\n",
    "    # haversine formula \n",
    "    dlon = lon2 - lon1 \n",
    "    dlat = lat2 - lat1 \n",
    "    a = sin(dlat/2)**2 + cos(lat1) * cos(lat2) * sin(dlon/2)**2\n",
    "    c = 2 * asin(sqrt(a)) \n",
    "    # Radius of earth in kilometers is 6371\n",
    "    km = 6371* c\n",
    "    return km\n",
    "\n",
    "haversine(0.006788902,-78.44030559, -0.104836398, -78.49078607)"
   ]
  },
  {
   "cell_type": "markdown",
   "metadata": {},
   "source": [
    "1. In the given dist_meters variable, the given distance is the distance which the driver has covered, it can be a few meters more or less than actual distance as most of the times driver go off the gps route or find some shortcut etc. But this is something we can not know prior to the trip ends and considering our business problem at hand, it makes sense to use the actual distance in both training as well as test set. Using the driver distance in train set and actual distance from test will make our train and test set come from a different distribution.\n",
    "\n",
    "2. Also, we can add the expected time to reach from source to destination using google distance api. (There is a limit to the api, daily 2500). This will improve our model's accuracy."
   ]
  },
  {
   "cell_type": "code",
   "execution_count": 655,
   "metadata": {
    "collapsed": true
   },
   "outputs": [],
   "source": [
    "# google distance api\n",
    "\n",
    "# import urllib2\n",
    "# import json\n",
    "# def distance_using_maps(lat1, long1, lat2, long2):\n",
    "#     url= r'http://maps.googleapis.com/maps/api/distancematrix/json?origins=' + str(lat1) +\",\" + str(long1)+ \"&destinations=\"+ str(lat2)+\",\"+str(long2)\n",
    "#     response =  urllib2.urlopen(url)\n",
    "#     data = json.load(response)   \n",
    "#     return float(data[\"rows\"][0][\"elements\"][0][\"duration\"][\"value\"])\n",
    "# distance_using_maps(-0.153,-78.482, -0.161, -78.498)"
   ]
  },
  {
   "cell_type": "code",
   "execution_count": 656,
   "metadata": {
    "collapsed": true
   },
   "outputs": [],
   "source": [
    "# add a distance column using google maps\n",
    "train[\"new_distance\"] = train.apply(lambda x: haversine(x[u'pickup_latitude'], x[u'pickup_longitude'], x[u'dropoff_latitude'], x[u'dropoff_longitude']), axis=1)\n",
    "test[\"new_distance\"] = test.apply(lambda x: haversine(x[u'pickup_latitude'], x[u'pickup_longitude'], x[u'dropoff_latitude'], x[u'dropoff_longitude']), axis=1)\n",
    "\n",
    "# # add a distance column using google maps\n",
    "# train[\"new_duration\"] = train.apply(lambda x: distance_using_maps(x[u'pickup_latitude'], x[u'pickup_longitude'], x[u'dropoff_latitude'], x[u'dropoff_longitude']), axis=1)\n",
    "# test[\"new_duration\"] = test.apply(lambda x: distance_using_maps(x[u'pickup_latitude'], x[u'pickup_longitude'], x[u'dropoff_latitude'], x[u'dropoff_longitude']), axis=1)"
   ]
  },
  {
   "cell_type": "code",
   "execution_count": 657,
   "metadata": {
    "collapsed": true
   },
   "outputs": [],
   "source": [
    "train = train[train[\"new_distance\"] > 0 ]"
   ]
  },
  {
   "cell_type": "code",
   "execution_count": 658,
   "metadata": {
    "collapsed": false
   },
   "outputs": [
    {
     "data": {
      "text/plain": [
       "0.000    0.000\n",
       "0.010    0.014\n",
       "0.250    1.254\n",
       "0.500    2.430\n",
       "0.750    4.236\n",
       "0.900    7.035\n",
       "0.950    9.239\n",
       "0.970   11.038\n",
       "0.980   12.515\n",
       "0.999   24.462\n",
       "1.000   30.268\n",
       "Name: new_distance, dtype: float64"
      ]
     },
     "execution_count": 658,
     "metadata": {},
     "output_type": "execute_result"
    }
   ],
   "source": [
    "train[\"new_distance\"].quantile([.0, 0.01, 0.25, .5, 0.75, 0.90, 0.95, 0.97, 0.98, 0.999, 1])"
   ]
  },
  {
   "cell_type": "code",
   "execution_count": 659,
   "metadata": {
    "collapsed": false,
    "scrolled": true
   },
   "outputs": [
    {
     "data": {
      "image/png": "[encoded data removed]",
      "text/plain": [
       "<matplotlib.figure.Figure at 0x7f46ab02e810>"
      ]
     },
     "metadata": {},
     "output_type": "display_data"
    }
   ],
   "source": [
    "# It may be a good idea to transform the \"y\" variable\n",
    "# Look for a transformation that give you a plot closer to a normal\n",
    "train['log_wait_sec'] = np.log(train['wait_sec'].values + 1)\n",
    "train['sqrt_wait_sec'] = np.sqrt(train['wait_sec'].values)\n",
    "\n",
    "test['log_wait_sec'] = np.log(test['wait_sec'].values + 1)\n",
    "test['sqrt_wait_sec'] = np.sqrt(test['wait_sec'].values)\n",
    "\n",
    "fig, ax = plt.subplots(ncols=3, sharex=False, sharey=False)\n",
    "ax[0].hist(train['wait_sec'].values, bins=200)\n",
    "ax[1].hist(train['log_wait_sec'].values, bins=200)\n",
    "ax[2].hist(train['sqrt_wait_sec'].values, bins=200)\n",
    "ax[0].set_ylabel('number of records')\n",
    "ax[0].set_xlabel('wait_sec')\n",
    "ax[1].set_xlabel('log(wait_sec)')\n",
    "ax[2].set_xlabel('sqrt(wait_sec)')\n",
    "plt.show()"
   ]
  },
  {
   "cell_type": "code",
   "execution_count": 660,
   "metadata": {
    "collapsed": false
   },
   "outputs": [
    {
     "data": {
      "image/png": "[encoded data removed]",
      "text/plain": [
       "<matplotlib.figure.Figure at 0x7f46aaf08d90>"
      ]
     },
     "metadata": {},
     "output_type": "display_data"
    }
   ],
   "source": [
    "# It may be a good idea to transform the \"y\" variable\n",
    "# Look for a transformation that give you a plot closer to a normal\n",
    "train['log_trip_duration'] = np.log(train['trip_duration'].values + 1)\n",
    "train['sqrt_trip_duration'] = np.sqrt(train['trip_duration'].values)\n",
    "\n",
    "test['log_trip_duration'] = np.log(test['trip_duration'].values + 1)\n",
    "test['sqrt_trip_duration'] = np.sqrt(test['trip_duration'].values)\n",
    "\n",
    "fig, ax = plt.subplots(ncols=3, sharex=False, sharey=False)\n",
    "ax[0].hist(train['trip_duration'].values, bins=200)\n",
    "ax[1].hist(train['log_trip_duration'].values, bins=200)\n",
    "ax[2].hist(train['sqrt_trip_duration'].values, bins=200)\n",
    "ax[0].set_ylabel('number of records')\n",
    "ax[0].set_xlabel('trip_duration')\n",
    "ax[1].set_xlabel('log(trip_duration)')\n",
    "ax[2].set_xlabel('sqrt(trip_duration)')\n",
    "plt.show()"
   ]
  },
  {
   "cell_type": "markdown",
   "metadata": {},
   "source": [
    "### Adding Data time Features"
   ]
  },
  {
   "cell_type": "code",
   "execution_count": 661,
   "metadata": {
    "collapsed": true
   },
   "outputs": [],
   "source": [
    "# can add isHoliday also\n",
    "def get_time_features(df):\n",
    "#     df[\"yearmonth\"] = df[\"pickup_datetime\"].dt.year*100 + df[\"pickup_datetime\"].dt.month\n",
    "    df[\"pickup_month_of_year\"] = df[\"pickup_datetime\"].dt.month\n",
    "    df['pickup_weekday'] = df['pickup_datetime'].dt.weekday\n",
    "    df['pickup_weekofyear'] = df['pickup_datetime'].dt.weekofyear\n",
    "    df['pickup_hour'] = df['pickup_datetime'].dt.hour\n",
    "    df['pickup_week_hour'] = df['pickup_weekday'] * 24 + df['pickup_hour']\n",
    "    df['pickup_minutes'] = df['pickup_datetime'].dt.minute\n",
    "    return df"
   ]
  },
  {
   "cell_type": "code",
   "execution_count": 662,
   "metadata": {
    "collapsed": true
   },
   "outputs": [],
   "source": [
    "train['pickup_datetime'] = pd.to_datetime(train.pickup_datetime)\n",
    "test['pickup_datetime'] = pd.to_datetime(test.pickup_datetime)\n",
    "\n",
    "train.loc[:, 'pickup_date'] = train['pickup_datetime'].dt.date\n",
    "test.loc[:, 'pickup_date'] = test['pickup_datetime'].dt.date\n",
    "\n",
    "train = get_time_features(train)\n",
    "test = get_time_features(test)"
   ]
  },
  {
   "cell_type": "markdown",
   "metadata": {},
   "source": [
    "- we have data from after morning 1 AM to before 12 PM"
   ]
  },
  {
   "cell_type": "code",
   "execution_count": 663,
   "metadata": {
    "collapsed": false
   },
   "outputs": [
    {
     "data": {
      "text/plain": [
       "(pickup_hour\n",
       " 1     1136\n",
       " 2     1021\n",
       " 3      963\n",
       " 4     1093\n",
       " 5     1523\n",
       " 6     2299\n",
       " 7     2688\n",
       " 8     2929\n",
       " 9     2287\n",
       " 10    1898\n",
       " 11    1557\n",
       " 12    1337\n",
       " dtype: int64, pickup_hour\n",
       " 1     369\n",
       " 2     341\n",
       " 3     303\n",
       " 4     360\n",
       " 5     510\n",
       " 6     676\n",
       " 7     816\n",
       " 8     814\n",
       " 9     721\n",
       " 10    605\n",
       " 11    489\n",
       " 12    470\n",
       " dtype: int64)"
      ]
     },
     "execution_count": 663,
     "metadata": {},
     "output_type": "execute_result"
    }
   ],
   "source": [
    "train.groupby('pickup_hour').size(),test.groupby('pickup_hour').size()"
   ]
  },
  {
   "cell_type": "code",
   "execution_count": 664,
   "metadata": {
    "collapsed": false
   },
   "outputs": [
    {
     "data": {
      "image/png": "[encoded data removed]",
      "text/plain": [
       "<matplotlib.figure.Figure at 0x7f46b03773d0>"
      ]
     },
     "metadata": {},
     "output_type": "display_data"
    }
   ],
   "source": [
    "plt.figure(figsize=(8,6))\n",
    "sns.pointplot(x='pickup_weekday', y='wait_sec', data=train)\n",
    "plt.ylabel('wait_sec', fontsize=12)\n",
    "plt.xlabel('pickup_weekday', fontsize=12)\n",
    "plt.title('Median wait sec distribution by week_day')\n",
    "plt.xticks(rotation='vertical')\n",
    "plt.show()"
   ]
  },
  {
   "cell_type": "markdown",
   "metadata": {},
   "source": [
    "There is a highest median waiting time on fridays and minimum on saturdays and sunday. Probably on fridays everybody leaves for party and some leave for their nearby city hometown."
   ]
  },
  {
   "cell_type": "code",
   "execution_count": 665,
   "metadata": {
    "collapsed": false
   },
   "outputs": [
    {
     "data": {
      "image/png": "[encoded data removed]",
      "text/plain": [
       "<matplotlib.figure.Figure at 0x7f46aa203d50>"
      ]
     },
     "metadata": {},
     "output_type": "display_data"
    }
   ],
   "source": [
    "plt.figure(figsize=(8,6))\n",
    "sns.pointplot(x='pickup_weekday', y='trip_duration', data=train)\n",
    "plt.ylabel('trip_duration', fontsize=12)\n",
    "plt.xlabel('pickup_weekday', fontsize=12)\n",
    "plt.title('Median trip_duration distribution by week_day')\n",
    "plt.xticks(rotation='vertical')\n",
    "plt.show()"
   ]
  },
  {
   "cell_type": "markdown",
   "metadata": {},
   "source": [
    "- On Fridays and saturdays, there are long trips taken by people in Quito, probably some can be tourists who are exploring the city on weekends and some might be running their pending work/errands on weekends"
   ]
  },
  {
   "cell_type": "code",
   "execution_count": 666,
   "metadata": {
    "collapsed": false
   },
   "outputs": [
    {
     "data": {
      "image/png": "[encoded data removed]",
      "text/plain": [
       "<matplotlib.figure.Figure at 0x7f46a9ed57d0>"
      ]
     },
     "metadata": {},
     "output_type": "display_data"
    }
   ],
   "source": [
    "plt.figure(figsize=(8,6))\n",
    "sns.pointplot(x='pickup_hour', y='wait_sec', data=train)\n",
    "plt.ylabel('wait_sec', fontsize=12)\n",
    "plt.xlabel('pickup_hour', fontsize=12)\n",
    "plt.title('Median wait sec distribution by week_day')\n",
    "plt.xticks(rotation='vertical')\n",
    "plt.show()"
   ]
  },
  {
   "cell_type": "markdown",
   "metadata": {},
   "source": [
    "- Waiting time in Quito is high between 5 to 8 AM, drops between 9 AM to 10 AM and then again rise from 11."
   ]
  },
  {
   "cell_type": "code",
   "execution_count": 667,
   "metadata": {
    "collapsed": false
   },
   "outputs": [
    {
     "data": {
      "image/png": "[encoded data removed]",
      "text/plain": [
       "<matplotlib.figure.Figure at 0x7f46b011fa10>"
      ]
     },
     "metadata": {},
     "output_type": "display_data"
    }
   ],
   "source": [
    "plt.figure(figsize=(8,6))\n",
    "sns.pointplot(x='pickup_hour', y='trip_duration', data=train)\n",
    "plt.ylabel('trip_duration', fontsize=12)\n",
    "plt.xlabel('pickup_hour', fontsize=12)\n",
    "plt.title('Median trip_duration distribution by pickup hour')\n",
    "plt.xticks(rotation='vertical')\n",
    "plt.show()"
   ]
  },
  {
   "cell_type": "markdown",
   "metadata": {},
   "source": [
    "- There are long trips between 2-4 AM, probably people are going to airport or railway station. Also, long trips between 5-8 AM could be because of working hours."
   ]
  },
  {
   "cell_type": "code",
   "execution_count": 668,
   "metadata": {
    "collapsed": false
   },
   "outputs": [
    {
     "data": {
      "image/png": "[encoded data removed]",
      "text/plain": [
       "<matplotlib.figure.Figure at 0x7f46aaa9edd0>"
      ]
     },
     "metadata": {},
     "output_type": "display_data"
    },
    {
     "data": {
      "text/plain": [
       "array([[ 1.        ,  0.29930747],\n",
       "       [ 0.29930747,  1.        ]])"
      ]
     },
     "execution_count": 668,
     "metadata": {},
     "output_type": "execute_result"
    }
   ],
   "source": [
    "y = train['wait_sec'][:2000]\n",
    "x = train['new_distance'][:2000]\n",
    "plt.scatter(x, y, alpha=0.2)\n",
    "plt.xlabel('new_distance(m)')\n",
    "plt.ylabel('wait_sec(in seconds)')\n",
    "plt.show()\n",
    "np.corrcoef(x,y)"
   ]
  },
  {
   "cell_type": "markdown",
   "metadata": {},
   "source": [
    "- Let's look at how good is our train test distribution"
   ]
  },
  {
   "cell_type": "code",
   "execution_count": 669,
   "metadata": {
    "collapsed": false
   },
   "outputs": [
    {
     "data": {
      "image/png": "[encoded data removed]",
      "text/plain": [
       "<matplotlib.figure.Figure at 0x7f46aabecb10>"
      ]
     },
     "metadata": {},
     "output_type": "display_data"
    }
   ],
   "source": [
    "plt.subplots(1,1,figsize=(8,6))\n",
    "plt.plot(train.groupby('pickup_month_of_year').count()[['id']], 'o-', label='train')\n",
    "plt.plot(test.groupby('pickup_month_of_year').count()[['id']], 'o-', label='test')\n",
    "plt.title('Trips over Time.')\n",
    "plt.legend(loc=0)\n",
    "plt.ylabel('Trips')\n",
    "plt.show()"
   ]
  },
  {
   "cell_type": "markdown",
   "metadata": {},
   "source": [
    "Distribution of train and test looks similar when grouped by pickup hour."
   ]
  },
  {
   "cell_type": "code",
   "execution_count": 740,
   "metadata": {
    "collapsed": false
   },
   "outputs": [
    {
     "data": {
      "image/png": "[encoded data removed]",
      "text/plain": [
       "<matplotlib.figure.Figure at 0x7f46a3ad5dd0>"
      ]
     },
     "metadata": {},
     "output_type": "display_data"
    }
   ],
   "source": [
    "N = 3000\n",
    "quito_border_longitude = (-78.34, -78.62)\n",
    "quito_border_latitude = (-0.03, -0.37)\n",
    "fig, ax = plt.subplots(ncols=2, sharex=True, sharey=True)\n",
    "ax[0].scatter(train['pickup_longitude'].values[:N], train['pickup_latitude'].values[:N],\n",
    "              color='blue', s=1, label='train', alpha=0.1)\n",
    "ax[1].scatter(test['pickup_longitude'].values[:N], test['pickup_latitude'].values[:N],\n",
    "              color='green', s=1, label='test', alpha=0.1)\n",
    "fig.suptitle('Train and test area completelly overlap.')\n",
    "ax[0].legend(loc=0)\n",
    "ax[0].set_ylabel('latitude')\n",
    "ax[0].set_xlabel('longitude')\n",
    "ax[1].set_xlabel('longitude')\n",
    "ax[1].legend(loc=0)\n",
    "plt.ylim(quito_border_latitude)\n",
    "plt.xlim(quito_border_longitude)\n",
    "plt.show()"
   ]
  },
  {
   "cell_type": "markdown",
   "metadata": {
    "collapsed": true
   },
   "source": [
    "Let's see how significantly (or not significantly at all) the 4 vendors differ in their respective mean wait time durations:"
   ]
  },
  {
   "cell_type": "code",
   "execution_count": 670,
   "metadata": {
    "collapsed": false
   },
   "outputs": [
    {
     "data": {
      "text/plain": [
       "Text(0,0.5,u'Wait Time in Seconds')"
      ]
     },
     "execution_count": 670,
     "metadata": {},
     "output_type": "execute_result"
    },
    {
     "data": {
      "image/png": "[encoded data removed]",
      "text/plain": [
       "<matplotlib.figure.Figure at 0x7f46f4ecd5d0>"
      ]
     },
     "metadata": {},
     "output_type": "display_data"
    }
   ],
   "source": [
    "plot_vendor = train.groupby('vendor_id')['wait_sec'].mean()\n",
    "plt.subplots(1,1,figsize=(8,5))\n",
    "sns.barplot(plot_vendor.index,plot_vendor.values)\n",
    "plt.title('Wait Time per Vendor')\n",
    "plt.legend(loc=0)\n",
    "plt.ylabel('Wait Time in Seconds')"
   ]
  },
  {
   "cell_type": "code",
   "execution_count": 671,
   "metadata": {
    "collapsed": false
   },
   "outputs": [
    {
     "data": {
      "text/plain": [
       "Quito                     20469\n",
       "Quito Cabify Lite           221\n",
       "Quito Cabify Executive       40\n",
       "Quito UberX                   1\n",
       "Name: vendor_id, dtype: int64"
      ]
     },
     "execution_count": 671,
     "metadata": {},
     "output_type": "execute_result"
    }
   ],
   "source": [
    "train[\"vendor_id\"].value_counts()"
   ]
  },
  {
   "cell_type": "markdown",
   "metadata": {},
   "source": [
    "- Majority of the data is of Quito Vendor."
   ]
  },
  {
   "cell_type": "markdown",
   "metadata": {},
   "source": [
    "### Neighbourhood analysis:- Clustering"
   ]
  },
  {
   "cell_type": "markdown",
   "metadata": {},
   "source": [
    "- Let's look at the visualization of pickup and dropoff points on a map"
   ]
  },
  {
   "cell_type": "markdown",
   "metadata": {},
   "source": [
    "<img src = \"pickup_dropoff.jpg\" alt=\"pickup_dropoff_points_viz\" style=\"width: 400px; height = 400px\" />"
   ]
  },
  {
   "cell_type": "markdown",
   "metadata": {},
   "source": [
    "- Red points are the pickup points and blue are the drop-off points.\n",
    "- Apparently, the center of Quito is where a lot of pickup and drop is happening, it could be the heart of the city\n",
    "- There are some outlier, which are pointing pickup/drop from out of the city some drops towards airport (on the right upward side)"
   ]
  },
  {
   "cell_type": "code",
   "execution_count": 672,
   "metadata": {
    "collapsed": true
   },
   "outputs": [],
   "source": [
    "places = np.vstack((train[['pickup_latitude', 'pickup_longitude']].values,\n",
    "                    train[['dropoff_latitude', 'dropoff_longitude']].values))"
   ]
  },
  {
   "cell_type": "code",
   "execution_count": 673,
   "metadata": {
    "collapsed": true
   },
   "outputs": [],
   "source": [
    "kmeans = MiniBatchKMeans(n_clusters=20, batch_size=10000).fit(places)"
   ]
  },
  {
   "cell_type": "code",
   "execution_count": 674,
   "metadata": {
    "collapsed": true
   },
   "outputs": [],
   "source": [
    "# Nc = range(1, 20)\n",
    "\n",
    "# kmeans = [KMeans(n_clusters=i) for i in Nc]\n",
    "\n",
    "# kmeans\n",
    "\n",
    "# score = [kmeans[i].fit(places).score(places) for i in range(len(kmeans))]\n",
    "\n",
    "# score\n",
    "\n",
    "# plt.plot(Nc,score)\n",
    "\n",
    "# plt.xlabel('Number of Clusters')\n",
    "\n",
    "# plt.ylabel('Score')\n",
    "\n",
    "# plt.title('Elbow Curve')\n",
    "\n",
    "# plt.show()"
   ]
  },
  {
   "cell_type": "code",
   "execution_count": 675,
   "metadata": {
    "collapsed": true
   },
   "outputs": [],
   "source": [
    "# here the new features is the id of the cluster\n",
    "train['pickup_cluster'] = kmeans.predict(train[['pickup_latitude', 'pickup_longitude']])\n",
    "train['dropoff_cluster'] = kmeans.predict(train[['dropoff_latitude', 'dropoff_longitude']])\n",
    "test['pickup_cluster'] = kmeans.predict(test[['pickup_latitude', 'pickup_longitude']])\n",
    "test['dropoff_cluster'] = kmeans.predict(test[['dropoff_latitude', 'dropoff_longitude']])"
   ]
  },
  {
   "cell_type": "code",
   "execution_count": 676,
   "metadata": {
    "collapsed": false
   },
   "outputs": [
    {
     "data": {
      "image/png": "[encoded data removed]",
      "text/plain": [
       "<matplotlib.figure.Figure at 0x7f46a1ee3b10>"
      ]
     },
     "metadata": {},
     "output_type": "display_data"
    }
   ],
   "source": [
    "N = train.shape[0]\n",
    "quito_border_longitude = (-78.34, -78.62)\n",
    "quito_border_latitude = (-0.03, -0.37)\n",
    "fig, ax = plt.subplots(ncols=1, nrows=1,figsize=(10,5))\n",
    "ax.scatter(train.pickup_longitude.values[:N], train.pickup_latitude.values[:N], s=10, lw=0,\n",
    "           c=train.pickup_cluster[:N].values, cmap='tab20', alpha=0.2)\n",
    "ax.set_xlim(quito_border_longitude)\n",
    "ax.set_ylim(quito_border_latitude)\n",
    "ax.set_xlabel('Longitude')\n",
    "ax.set_ylabel('Latitude')\n",
    "plt.show()\n",
    "#There are some weird outliers here"
   ]
  },
  {
   "cell_type": "markdown",
   "metadata": {},
   "source": [
    "- This projection of image map is inverted with respect to actual position on world map"
   ]
  },
  {
   "cell_type": "code",
   "execution_count": 677,
   "metadata": {
    "collapsed": false
   },
   "outputs": [
    {
     "data": {
      "text/html": [
       "<div>\n",
       "<style>\n",
       "    .dataframe thead tr:only-child th {\n",
       "        text-align: right;\n",
       "    }\n",
       "\n",
       "    .dataframe thead th {\n",
       "        text-align: left;\n",
       "    }\n",
       "\n",
       "    .dataframe tbody tr th {\n",
       "        vertical-align: top;\n",
       "    }\n",
       "</style>\n",
       "<table border=\"1\" class=\"dataframe\">\n",
       "  <thead>\n",
       "    <tr style=\"text-align: right;\">\n",
       "      <th></th>\n",
       "      <th>id</th>\n",
       "      <th>vendor_id</th>\n",
       "      <th>pickup_datetime</th>\n",
       "      <th>dropoff_datetime</th>\n",
       "      <th>pickup_longitude</th>\n",
       "      <th>pickup_latitude</th>\n",
       "      <th>dropoff_longitude</th>\n",
       "      <th>dropoff_latitude</th>\n",
       "      <th>store_and_fwd_flag</th>\n",
       "      <th>trip_duration</th>\n",
       "      <th>...</th>\n",
       "      <th>sqrt_trip_duration</th>\n",
       "      <th>pickup_date</th>\n",
       "      <th>pickup_month_of_year</th>\n",
       "      <th>pickup_weekday</th>\n",
       "      <th>pickup_weekofyear</th>\n",
       "      <th>pickup_hour</th>\n",
       "      <th>pickup_week_hour</th>\n",
       "      <th>pickup_minutes</th>\n",
       "      <th>pickup_cluster</th>\n",
       "      <th>dropoff_cluster</th>\n",
       "    </tr>\n",
       "  </thead>\n",
       "  <tbody>\n",
       "    <tr>\n",
       "      <th>0</th>\n",
       "      <td>1</td>\n",
       "      <td>Quito</td>\n",
       "      <td>2016-09-17 09:32:06</td>\n",
       "      <td>2016-09-17 10:05:51</td>\n",
       "      <td>-78.504</td>\n",
       "      <td>-0.233</td>\n",
       "      <td>-78.549</td>\n",
       "      <td>-0.361</td>\n",
       "      <td>N</td>\n",
       "      <td>2025</td>\n",
       "      <td>...</td>\n",
       "      <td>45.000</td>\n",
       "      <td>2016-09-17</td>\n",
       "      <td>9</td>\n",
       "      <td>5</td>\n",
       "      <td>37</td>\n",
       "      <td>9</td>\n",
       "      <td>129</td>\n",
       "      <td>32</td>\n",
       "      <td>6</td>\n",
       "      <td>12</td>\n",
       "    </tr>\n",
       "    <tr>\n",
       "      <th>5</th>\n",
       "      <td>6</td>\n",
       "      <td>Quito</td>\n",
       "      <td>2016-08-27 04:19:02</td>\n",
       "      <td>2016-08-27 04:44:12</td>\n",
       "      <td>-78.509</td>\n",
       "      <td>-0.195</td>\n",
       "      <td>-78.519</td>\n",
       "      <td>-0.229</td>\n",
       "      <td>N</td>\n",
       "      <td>1510</td>\n",
       "      <td>...</td>\n",
       "      <td>38.859</td>\n",
       "      <td>2016-08-27</td>\n",
       "      <td>8</td>\n",
       "      <td>5</td>\n",
       "      <td>34</td>\n",
       "      <td>4</td>\n",
       "      <td>124</td>\n",
       "      <td>19</td>\n",
       "      <td>9</td>\n",
       "      <td>18</td>\n",
       "    </tr>\n",
       "    <tr>\n",
       "      <th>6</th>\n",
       "      <td>7</td>\n",
       "      <td>Quito</td>\n",
       "      <td>2016-09-18 10:08:57</td>\n",
       "      <td>2016-09-18 10:31:18</td>\n",
       "      <td>-78.482</td>\n",
       "      <td>-0.154</td>\n",
       "      <td>-78.518</td>\n",
       "      <td>-0.192</td>\n",
       "      <td>N</td>\n",
       "      <td>1341</td>\n",
       "      <td>...</td>\n",
       "      <td>36.620</td>\n",
       "      <td>2016-09-18</td>\n",
       "      <td>9</td>\n",
       "      <td>6</td>\n",
       "      <td>37</td>\n",
       "      <td>10</td>\n",
       "      <td>154</td>\n",
       "      <td>8</td>\n",
       "      <td>2</td>\n",
       "      <td>9</td>\n",
       "    </tr>\n",
       "    <tr>\n",
       "      <th>7</th>\n",
       "      <td>8</td>\n",
       "      <td>Quito</td>\n",
       "      <td>2016-09-18 11:06:58</td>\n",
       "      <td>2016-09-18 11:53:59</td>\n",
       "      <td>-78.530</td>\n",
       "      <td>-0.249</td>\n",
       "      <td>-78.361</td>\n",
       "      <td>-0.125</td>\n",
       "      <td>N</td>\n",
       "      <td>2821</td>\n",
       "      <td>...</td>\n",
       "      <td>53.113</td>\n",
       "      <td>2016-09-18</td>\n",
       "      <td>9</td>\n",
       "      <td>6</td>\n",
       "      <td>37</td>\n",
       "      <td>11</td>\n",
       "      <td>155</td>\n",
       "      <td>6</td>\n",
       "      <td>15</td>\n",
       "      <td>0</td>\n",
       "    </tr>\n",
       "    <tr>\n",
       "      <th>8</th>\n",
       "      <td>9</td>\n",
       "      <td>Quito</td>\n",
       "      <td>2016-09-18 11:54:04</td>\n",
       "      <td>2016-09-18 12:12:23</td>\n",
       "      <td>-78.361</td>\n",
       "      <td>-0.125</td>\n",
       "      <td>-78.393</td>\n",
       "      <td>-0.089</td>\n",
       "      <td>N</td>\n",
       "      <td>1100</td>\n",
       "      <td>...</td>\n",
       "      <td>33.166</td>\n",
       "      <td>2016-09-18</td>\n",
       "      <td>9</td>\n",
       "      <td>6</td>\n",
       "      <td>37</td>\n",
       "      <td>11</td>\n",
       "      <td>155</td>\n",
       "      <td>54</td>\n",
       "      <td>0</td>\n",
       "      <td>0</td>\n",
       "    </tr>\n",
       "  </tbody>\n",
       "</table>\n",
       "<p>5 rows × 27 columns</p>\n",
       "</div>"
      ],
      "text/plain": [
       "   id vendor_id     pickup_datetime     dropoff_datetime  pickup_longitude  \\\n",
       "0   1     Quito 2016-09-17 09:32:06  2016-09-17 10:05:51           -78.504   \n",
       "5   6     Quito 2016-08-27 04:19:02  2016-08-27 04:44:12           -78.509   \n",
       "6   7     Quito 2016-09-18 10:08:57  2016-09-18 10:31:18           -78.482   \n",
       "7   8     Quito 2016-09-18 11:06:58  2016-09-18 11:53:59           -78.530   \n",
       "8   9     Quito 2016-09-18 11:54:04  2016-09-18 12:12:23           -78.361   \n",
       "\n",
       "   pickup_latitude  dropoff_longitude  dropoff_latitude store_and_fwd_flag  \\\n",
       "0           -0.233            -78.549            -0.361                  N   \n",
       "5           -0.195            -78.519            -0.229                  N   \n",
       "6           -0.154            -78.518            -0.192                  N   \n",
       "7           -0.249            -78.361            -0.125                  N   \n",
       "8           -0.125            -78.393            -0.089                  N   \n",
       "\n",
       "   trip_duration       ...         sqrt_trip_duration  pickup_date  \\\n",
       "0           2025       ...                     45.000   2016-09-17   \n",
       "5           1510       ...                     38.859   2016-08-27   \n",
       "6           1341       ...                     36.620   2016-09-18   \n",
       "7           2821       ...                     53.113   2016-09-18   \n",
       "8           1100       ...                     33.166   2016-09-18   \n",
       "\n",
       "   pickup_month_of_year  pickup_weekday  pickup_weekofyear  pickup_hour  \\\n",
       "0                     9               5                 37            9   \n",
       "5                     8               5                 34            4   \n",
       "6                     9               6                 37           10   \n",
       "7                     9               6                 37           11   \n",
       "8                     9               6                 37           11   \n",
       "\n",
       "   pickup_week_hour  pickup_minutes pickup_cluster  dropoff_cluster  \n",
       "0               129              32              6               12  \n",
       "5               124              19              9               18  \n",
       "6               154               8              2                9  \n",
       "7               155               6             15                0  \n",
       "8               155              54              0                0  \n",
       "\n",
       "[5 rows x 27 columns]"
      ]
     },
     "execution_count": 677,
     "metadata": {},
     "output_type": "execute_result"
    }
   ],
   "source": [
    "train.head()"
   ]
  },
  {
   "cell_type": "markdown",
   "metadata": {},
   "source": [
    "### Splitting training and validation"
   ]
  },
  {
   "cell_type": "code",
   "execution_count": 678,
   "metadata": {
    "collapsed": true
   },
   "outputs": [],
   "source": [
    "train[\"pickup_cluster\"] = train[\"pickup_cluster\"].astype('category')\n",
    "train[\"dropoff_cluster\"] = train[\"dropoff_cluster\"].astype('category')\n",
    "train[\"vendor_id\"] = train[\"vendor_id\"].astype('category')\n",
    "\n",
    "from sklearn.preprocessing import LabelEncoder\n",
    "train['vendor_id'] = train[\"vendor_id\"].cat.codes\n",
    "\n",
    "test[\"pickup_cluster\"] = test[\"pickup_cluster\"].astype('category')\n",
    "test[\"dropoff_cluster\"] = test[\"dropoff_cluster\"].astype('category')\n",
    "test[\"vendor_id\"] = test[\"vendor_id\"].astype('category')\n",
    "test['vendor_id'] = test[\"vendor_id\"].cat.codes"
   ]
  },
  {
   "cell_type": "code",
   "execution_count": 679,
   "metadata": {
    "collapsed": false
   },
   "outputs": [
    {
     "name": "stdout",
     "output_type": "stream",
     "text": [
      "16584\n",
      "((16584, 28), (4147, 28))\n"
     ]
    }
   ],
   "source": [
    "# split train and validation\n",
    "train.reset_index(inplace=True)\n",
    "np.random.seed(3)\n",
    "n = train.shape[0]\n",
    "inx = np.random.permutation(n)\n",
    "n_sample = int(0.8*n)\n",
    "print n_sample\n",
    "train_set = train[train.index.isin(inx[:n_sample])]\n",
    "val_set = train[~train.index.isin(inx[:n_sample])]\n",
    "print(train_set.shape, val_set.shape)\n",
    "train_set = train_set.drop(['index'], axis=1)\n",
    "val_set = val_set.drop(['index'], axis=1)"
   ]
  },
  {
   "cell_type": "markdown",
   "metadata": {},
   "source": [
    "### Target Encoding"
   ]
  },
  {
   "cell_type": "markdown",
   "metadata": {},
   "source": [
    "Here is an example of what is called 'Target Encoding'. The idea here is given a categorical variable, create a new variable that is the mean each categorical value variable in the training data.\n",
    "\n",
    "Note that I divided the train and validation sets before doing this. Since the computation of these involve the target variable, we do it in the training and transfer it to the test/ validation sets."
   ]
  },
  {
   "cell_type": "code",
   "execution_count": 680,
   "metadata": {
    "collapsed": false
   },
   "outputs": [
    {
     "data": {
      "text/plain": [
       "id                               int64\n",
       "vendor_id                         int8\n",
       "pickup_datetime         datetime64[ns]\n",
       "dropoff_datetime                object\n",
       "pickup_longitude               float64\n",
       "pickup_latitude                float64\n",
       "dropoff_longitude              float64\n",
       "dropoff_latitude               float64\n",
       "store_and_fwd_flag              object\n",
       "trip_duration                    int64\n",
       "dist_meters                      int64\n",
       "wait_sec                         int64\n",
       "speed                          float64\n",
       "new_distance                   float64\n",
       "log_wait_sec                   float64\n",
       "sqrt_wait_sec                  float64\n",
       "log_trip_duration              float64\n",
       "sqrt_trip_duration             float64\n",
       "pickup_date                     object\n",
       "pickup_month_of_year             int64\n",
       "pickup_weekday                   int64\n",
       "pickup_weekofyear                int64\n",
       "pickup_hour                      int64\n",
       "pickup_week_hour                 int64\n",
       "pickup_minutes                   int64\n",
       "pickup_cluster                category\n",
       "dropoff_cluster               category\n",
       "dtype: object"
      ]
     },
     "execution_count": 680,
     "metadata": {},
     "output_type": "execute_result"
    }
   ],
   "source": [
    "train_set.dtypes"
   ]
  },
  {
   "cell_type": "code",
   "execution_count": 681,
   "metadata": {
    "collapsed": true
   },
   "outputs": [],
   "source": [
    "for col in ['vendor_id','pickup_weekday', 'pickup_weekofyear', 'pickup_hour',\n",
    "       'pickup_week_hour', 'pickup_month_of_year', 'pickup_minutes', 'pickup_cluster', 'dropoff_cluster']:\n",
    "    gby = train_set.groupby(col).mean()[[\"speed\", 'log_trip_duration','log_wait_sec']]\n",
    "    gby.columns = ['%s_gby_%s' % (c, col) for c in gby.columns]\n",
    "    train_set = pd.merge(train_set, gby, how='left', left_on=col, right_index=True)\n",
    "    val_set = pd.merge(val_set, gby, how='left', left_on=col, right_index=True)\n",
    "    test = pd.merge(test, gby, how='left', left_on=col, right_index=True)"
   ]
  },
  {
   "cell_type": "markdown",
   "metadata": {
    "heading_collapsed": true
   },
   "source": [
    "## Modelling"
   ]
  },
  {
   "cell_type": "code",
   "execution_count": 742,
   "metadata": {
    "collapsed": false,
    "hidden": true
   },
   "outputs": [
    {
     "data": {
      "text/plain": [
       "Index([u'id', u'vendor_id', u'pickup_datetime', u'dropoff_datetime',\n",
       "       u'pickup_longitude', u'pickup_latitude', u'dropoff_longitude',\n",
       "       u'dropoff_latitude', u'store_and_fwd_flag', u'trip_duration',\n",
       "       u'dist_meters', u'wait_sec', u'speed', u'new_distance', u'log_wait_sec',\n",
       "       u'sqrt_wait_sec', u'log_trip_duration', u'sqrt_trip_duration',\n",
       "       u'pickup_date', u'pickup_month_of_year', u'pickup_weekday',\n",
       "       u'pickup_weekofyear', u'pickup_hour', u'pickup_week_hour',\n",
       "       u'pickup_minutes', u'pickup_cluster', u'dropoff_cluster',\n",
       "       u'speed_gby_vendor_id', u'log_trip_duration_gby_vendor_id',\n",
       "       u'log_wait_sec_gby_vendor_id', u'speed_gby_pickup_weekday',\n",
       "       u'log_trip_duration_gby_pickup_weekday',\n",
       "       u'log_wait_sec_gby_pickup_weekday', u'speed_gby_pickup_weekofyear',\n",
       "       u'log_trip_duration_gby_pickup_weekofyear',\n",
       "       u'log_wait_sec_gby_pickup_weekofyear', u'speed_gby_pickup_hour',\n",
       "       u'log_trip_duration_gby_pickup_hour', u'log_wait_sec_gby_pickup_hour',\n",
       "       u'speed_gby_pickup_week_hour',\n",
       "       u'log_trip_duration_gby_pickup_week_hour',\n",
       "       u'log_wait_sec_gby_pickup_week_hour', u'speed_gby_pickup_month_of_year',\n",
       "       u'log_trip_duration_gby_pickup_month_of_year',\n",
       "       u'log_wait_sec_gby_pickup_month_of_year', u'speed_gby_pickup_minutes',\n",
       "       u'log_trip_duration_gby_pickup_minutes',\n",
       "       u'log_wait_sec_gby_pickup_minutes', u'speed_gby_pickup_cluster',\n",
       "       u'log_trip_duration_gby_pickup_cluster',\n",
       "       u'log_wait_sec_gby_pickup_cluster', u'speed_gby_dropoff_cluster',\n",
       "       u'log_trip_duration_gby_dropoff_cluster',\n",
       "       u'log_wait_sec_gby_dropoff_cluster'],\n",
       "      dtype='object')"
      ]
     },
     "execution_count": 742,
     "metadata": {},
     "output_type": "execute_result"
    }
   ],
   "source": [
    "train_set.columns"
   ]
  },
  {
   "cell_type": "code",
   "execution_count": 743,
   "metadata": {
    "collapsed": false,
    "hidden": true
   },
   "outputs": [
    {
     "data": {
      "text/plain": [
       "(16584, 54)"
      ]
     },
     "execution_count": 743,
     "metadata": {},
     "output_type": "execute_result"
    }
   ],
   "source": [
    "train_set.shape"
   ]
  },
  {
   "cell_type": "markdown",
   "metadata": {},
   "source": [
    "- **Data used for building model**"
   ]
  },
  {
   "cell_type": "code",
   "execution_count": 744,
   "metadata": {
    "collapsed": false,
    "hidden": true
   },
   "outputs": [
    {
     "data": {
      "text/plain": [
       "Index([u'vendor_id', u'pickup_longitude', u'pickup_latitude',\n",
       "       u'dropoff_longitude', u'dropoff_latitude', u'new_distance',\n",
       "       u'pickup_month_of_year', u'pickup_weekday', u'pickup_weekofyear',\n",
       "       u'pickup_hour', u'pickup_week_hour', u'pickup_minutes',\n",
       "       u'pickup_cluster', u'dropoff_cluster', u'speed_gby_vendor_id',\n",
       "       u'log_trip_duration_gby_vendor_id', u'log_wait_sec_gby_vendor_id',\n",
       "       u'speed_gby_pickup_weekday', u'log_trip_duration_gby_pickup_weekday',\n",
       "       u'log_wait_sec_gby_pickup_weekday', u'speed_gby_pickup_weekofyear',\n",
       "       u'log_trip_duration_gby_pickup_weekofyear',\n",
       "       u'log_wait_sec_gby_pickup_weekofyear', u'speed_gby_pickup_hour',\n",
       "       u'log_trip_duration_gby_pickup_hour', u'log_wait_sec_gby_pickup_hour',\n",
       "       u'speed_gby_pickup_week_hour',\n",
       "       u'log_trip_duration_gby_pickup_week_hour',\n",
       "       u'log_wait_sec_gby_pickup_week_hour', u'speed_gby_pickup_month_of_year',\n",
       "       u'log_trip_duration_gby_pickup_month_of_year',\n",
       "       u'log_wait_sec_gby_pickup_month_of_year', u'speed_gby_pickup_minutes',\n",
       "       u'log_trip_duration_gby_pickup_minutes',\n",
       "       u'log_wait_sec_gby_pickup_minutes', u'speed_gby_pickup_cluster',\n",
       "       u'log_trip_duration_gby_pickup_cluster',\n",
       "       u'log_wait_sec_gby_pickup_cluster', u'speed_gby_dropoff_cluster',\n",
       "       u'log_trip_duration_gby_dropoff_cluster',\n",
       "       u'log_wait_sec_gby_dropoff_cluster'],\n",
       "      dtype='object')"
      ]
     },
     "execution_count": 744,
     "metadata": {},
     "output_type": "execute_result"
    }
   ],
   "source": [
    "ind = [1, 4, 5, 6, 7, 13] + list(range(19, 54))\n",
    "features = train_set.columns[ind]\n",
    "features"
   ]
  },
  {
   "cell_type": "code",
   "execution_count": 745,
   "metadata": {
    "collapsed": true,
    "hidden": true
   },
   "outputs": [],
   "source": [
    "from sklearn.metrics import mean_absolute_error, mean_squared_error\n",
    "\n",
    "def print_score(true, pred):\n",
    "    print ('MAE = '+ str(mean_absolute_error(true, pred)))\n",
    "    print ('RMSE = '+ str(np.sqrt(((pred - true) ** 2).mean())))"
   ]
  },
  {
   "cell_type": "markdown",
   "metadata": {
    "heading_collapsed": true,
    "hidden": true
   },
   "source": [
    "### Linear Regression"
   ]
  },
  {
   "cell_type": "code",
   "execution_count": 746,
   "metadata": {
    "collapsed": true,
    "hidden": true
   },
   "outputs": [],
   "source": [
    "from sklearn.linear_model import LinearRegression\n",
    "\n",
    "lr = LinearRegression(fit_intercept = True, normalize=True, copy_X=True, n_jobs=-1)\n",
    "lr.fit(train_set[features], train_set[\"wait_sec\"].values)\n",
    "pred_val = lr.predict(val_set[features])"
   ]
  },
  {
   "cell_type": "code",
   "execution_count": 747,
   "metadata": {
    "collapsed": false,
    "hidden": true
   },
   "outputs": [
    {
     "name": "stdout",
     "output_type": "stream",
     "text": [
      "MAE = 163.114209067\n",
      "RMSE = 212.765046315\n"
     ]
    },
    {
     "data": {
      "text/html": [
       "<div>\n",
       "<style>\n",
       "    .dataframe thead tr:only-child th {\n",
       "        text-align: right;\n",
       "    }\n",
       "\n",
       "    .dataframe thead th {\n",
       "        text-align: left;\n",
       "    }\n",
       "\n",
       "    .dataframe tbody tr th {\n",
       "        vertical-align: top;\n",
       "    }\n",
       "</style>\n",
       "<table border=\"1\" class=\"dataframe\">\n",
       "  <thead>\n",
       "    <tr style=\"text-align: right;\">\n",
       "      <th></th>\n",
       "      <th>pred</th>\n",
       "      <th>y</th>\n",
       "    </tr>\n",
       "  </thead>\n",
       "  <tbody>\n",
       "    <tr>\n",
       "      <th>0</th>\n",
       "      <td>320.125</td>\n",
       "      <td>510</td>\n",
       "    </tr>\n",
       "    <tr>\n",
       "      <th>1</th>\n",
       "      <td>610.250</td>\n",
       "      <td>302</td>\n",
       "    </tr>\n",
       "    <tr>\n",
       "      <th>2</th>\n",
       "      <td>211.875</td>\n",
       "      <td>390</td>\n",
       "    </tr>\n",
       "    <tr>\n",
       "      <th>3</th>\n",
       "      <td>170.750</td>\n",
       "      <td>43</td>\n",
       "    </tr>\n",
       "    <tr>\n",
       "      <th>4</th>\n",
       "      <td>278.500</td>\n",
       "      <td>126</td>\n",
       "    </tr>\n",
       "    <tr>\n",
       "      <th>5</th>\n",
       "      <td>121.250</td>\n",
       "      <td>963</td>\n",
       "    </tr>\n",
       "    <tr>\n",
       "      <th>6</th>\n",
       "      <td>213.625</td>\n",
       "      <td>341</td>\n",
       "    </tr>\n",
       "    <tr>\n",
       "      <th>7</th>\n",
       "      <td>307.375</td>\n",
       "      <td>125</td>\n",
       "    </tr>\n",
       "    <tr>\n",
       "      <th>8</th>\n",
       "      <td>285.375</td>\n",
       "      <td>895</td>\n",
       "    </tr>\n",
       "    <tr>\n",
       "      <th>9</th>\n",
       "      <td>271.625</td>\n",
       "      <td>356</td>\n",
       "    </tr>\n",
       "  </tbody>\n",
       "</table>\n",
       "</div>"
      ],
      "text/plain": [
       "     pred    y\n",
       "0 320.125  510\n",
       "1 610.250  302\n",
       "2 211.875  390\n",
       "3 170.750   43\n",
       "4 278.500  126\n",
       "5 121.250  963\n",
       "6 213.625  341\n",
       "7 307.375  125\n",
       "8 285.375  895\n",
       "9 271.625  356"
      ]
     },
     "execution_count": 747,
     "metadata": {},
     "output_type": "execute_result"
    }
   ],
   "source": [
    "val_y = val_set['wait_sec'].values\n",
    "pred = pred_val\n",
    "res = pd.DataFrame({'pred': pred, 'y': val_y})\n",
    "print_score(res.y,res.pred)\n",
    "res.head(10)"
   ]
  },
  {
   "cell_type": "markdown",
   "metadata": {
    "heading_collapsed": true,
    "hidden": true
   },
   "source": [
    "#### Lasso"
   ]
  },
  {
   "cell_type": "code",
   "execution_count": 748,
   "metadata": {
    "collapsed": false,
    "hidden": true
   },
   "outputs": [
    {
     "data": {
      "text/plain": [
       "Lasso(alpha=0.8, copy_X=True, fit_intercept=True, max_iter=1000,\n",
       "   normalize=False, positive=False, precompute=False, random_state=None,\n",
       "   selection='cyclic', tol=0.0001, warm_start=False)"
      ]
     },
     "execution_count": 748,
     "metadata": {},
     "output_type": "execute_result"
    }
   ],
   "source": [
    "from sklearn import linear_model\n",
    "\n",
    "lr_lasso = linear_model.Lasso(alpha=0.8)\n",
    "lr_lasso.fit(train_set[features], train_set[\"wait_sec\"].values)"
   ]
  },
  {
   "cell_type": "code",
   "execution_count": 749,
   "metadata": {
    "collapsed": false,
    "hidden": true
   },
   "outputs": [
    {
     "data": {
      "text/plain": [
       "24"
      ]
     },
     "execution_count": 749,
     "metadata": {},
     "output_type": "execute_result"
    }
   ],
   "source": [
    "# Number of coefficients turned to 0 by lasso\n",
    "sum(lr_lasso.coef_ == 0)"
   ]
  },
  {
   "cell_type": "code",
   "execution_count": 750,
   "metadata": {
    "collapsed": false,
    "hidden": true
   },
   "outputs": [
    {
     "name": "stdout",
     "output_type": "stream",
     "text": [
      "MAE = 163.284726013\n",
      "RMSE = 212.330496705\n"
     ]
    }
   ],
   "source": [
    "pred_val = lr_lasso.predict(val_set[features])\n",
    "val_y = val_set['wait_sec'].values\n",
    "pred = pred_val\n",
    "res = pd.DataFrame({'pred': pred, 'y': val_y})\n",
    "print_score(res.y,res.pred)"
   ]
  },
  {
   "cell_type": "markdown",
   "metadata": {
    "heading_collapsed": true,
    "hidden": true
   },
   "source": [
    "#### Ridge"
   ]
  },
  {
   "cell_type": "code",
   "execution_count": 751,
   "metadata": {
    "collapsed": false,
    "hidden": true
   },
   "outputs": [
    {
     "data": {
      "text/plain": [
       "Ridge(alpha=0.9, copy_X=True, fit_intercept=True, max_iter=None,\n",
       "   normalize=False, random_state=None, solver='auto', tol=0.001)"
      ]
     },
     "execution_count": 751,
     "metadata": {},
     "output_type": "execute_result"
    }
   ],
   "source": [
    "from sklearn import linear_model\n",
    "\n",
    "lr_ridge = linear_model.Ridge(alpha=0.9)\n",
    "lr_ridge.fit(train_set[features], train_set[\"wait_sec\"].values)"
   ]
  },
  {
   "cell_type": "code",
   "execution_count": 752,
   "metadata": {
    "collapsed": false,
    "hidden": true
   },
   "outputs": [
    {
     "data": {
      "text/plain": [
       "array([ -1.74013133e+01,   2.50991760e+02,  -9.75174415e+00,\n",
       "         5.50307702e+01,  -2.27026719e+02,   2.14375129e+01,\n",
       "        -9.21326137e-01,   5.21230535e-02,   4.65593956e-01,\n",
       "        -1.22952614e+00,   2.14271720e-02,  -1.58415977e-02,\n",
       "         1.68126433e-02,   1.71301063e-01,  -1.57645276e+01,\n",
       "         4.47337593e+01,   3.07415142e+01,  -4.47181155e+00,\n",
       "        -4.91058309e+01,   6.72806181e+00,  -1.64317432e+01,\n",
       "         3.03637746e+01,   1.00109768e+02,  -4.15250824e+01,\n",
       "         9.51438371e+01,  -5.50860667e+01,  -1.34351515e+01,\n",
       "         2.64090471e+01,   1.28718961e+02,  -5.24447121e+00,\n",
       "         6.49087487e+01,   1.00235849e+01,  -4.38801729e+00,\n",
       "         2.87069925e+01,   1.07337614e+02,   7.13439683e-01,\n",
       "        -6.75918464e+01,   1.41044475e+02,   5.02023705e+00,\n",
       "        -4.64885916e+01,   1.46972218e+02])"
      ]
     },
     "execution_count": 752,
     "metadata": {},
     "output_type": "execute_result"
    }
   ],
   "source": [
    "# Number of coefficients turned close to 0 by ridge\n",
    "lr_ridge.coef_"
   ]
  },
  {
   "cell_type": "code",
   "execution_count": 753,
   "metadata": {
    "collapsed": false,
    "hidden": true
   },
   "outputs": [
    {
     "name": "stdout",
     "output_type": "stream",
     "text": [
      "MAE = 163.425187285\n",
      "RMSE = 212.67485091\n"
     ]
    }
   ],
   "source": [
    "pred_val = lr_ridge.predict(val_set[features])\n",
    "val_y = val_set['wait_sec'].values\n",
    "pred = pred_val\n",
    "res = pd.DataFrame({'pred': pred, 'y': val_y})\n",
    "print_score(res.y,res.pred)"
   ]
  },
  {
   "cell_type": "markdown",
   "metadata": {
    "collapsed": true,
    "hidden": true
   },
   "source": [
    "### Random Forest"
   ]
  },
  {
   "cell_type": "code",
   "execution_count": 754,
   "metadata": {
    "collapsed": true,
    "hidden": true
   },
   "outputs": [],
   "source": [
    "from sklearn.ensemble import RandomForestRegressor\n",
    "\n",
    "rf = RandomForestRegressor(n_jobs=-1,max_features='sqrt',oob_score=True, \n",
    "                                     n_estimators=100,min_samples_split=80,min_samples_leaf=40)\n",
    "rf.fit(train_set[features], train_set.wait_sec.values)\n",
    "\n",
    "pred_val = rf.predict(val_set[features])"
   ]
  },
  {
   "cell_type": "code",
   "execution_count": 755,
   "metadata": {
    "collapsed": false,
    "hidden": true
   },
   "outputs": [
    {
     "name": "stdout",
     "output_type": "stream",
     "text": [
      "MAE = 158.732083491\n",
      "RMSE = 206.145660405\n"
     ]
    },
    {
     "data": {
      "text/html": [
       "<div>\n",
       "<style>\n",
       "    .dataframe thead tr:only-child th {\n",
       "        text-align: right;\n",
       "    }\n",
       "\n",
       "    .dataframe thead th {\n",
       "        text-align: left;\n",
       "    }\n",
       "\n",
       "    .dataframe tbody tr th {\n",
       "        vertical-align: top;\n",
       "    }\n",
       "</style>\n",
       "<table border=\"1\" class=\"dataframe\">\n",
       "  <thead>\n",
       "    <tr style=\"text-align: right;\">\n",
       "      <th></th>\n",
       "      <th>pred</th>\n",
       "      <th>y</th>\n",
       "    </tr>\n",
       "  </thead>\n",
       "  <tbody>\n",
       "    <tr>\n",
       "      <th>0</th>\n",
       "      <td>275.318</td>\n",
       "      <td>510</td>\n",
       "    </tr>\n",
       "    <tr>\n",
       "      <th>1</th>\n",
       "      <td>278.835</td>\n",
       "      <td>302</td>\n",
       "    </tr>\n",
       "    <tr>\n",
       "      <th>2</th>\n",
       "      <td>199.804</td>\n",
       "      <td>390</td>\n",
       "    </tr>\n",
       "    <tr>\n",
       "      <th>3</th>\n",
       "      <td>198.527</td>\n",
       "      <td>43</td>\n",
       "    </tr>\n",
       "    <tr>\n",
       "      <th>4</th>\n",
       "      <td>242.208</td>\n",
       "      <td>126</td>\n",
       "    </tr>\n",
       "  </tbody>\n",
       "</table>\n",
       "</div>"
      ],
      "text/plain": [
       "     pred    y\n",
       "0 275.318  510\n",
       "1 278.835  302\n",
       "2 199.804  390\n",
       "3 198.527   43\n",
       "4 242.208  126"
      ]
     },
     "execution_count": 755,
     "metadata": {},
     "output_type": "execute_result"
    }
   ],
   "source": [
    "val_y = val_set['wait_sec'].values\n",
    "pred = pred_val\n",
    "res_rf = pd.DataFrame({'pred': pred, 'y': val_y})\n",
    "print_score(res_rf.y,res_rf.pred)\n",
    "res_rf.head()"
   ]
  },
  {
   "cell_type": "code",
   "execution_count": 756,
   "metadata": {
    "collapsed": false,
    "hidden": true
   },
   "outputs": [
    {
     "name": "stdout",
     "output_type": "stream",
     "text": [
      "Features sorted by their score:\n",
      "                                          cols   imp\n",
      "5                                 new_distance 0.327\n",
      "2                              pickup_latitude 0.050\n",
      "37             log_wait_sec_gby_pickup_cluster 0.049\n",
      "3                            dropoff_longitude 0.043\n",
      "1                             pickup_longitude 0.043\n",
      "4                             dropoff_latitude 0.042\n",
      "35                    speed_gby_pickup_cluster 0.040\n",
      "38                   speed_gby_dropoff_cluster 0.039\n",
      "40            log_wait_sec_gby_dropoff_cluster 0.038\n",
      "28           log_wait_sec_gby_pickup_week_hour 0.028\n",
      "26                  speed_gby_pickup_week_hour 0.023\n",
      "10                            pickup_week_hour 0.021\n",
      "36        log_trip_duration_gby_pickup_cluster 0.018\n",
      "22          log_wait_sec_gby_pickup_weekofyear 0.016\n",
      "27      log_trip_duration_gby_pickup_week_hour 0.015\n",
      "34             log_wait_sec_gby_pickup_minutes 0.013\n",
      "33        log_trip_duration_gby_pickup_minutes 0.013\n",
      "21     log_trip_duration_gby_pickup_weekofyear 0.012\n",
      "12                              pickup_cluster 0.012\n",
      "20                 speed_gby_pickup_weekofyear 0.012\n",
      "39       log_trip_duration_gby_dropoff_cluster 0.011\n",
      "7                               pickup_weekday 0.011\n",
      "13                             dropoff_cluster 0.011\n",
      "32                    speed_gby_pickup_minutes 0.010\n",
      "8                            pickup_weekofyear 0.010\n",
      "9                                  pickup_hour 0.010\n",
      "17                    speed_gby_pickup_weekday 0.010\n",
      "19             log_wait_sec_gby_pickup_weekday 0.009\n",
      "23                       speed_gby_pickup_hour 0.009\n",
      "11                              pickup_minutes 0.009\n",
      "30  log_trip_duration_gby_pickup_month_of_year 0.008\n",
      "29              speed_gby_pickup_month_of_year 0.008\n",
      "31       log_wait_sec_gby_pickup_month_of_year 0.006\n",
      "24           log_trip_duration_gby_pickup_hour 0.006\n",
      "25                log_wait_sec_gby_pickup_hour 0.006\n",
      "6                         pickup_month_of_year 0.006\n",
      "18        log_trip_duration_gby_pickup_weekday 0.006\n",
      "14                         speed_gby_vendor_id 0.000\n",
      "15             log_trip_duration_gby_vendor_id 0.000\n",
      "16                  log_wait_sec_gby_vendor_id 0.000\n",
      "0                                    vendor_id 0.000\n"
     ]
    }
   ],
   "source": [
    "import matplotlib.pyplot as plt\n",
    "% matplotlib inline\n",
    "\n",
    "feature_imp = pd.DataFrame({'cols':train_set[features].columns, 'imp':rf.feature_importances_}).sort_values('imp', ascending=False)\n",
    "feature_imp\n",
    "\n",
    "print \"Features sorted by their score:\"\n",
    "print feature_imp"
   ]
  },
  {
   "cell_type": "code",
   "execution_count": 757,
   "metadata": {
    "collapsed": false,
    "hidden": true
   },
   "outputs": [
    {
     "data": {
      "text/plain": [
       "<matplotlib.axes._subplots.AxesSubplot at 0x7f46a80bb890>"
      ]
     },
     "execution_count": 757,
     "metadata": {},
     "output_type": "execute_result"
    },
    {
     "data": {
      "image/png": "[encoded data removed]",
      "text/plain": [
       "<matplotlib.figure.Figure at 0x7f46b011f090>"
      ]
     },
     "metadata": {},
     "output_type": "display_data"
    }
   ],
   "source": [
    "feature_imp.plot('cols', 'imp', figsize=(10,6), legend=True)"
   ]
  },
  {
   "cell_type": "code",
   "execution_count": 758,
   "metadata": {
    "collapsed": false,
    "hidden": true
   },
   "outputs": [
    {
     "data": {
      "text/plain": [
       "<matplotlib.axes._subplots.AxesSubplot at 0x7f46a809d4d0>"
      ]
     },
     "execution_count": 758,
     "metadata": {},
     "output_type": "execute_result"
    },
    {
     "data": {
      "image/png": "[encoded data removed]",
      "text/plain": [
       "<matplotlib.figure.Figure at 0x7f46a80a1ed0>"
      ]
     },
     "metadata": {},
     "output_type": "display_data"
    }
   ],
   "source": [
    "feature_imp[0:20].plot('cols', 'imp', 'barh', legend=False)"
   ]
  },
  {
   "cell_type": "code",
   "execution_count": 759,
   "metadata": {
    "collapsed": false,
    "hidden": true
   },
   "outputs": [
    {
     "data": {
      "text/plain": [
       "5                                new_distance\n",
       "2                             pickup_latitude\n",
       "37            log_wait_sec_gby_pickup_cluster\n",
       "3                           dropoff_longitude\n",
       "1                            pickup_longitude\n",
       "4                            dropoff_latitude\n",
       "35                   speed_gby_pickup_cluster\n",
       "38                  speed_gby_dropoff_cluster\n",
       "40           log_wait_sec_gby_dropoff_cluster\n",
       "28          log_wait_sec_gby_pickup_week_hour\n",
       "26                 speed_gby_pickup_week_hour\n",
       "10                           pickup_week_hour\n",
       "36       log_trip_duration_gby_pickup_cluster\n",
       "22         log_wait_sec_gby_pickup_weekofyear\n",
       "27     log_trip_duration_gby_pickup_week_hour\n",
       "34            log_wait_sec_gby_pickup_minutes\n",
       "33       log_trip_duration_gby_pickup_minutes\n",
       "21    log_trip_duration_gby_pickup_weekofyear\n",
       "12                             pickup_cluster\n",
       "20                speed_gby_pickup_weekofyear\n",
       "39      log_trip_duration_gby_dropoff_cluster\n",
       "7                              pickup_weekday\n",
       "13                            dropoff_cluster\n",
       "32                   speed_gby_pickup_minutes\n",
       "8                           pickup_weekofyear\n",
       "9                                 pickup_hour\n",
       "Name: cols, dtype: object"
      ]
     },
     "execution_count": 759,
     "metadata": {},
     "output_type": "execute_result"
    }
   ],
   "source": [
    "feature_imp[feature_imp.imp>0.01].cols"
   ]
  },
  {
   "cell_type": "markdown",
   "metadata": {
    "hidden": true
   },
   "source": [
    "- Feature importance:- We can select features till where the elbow bends and build our model which will be less complex than this."
   ]
  },
  {
   "cell_type": "code",
   "execution_count": 760,
   "metadata": {
    "collapsed": true
   },
   "outputs": [],
   "source": [
    "selected_features = feature_imp[feature_imp.imp>0.01].cols"
   ]
  },
  {
   "cell_type": "markdown",
   "metadata": {
    "hidden": true
   },
   "source": [
    "#### Hyperparameter Tuning"
   ]
  },
  {
   "cell_type": "code",
   "execution_count": 761,
   "metadata": {
    "collapsed": true
   },
   "outputs": [],
   "source": [
    "from sklearn.ensemble import RandomForestRegressor\n",
    "\n",
    "rf = RandomForestRegressor(n_jobs=-1,max_features='sqrt',oob_score=True, \n",
    "                                     n_estimators=200,min_samples_split=80,min_samples_leaf=40)\n",
    "rf.fit(train_set[selected_features], train_set.wait_sec.values)\n",
    "\n",
    "pred_val = rf.predict(val_set[selected_features])"
   ]
  },
  {
   "cell_type": "code",
   "execution_count": 762,
   "metadata": {
    "collapsed": false
   },
   "outputs": [
    {
     "name": "stdout",
     "output_type": "stream",
     "text": [
      "MAE = 157.281840875\n",
      "RMSE = 205.192715415\n"
     ]
    },
    {
     "data": {
      "text/html": [
       "<div>\n",
       "<style>\n",
       "    .dataframe thead tr:only-child th {\n",
       "        text-align: right;\n",
       "    }\n",
       "\n",
       "    .dataframe thead th {\n",
       "        text-align: left;\n",
       "    }\n",
       "\n",
       "    .dataframe tbody tr th {\n",
       "        vertical-align: top;\n",
       "    }\n",
       "</style>\n",
       "<table border=\"1\" class=\"dataframe\">\n",
       "  <thead>\n",
       "    <tr style=\"text-align: right;\">\n",
       "      <th></th>\n",
       "      <th>pred</th>\n",
       "      <th>y</th>\n",
       "    </tr>\n",
       "  </thead>\n",
       "  <tbody>\n",
       "    <tr>\n",
       "      <th>0</th>\n",
       "      <td>294.153</td>\n",
       "      <td>510</td>\n",
       "    </tr>\n",
       "    <tr>\n",
       "      <th>1</th>\n",
       "      <td>295.817</td>\n",
       "      <td>302</td>\n",
       "    </tr>\n",
       "    <tr>\n",
       "      <th>2</th>\n",
       "      <td>197.081</td>\n",
       "      <td>390</td>\n",
       "    </tr>\n",
       "    <tr>\n",
       "      <th>3</th>\n",
       "      <td>198.896</td>\n",
       "      <td>43</td>\n",
       "    </tr>\n",
       "    <tr>\n",
       "      <th>4</th>\n",
       "      <td>255.498</td>\n",
       "      <td>126</td>\n",
       "    </tr>\n",
       "  </tbody>\n",
       "</table>\n",
       "</div>"
      ],
      "text/plain": [
       "     pred    y\n",
       "0 294.153  510\n",
       "1 295.817  302\n",
       "2 197.081  390\n",
       "3 198.896   43\n",
       "4 255.498  126"
      ]
     },
     "execution_count": 762,
     "metadata": {},
     "output_type": "execute_result"
    }
   ],
   "source": [
    "val_y = val_set['wait_sec'].values\n",
    "pred = pred_val\n",
    "res_rf = pd.DataFrame({'pred': pred, 'y': val_y})\n",
    "print_score(res_rf.y,res_rf.pred)\n",
    "res_rf.head()"
   ]
  },
  {
   "cell_type": "code",
   "execution_count": 763,
   "metadata": {
    "collapsed": true,
    "hidden": true
   },
   "outputs": [],
   "source": [
    "from sklearn.model_selection import GridSearchCV\n",
    "# Create the parameter grid based on the results of random search \n",
    "param_grid = {\n",
    "    'bootstrap': [True],\n",
    "    'max_depth': [50, 100],\n",
    "    'max_features': [0.1, 0.3, 0.5],\n",
    "    'min_samples_leaf': [50, 100],\n",
    "    'min_samples_split': [100, 200],\n",
    "    'n_estimators': [100, 200, 300]\n",
    "}\n",
    "# Instantiate the grid search model\n",
    "grid_search = GridSearchCV(estimator = rf, param_grid = param_grid, \n",
    "                          cv = 3, n_jobs = -1, verbose = False)"
   ]
  },
  {
   "cell_type": "code",
   "execution_count": 764,
   "metadata": {
    "collapsed": false,
    "hidden": true
   },
   "outputs": [
    {
     "name": "stdout",
     "output_type": "stream",
     "text": [
      "RandomForestRegressor(bootstrap=True, criterion='mse', max_depth=100,\n",
      "           max_features=0.5, max_leaf_nodes=None, min_impurity_split=1e-07,\n",
      "           min_samples_leaf=50, min_samples_split=100,\n",
      "           min_weight_fraction_leaf=0.0, n_estimators=300, n_jobs=-1,\n",
      "           oob_score=True, random_state=None, verbose=0, warm_start=False)\n"
     ]
    }
   ],
   "source": [
    "# Fit the grid search to the data\n",
    "grid_search.fit(train_set[selected_features], train_set.wait_sec.values)\n",
    "grid_search.best_params_\n",
    "best_grid = grid_search.best_estimator_\n",
    "\n",
    "print(best_grid)"
   ]
  },
  {
   "cell_type": "code",
   "execution_count": 765,
   "metadata": {
    "collapsed": false,
    "hidden": true
   },
   "outputs": [
    {
     "data": {
      "text/plain": [
       "{'bootstrap': True,\n",
       " 'max_depth': 100,\n",
       " 'max_features': 0.5,\n",
       " 'min_samples_leaf': 50,\n",
       " 'min_samples_split': 100,\n",
       " 'n_estimators': 300}"
      ]
     },
     "execution_count": 765,
     "metadata": {},
     "output_type": "execute_result"
    }
   ],
   "source": [
    "grid_search.best_params_"
   ]
  },
  {
   "cell_type": "markdown",
   "metadata": {},
   "source": [
    "         hyper_parameter_results:- \n",
    "         {'bootstrap': True,\n",
    "         'max_depth': 100,\n",
    "         'max_features': 0.5,\n",
    "         'min_samples_leaf': 50,\n",
    "         'min_samples_split': 100,\n",
    "         'n_estimators': 300}"
   ]
  },
  {
   "cell_type": "markdown",
   "metadata": {
    "hidden": true
   },
   "source": [
    "- fitting after hyperparameter tuning and choosing best features"
   ]
  },
  {
   "cell_type": "code",
   "execution_count": 767,
   "metadata": {
    "collapsed": false,
    "hidden": true
   },
   "outputs": [
    {
     "name": "stdout",
     "output_type": "stream",
     "text": [
      "MAE = 156.304566297\n",
      "RMSE = 204.694006584\n"
     ]
    },
    {
     "data": {
      "text/html": [
       "<div>\n",
       "<style>\n",
       "    .dataframe thead tr:only-child th {\n",
       "        text-align: right;\n",
       "    }\n",
       "\n",
       "    .dataframe thead th {\n",
       "        text-align: left;\n",
       "    }\n",
       "\n",
       "    .dataframe tbody tr th {\n",
       "        vertical-align: top;\n",
       "    }\n",
       "</style>\n",
       "<table border=\"1\" class=\"dataframe\">\n",
       "  <thead>\n",
       "    <tr style=\"text-align: right;\">\n",
       "      <th></th>\n",
       "      <th>pred</th>\n",
       "      <th>y</th>\n",
       "    </tr>\n",
       "  </thead>\n",
       "  <tbody>\n",
       "    <tr>\n",
       "      <th>0</th>\n",
       "      <td>298.682</td>\n",
       "      <td>510</td>\n",
       "    </tr>\n",
       "    <tr>\n",
       "      <th>1</th>\n",
       "      <td>326.162</td>\n",
       "      <td>302</td>\n",
       "    </tr>\n",
       "    <tr>\n",
       "      <th>2</th>\n",
       "      <td>213.777</td>\n",
       "      <td>390</td>\n",
       "    </tr>\n",
       "    <tr>\n",
       "      <th>3</th>\n",
       "      <td>212.887</td>\n",
       "      <td>43</td>\n",
       "    </tr>\n",
       "    <tr>\n",
       "      <th>4</th>\n",
       "      <td>249.940</td>\n",
       "      <td>126</td>\n",
       "    </tr>\n",
       "  </tbody>\n",
       "</table>\n",
       "</div>"
      ],
      "text/plain": [
       "     pred    y\n",
       "0 298.682  510\n",
       "1 326.162  302\n",
       "2 213.777  390\n",
       "3 212.887   43\n",
       "4 249.940  126"
      ]
     },
     "execution_count": 767,
     "metadata": {},
     "output_type": "execute_result"
    }
   ],
   "source": [
    "best_grid.fit(train_set[selected_features], train_set.wait_sec.values)\n",
    "\n",
    "pred_val = best_grid.predict(val_set[selected_features])\n",
    "val_y = val_set['wait_sec'].values\n",
    "pred = pred_val\n",
    "res_rf = pd.DataFrame({'pred': pred, 'y': val_y})\n",
    "print_score(res_rf.y,res_rf.pred)\n",
    "res_rf.head()"
   ]
  },
  {
   "cell_type": "markdown",
   "metadata": {
    "hidden": true
   },
   "source": [
    "- Performance improve slightly"
   ]
  },
  {
   "cell_type": "markdown",
   "metadata": {},
   "source": [
    "## Funneling the important features into other ML models"
   ]
  },
  {
   "cell_type": "markdown",
   "metadata": {
    "hidden": true
   },
   "source": [
    "### XGBoost"
   ]
  },
  {
   "cell_type": "code",
   "execution_count": 703,
   "metadata": {
    "collapsed": true,
    "hidden": true
   },
   "outputs": [],
   "source": [
    "\n",
    "xgb_pars = {'min_child_weight': 40, 'eta': 0.1, 'colsample_bytree': 0.5, 'n_estimators': 1000,'max_depth': 5,\n",
    "            'subsample': 0.8, 'lambda': 1., 'nthread': -1, 'booster' : 'gbtree', 'silent': 1,\n",
    "            'eval_metric': 'rmse', 'objective': 'reg:linear'}"
   ]
  },
  {
   "cell_type": "code",
   "execution_count": 704,
   "metadata": {
    "collapsed": false,
    "hidden": true,
    "scrolled": true
   },
   "outputs": [
    {
     "name": "stdout",
     "output_type": "stream",
     "text": [
      "(16584, 54)\n"
     ]
    }
   ],
   "source": [
    "# initially training on a subset of the data\n",
    "# train_set = train_set[:5000]\n",
    "print train_set.shape\n",
    "\n",
    "train_y = train_set['wait_sec'].values\n",
    "val_y = val_set['wait_sec'].values\n",
    "\n",
    "dtrain = xgb.DMatrix(train_set[selected_features].values, label=train_y)\n",
    "dvalid = xgb.DMatrix(val_set[selected_features].values, label=val_y)\n",
    "dtest = xgb.DMatrix(test[selected_features].values)\n",
    "watchlist = [(dtrain, 'train'), (dvalid, 'valid')]"
   ]
  },
  {
   "cell_type": "code",
   "execution_count": 705,
   "metadata": {
    "collapsed": false,
    "hidden": true
   },
   "outputs": [
    {
     "name": "stdout",
     "output_type": "stream",
     "text": [
      "Time fitting xgb: 4 seconds\n"
     ]
    }
   ],
   "source": [
    "# train xgboost model\n",
    "import datetime as dt\n",
    "t0 = dt.datetime.now()\n",
    "gbm = xgb.train(xgb_pars, dtrain, 2000, watchlist, early_stopping_rounds=50, verbose_eval=False)\n",
    "t1 = dt.datetime.now()\n",
    "print('Time fitting xgb: %i seconds' % (t1 - t0).seconds)"
   ]
  },
  {
   "cell_type": "code",
   "execution_count": 706,
   "metadata": {
    "collapsed": true,
    "hidden": true
   },
   "outputs": [],
   "source": [
    "predictions = gbm.predict(dvalid)"
   ]
  },
  {
   "cell_type": "code",
   "execution_count": 707,
   "metadata": {
    "collapsed": false,
    "hidden": true
   },
   "outputs": [
    {
     "name": "stdout",
     "output_type": "stream",
     "text": [
      "MAE = 153.860679016\n",
      "RMSE = 202.766723704\n"
     ]
    },
    {
     "data": {
      "text/html": [
       "<div>\n",
       "<style>\n",
       "    .dataframe thead tr:only-child th {\n",
       "        text-align: right;\n",
       "    }\n",
       "\n",
       "    .dataframe thead th {\n",
       "        text-align: left;\n",
       "    }\n",
       "\n",
       "    .dataframe tbody tr th {\n",
       "        vertical-align: top;\n",
       "    }\n",
       "</style>\n",
       "<table border=\"1\" class=\"dataframe\">\n",
       "  <thead>\n",
       "    <tr style=\"text-align: right;\">\n",
       "      <th></th>\n",
       "      <th>pred</th>\n",
       "      <th>y</th>\n",
       "    </tr>\n",
       "  </thead>\n",
       "  <tbody>\n",
       "    <tr>\n",
       "      <th>0</th>\n",
       "      <td>267.417</td>\n",
       "      <td>510</td>\n",
       "    </tr>\n",
       "    <tr>\n",
       "      <th>1</th>\n",
       "      <td>255.340</td>\n",
       "      <td>302</td>\n",
       "    </tr>\n",
       "    <tr>\n",
       "      <th>2</th>\n",
       "      <td>39.917</td>\n",
       "      <td>390</td>\n",
       "    </tr>\n",
       "    <tr>\n",
       "      <th>3</th>\n",
       "      <td>162.303</td>\n",
       "      <td>43</td>\n",
       "    </tr>\n",
       "    <tr>\n",
       "      <th>4</th>\n",
       "      <td>192.966</td>\n",
       "      <td>126</td>\n",
       "    </tr>\n",
       "  </tbody>\n",
       "</table>\n",
       "</div>"
      ],
      "text/plain": [
       "     pred    y\n",
       "0 267.417  510\n",
       "1 255.340  302\n",
       "2  39.917  390\n",
       "3 162.303   43\n",
       "4 192.966  126"
      ]
     },
     "execution_count": 707,
     "metadata": {},
     "output_type": "execute_result"
    }
   ],
   "source": [
    "val_y = val_set['wait_sec'].values\n",
    "pred = predictions\n",
    "res_xg = pd.DataFrame({'pred': pred, 'y': val_y})\n",
    "print_score(res_xg.y,res_xg.pred)\n",
    "res_xg.head()"
   ]
  },
  {
   "cell_type": "markdown",
   "metadata": {},
   "source": [
    "- saving xgboost model"
   ]
  },
  {
   "cell_type": "code",
   "execution_count": 728,
   "metadata": {
    "collapsed": false
   },
   "outputs": [
    {
     "data": {
      "text/plain": [
       "['quito_model.pkl']"
      ]
     },
     "execution_count": 728,
     "metadata": {},
     "output_type": "execute_result"
    }
   ],
   "source": [
    "import joblib\n",
    "\n",
    "filename = \"quito_model.pkl\"\n",
    "joblib.dump(gbm, filename) "
   ]
  },
  {
   "cell_type": "markdown",
   "metadata": {
    "heading_collapsed": true,
    "hidden": true
   },
   "source": [
    "### Neural Network"
   ]
  },
  {
   "cell_type": "code",
   "execution_count": 709,
   "metadata": {
    "collapsed": true,
    "hidden": true
   },
   "outputs": [],
   "source": [
    "from keras.optimizers import SGD, RMSprop, adam\n",
    "from keras.models import Sequential\n",
    "from keras.layers import Dense, Dropout\n",
    "\n",
    "model = Sequential()\n",
    "model.add(Dense(32, activation='relu', input_dim=26))\n",
    "model.add(Dense(16, activation='relu') )\n",
    "# model.add(Dropout(0.2))\n",
    "# model.add(Dense(8, activation='relu') )\n",
    "# model.add(Dropout(0.2))\n",
    "model.add(Dense(4, activation='relu') )\n",
    "model.add(Dense(1))\n",
    "opt = adam(lr=0.01)\n",
    "# \n",
    "model.compile(optimizer=opt,\n",
    "              loss='mean_squared_error',\n",
    "              metrics=['accuracy'])"
   ]
  },
  {
   "cell_type": "code",
   "execution_count": 710,
   "metadata": {
    "collapsed": false,
    "hidden": true
   },
   "outputs": [
    {
     "data": {
      "text/plain": [
       "<keras.callbacks.History at 0x7f46aac59190>"
      ]
     },
     "execution_count": 710,
     "metadata": {},
     "output_type": "execute_result"
    }
   ],
   "source": [
    "model.fit(train_set[selected_features].as_matrix(), train_set.wait_sec.values, nb_epoch=50, batch_size=32, verbose=0)"
   ]
  },
  {
   "cell_type": "code",
   "execution_count": 711,
   "metadata": {
    "collapsed": false,
    "hidden": true
   },
   "outputs": [
    {
     "name": "stdout",
     "output_type": "stream",
     "text": [
      "0.000964552697225\n"
     ]
    }
   ],
   "source": [
    "score = model.evaluate(val_set[selected_features].as_matrix(), val_set.wait_sec.values, batch_size=128, verbose=2)\n",
    "print score[1]"
   ]
  },
  {
   "cell_type": "code",
   "execution_count": 712,
   "metadata": {
    "collapsed": false,
    "hidden": true
   },
   "outputs": [
    {
     "name": "stdout",
     "output_type": "stream",
     "text": [
      "MAE = 161.016061202\n",
      "RMSE = 210.591052486\n"
     ]
    },
    {
     "data": {
      "text/html": [
       "<div>\n",
       "<style>\n",
       "    .dataframe thead tr:only-child th {\n",
       "        text-align: right;\n",
       "    }\n",
       "\n",
       "    .dataframe thead th {\n",
       "        text-align: left;\n",
       "    }\n",
       "\n",
       "    .dataframe tbody tr th {\n",
       "        vertical-align: top;\n",
       "    }\n",
       "</style>\n",
       "<table border=\"1\" class=\"dataframe\">\n",
       "  <thead>\n",
       "    <tr style=\"text-align: right;\">\n",
       "      <th></th>\n",
       "      <th>pred</th>\n",
       "      <th>y</th>\n",
       "    </tr>\n",
       "  </thead>\n",
       "  <tbody>\n",
       "    <tr>\n",
       "      <th>0</th>\n",
       "      <td>280.550</td>\n",
       "      <td>510</td>\n",
       "    </tr>\n",
       "    <tr>\n",
       "      <th>1</th>\n",
       "      <td>284.572</td>\n",
       "      <td>302</td>\n",
       "    </tr>\n",
       "    <tr>\n",
       "      <th>2</th>\n",
       "      <td>223.528</td>\n",
       "      <td>390</td>\n",
       "    </tr>\n",
       "    <tr>\n",
       "      <th>3</th>\n",
       "      <td>230.782</td>\n",
       "      <td>43</td>\n",
       "    </tr>\n",
       "    <tr>\n",
       "      <th>4</th>\n",
       "      <td>282.799</td>\n",
       "      <td>126</td>\n",
       "    </tr>\n",
       "  </tbody>\n",
       "</table>\n",
       "</div>"
      ],
      "text/plain": [
       "     pred    y\n",
       "0 280.550  510\n",
       "1 284.572  302\n",
       "2 223.528  390\n",
       "3 230.782   43\n",
       "4 282.799  126"
      ]
     },
     "execution_count": 712,
     "metadata": {},
     "output_type": "execute_result"
    }
   ],
   "source": [
    "predictions = model.predict(val_set[selected_features].as_matrix())\n",
    "\n",
    "val_y = val_set['wait_sec'].values\n",
    "pred = predictions.flatten()\n",
    "res_nn = pd.DataFrame({'pred': pred, 'y': val_y})\n",
    "print_score(res_nn.y,res_nn.pred)\n",
    "res_nn.head()"
   ]
  },
  {
   "cell_type": "markdown",
   "metadata": {
    "collapsed": true,
    "heading_collapsed": true,
    "hidden": true
   },
   "source": [
    "### Ensemble: Averaging"
   ]
  },
  {
   "cell_type": "code",
   "execution_count": 713,
   "metadata": {
    "collapsed": false,
    "hidden": true
   },
   "outputs": [
    {
     "data": {
      "text/html": [
       "<div>\n",
       "<style>\n",
       "    .dataframe thead tr:only-child th {\n",
       "        text-align: right;\n",
       "    }\n",
       "\n",
       "    .dataframe thead th {\n",
       "        text-align: left;\n",
       "    }\n",
       "\n",
       "    .dataframe tbody tr th {\n",
       "        vertical-align: top;\n",
       "    }\n",
       "</style>\n",
       "<table border=\"1\" class=\"dataframe\">\n",
       "  <thead>\n",
       "    <tr style=\"text-align: right;\">\n",
       "      <th></th>\n",
       "      <th>pred</th>\n",
       "      <th>y</th>\n",
       "    </tr>\n",
       "  </thead>\n",
       "  <tbody>\n",
       "    <tr>\n",
       "      <th>0</th>\n",
       "      <td>279.120</td>\n",
       "      <td>510</td>\n",
       "    </tr>\n",
       "    <tr>\n",
       "      <th>1</th>\n",
       "      <td>278.382</td>\n",
       "      <td>302</td>\n",
       "    </tr>\n",
       "    <tr>\n",
       "      <th>2</th>\n",
       "      <td>154.309</td>\n",
       "      <td>390</td>\n",
       "    </tr>\n",
       "    <tr>\n",
       "      <th>3</th>\n",
       "      <td>197.566</td>\n",
       "      <td>43</td>\n",
       "    </tr>\n",
       "    <tr>\n",
       "      <th>4</th>\n",
       "      <td>240.477</td>\n",
       "      <td>126</td>\n",
       "    </tr>\n",
       "  </tbody>\n",
       "</table>\n",
       "</div>"
      ],
      "text/plain": [
       "     pred    y\n",
       "0 279.120  510\n",
       "1 278.382  302\n",
       "2 154.309  390\n",
       "3 197.566   43\n",
       "4 240.477  126"
      ]
     },
     "execution_count": 713,
     "metadata": {},
     "output_type": "execute_result"
    }
   ],
   "source": [
    "res_ensemble = pd.DataFrame()\n",
    "res_ensemble[\"pred\"] = (res_xg.pred + res_rf.pred + res_nn.pred)/3\n",
    "res_ensemble[\"y\"] = res_xg.y\n",
    "res_ensemble.head()"
   ]
  },
  {
   "cell_type": "code",
   "execution_count": 714,
   "metadata": {
    "collapsed": false,
    "hidden": true
   },
   "outputs": [
    {
     "name": "stdout",
     "output_type": "stream",
     "text": [
      "MAE = 155.890687076\n",
      "RMSE = 204.13060921\n"
     ]
    }
   ],
   "source": [
    "print_score(res_ensemble.y,res_ensemble.pred)"
   ]
  },
  {
   "cell_type": "markdown",
   "metadata": {
    "hidden": true
   },
   "source": [
    "### Evaluating on unseen data : Test set"
   ]
  },
  {
   "cell_type": "markdown",
   "metadata": {
    "hidden": true
   },
   "source": [
    "- Keeping in mind to run this model in production, Xgboost gave us the best results. We will use this for predicting on unseen data.\n",
    "- For Evaluating our model unseen data, we will use the threshold from training set and use it to truncate extreme values(outliers) on unseen data.\n",
    "- During deployment, this should be a business decision, whether to cap the outliers or predict as it is and flag them separately."
   ]
  },
  {
   "cell_type": "code",
   "execution_count": 715,
   "metadata": {
    "collapsed": false
   },
   "outputs": [
    {
     "name": "stdout",
     "output_type": "stream",
     "text": [
      "(5195, 53)\n"
     ]
    }
   ],
   "source": [
    "test = test[test[\"wait_sec\"] <= 1000]\n",
    "test = test[test[\"trip_duration\"] >= 60]\n",
    "test = test[test[\"trip_duration\"] <= 3600*2]\n",
    "\n",
    "test = test[test['pickup_longitude'] <= -78.34]\n",
    "test = test[test['pickup_longitude'] >= -78.62]\n",
    "test = test[test['pickup_latitude'] <= -0.03]\n",
    "test = test[test['pickup_latitude'] >= -0.37]\n",
    "test = test[test['dropoff_longitude'] <= -78.34]\n",
    "test = test[test['dropoff_longitude'] >= -78.62]\n",
    "test = test[test['dropoff_latitude'] <= -0.03]\n",
    "test = test[test['dropoff_latitude'] >= -0.37]\n",
    "print test.shape"
   ]
  },
  {
   "cell_type": "code",
   "execution_count": 716,
   "metadata": {
    "collapsed": false,
    "hidden": true
   },
   "outputs": [
    {
     "data": {
      "text/plain": [
       "Index([u'new_distance', u'pickup_latitude',\n",
       "       u'log_wait_sec_gby_dropoff_cluster', u'speed_gby_pickup_cluster',\n",
       "       u'dropoff_longitude', u'pickup_longitude', u'dropoff_latitude',\n",
       "       u'log_wait_sec_gby_pickup_cluster', u'speed_gby_dropoff_cluster',\n",
       "       u'speed_gby_pickup_week_hour', u'log_wait_sec_gby_pickup_week_hour',\n",
       "       u'log_trip_duration_gby_pickup_cluster', u'pickup_week_hour',\n",
       "       u'log_wait_sec_gby_pickup_weekofyear',\n",
       "       u'log_wait_sec_gby_pickup_minutes',\n",
       "       u'log_trip_duration_gby_pickup_week_hour',\n",
       "       u'log_trip_duration_gby_dropoff_cluster',\n",
       "       u'log_trip_duration_gby_pickup_weekofyear',\n",
       "       u'log_trip_duration_gby_pickup_minutes', u'speed_gby_pickup_weekday',\n",
       "       u'pickup_cluster', u'speed_gby_pickup_weekofyear', u'dropoff_cluster',\n",
       "       u'pickup_weekday', u'speed_gby_pickup_minutes', u'pickup_hour'],\n",
       "      dtype='object')"
      ]
     },
     "execution_count": 716,
     "metadata": {},
     "output_type": "execute_result"
    }
   ],
   "source": [
    "test[selected_features].columns"
   ]
  },
  {
   "cell_type": "code",
   "execution_count": 730,
   "metadata": {
    "collapsed": false
   },
   "outputs": [
    {
     "name": "stdout",
     "output_type": "stream",
     "text": [
      "MAE = 150.110748051\n",
      "RMSE = 198.44322\n"
     ]
    },
    {
     "data": {
      "text/html": [
       "<div>\n",
       "<style>\n",
       "    .dataframe thead tr:only-child th {\n",
       "        text-align: right;\n",
       "    }\n",
       "\n",
       "    .dataframe thead th {\n",
       "        text-align: left;\n",
       "    }\n",
       "\n",
       "    .dataframe tbody tr th {\n",
       "        vertical-align: top;\n",
       "    }\n",
       "</style>\n",
       "<table border=\"1\" class=\"dataframe\">\n",
       "  <thead>\n",
       "    <tr style=\"text-align: right;\">\n",
       "      <th></th>\n",
       "      <th>new_distance</th>\n",
       "      <th>pickup_latitude</th>\n",
       "      <th>log_wait_sec_gby_dropoff_cluster</th>\n",
       "      <th>speed_gby_pickup_cluster</th>\n",
       "      <th>dropoff_longitude</th>\n",
       "      <th>pickup_longitude</th>\n",
       "      <th>dropoff_latitude</th>\n",
       "      <th>log_wait_sec_gby_pickup_cluster</th>\n",
       "      <th>speed_gby_dropoff_cluster</th>\n",
       "      <th>speed_gby_pickup_week_hour</th>\n",
       "      <th>...</th>\n",
       "      <th>log_trip_duration_gby_pickup_weekofyear</th>\n",
       "      <th>log_trip_duration_gby_pickup_minutes</th>\n",
       "      <th>speed_gby_pickup_weekday</th>\n",
       "      <th>pickup_cluster</th>\n",
       "      <th>speed_gby_pickup_weekofyear</th>\n",
       "      <th>dropoff_cluster</th>\n",
       "      <th>pickup_weekday</th>\n",
       "      <th>speed_gby_pickup_minutes</th>\n",
       "      <th>pickup_hour</th>\n",
       "      <th>pred_wait_sec</th>\n",
       "    </tr>\n",
       "  </thead>\n",
       "  <tbody>\n",
       "    <tr>\n",
       "      <th>3</th>\n",
       "      <td>16.556</td>\n",
       "      <td>-0.278</td>\n",
       "      <td>4.585</td>\n",
       "      <td>5.643</td>\n",
       "      <td>-78.430</td>\n",
       "      <td>-78.558</td>\n",
       "      <td>-0.202</td>\n",
       "      <td>5.120</td>\n",
       "      <td>7.454</td>\n",
       "      <td>6.188</td>\n",
       "      <td>...</td>\n",
       "      <td>6.651</td>\n",
       "      <td>6.590</td>\n",
       "      <td>6.790</td>\n",
       "      <td>1</td>\n",
       "      <td>5.628</td>\n",
       "      <td>10</td>\n",
       "      <td>6</td>\n",
       "      <td>5.449</td>\n",
       "      <td>5</td>\n",
       "      <td>278.500</td>\n",
       "    </tr>\n",
       "    <tr>\n",
       "      <th>4</th>\n",
       "      <td>2.470</td>\n",
       "      <td>-0.208</td>\n",
       "      <td>5.159</td>\n",
       "      <td>5.243</td>\n",
       "      <td>-78.505</td>\n",
       "      <td>-78.522</td>\n",
       "      <td>-0.222</td>\n",
       "      <td>5.136</td>\n",
       "      <td>5.819</td>\n",
       "      <td>6.800</td>\n",
       "      <td>...</td>\n",
       "      <td>6.651</td>\n",
       "      <td>6.645</td>\n",
       "      <td>6.790</td>\n",
       "      <td>18</td>\n",
       "      <td>5.628</td>\n",
       "      <td>18</td>\n",
       "      <td>6</td>\n",
       "      <td>5.448</td>\n",
       "      <td>7</td>\n",
       "      <td>140.133</td>\n",
       "    </tr>\n",
       "    <tr>\n",
       "      <th>12</th>\n",
       "      <td>2.526</td>\n",
       "      <td>-0.159</td>\n",
       "      <td>5.475</td>\n",
       "      <td>4.922</td>\n",
       "      <td>-78.487</td>\n",
       "      <td>-78.465</td>\n",
       "      <td>-0.167</td>\n",
       "      <td>5.453</td>\n",
       "      <td>4.787</td>\n",
       "      <td>6.657</td>\n",
       "      <td>...</td>\n",
       "      <td>6.651</td>\n",
       "      <td>6.632</td>\n",
       "      <td>6.790</td>\n",
       "      <td>16</td>\n",
       "      <td>5.628</td>\n",
       "      <td>2</td>\n",
       "      <td>6</td>\n",
       "      <td>5.398</td>\n",
       "      <td>1</td>\n",
       "      <td>225.620</td>\n",
       "    </tr>\n",
       "    <tr>\n",
       "      <th>16</th>\n",
       "      <td>2.007</td>\n",
       "      <td>-0.153</td>\n",
       "      <td>5.270</td>\n",
       "      <td>5.666</td>\n",
       "      <td>-78.498</td>\n",
       "      <td>-78.482</td>\n",
       "      <td>-0.161</td>\n",
       "      <td>5.401</td>\n",
       "      <td>5.717</td>\n",
       "      <td>7.482</td>\n",
       "      <td>...</td>\n",
       "      <td>6.651</td>\n",
       "      <td>6.621</td>\n",
       "      <td>6.790</td>\n",
       "      <td>11</td>\n",
       "      <td>5.628</td>\n",
       "      <td>11</td>\n",
       "      <td>6</td>\n",
       "      <td>6.181</td>\n",
       "      <td>4</td>\n",
       "      <td>210.741</td>\n",
       "    </tr>\n",
       "    <tr>\n",
       "      <th>18</th>\n",
       "      <td>1.108</td>\n",
       "      <td>-0.263</td>\n",
       "      <td>5.118</td>\n",
       "      <td>5.189</td>\n",
       "      <td>-78.541</td>\n",
       "      <td>-78.549</td>\n",
       "      <td>-0.270</td>\n",
       "      <td>5.016</td>\n",
       "      <td>5.126</td>\n",
       "      <td>6.491</td>\n",
       "      <td>...</td>\n",
       "      <td>6.651</td>\n",
       "      <td>6.648</td>\n",
       "      <td>6.790</td>\n",
       "      <td>19</td>\n",
       "      <td>5.628</td>\n",
       "      <td>19</td>\n",
       "      <td>6</td>\n",
       "      <td>6.382</td>\n",
       "      <td>6</td>\n",
       "      <td>84.994</td>\n",
       "    </tr>\n",
       "  </tbody>\n",
       "</table>\n",
       "<p>5 rows × 27 columns</p>\n",
       "</div>"
      ],
      "text/plain": [
       "    new_distance  pickup_latitude  log_wait_sec_gby_dropoff_cluster  \\\n",
       "3         16.556           -0.278                             4.585   \n",
       "4          2.470           -0.208                             5.159   \n",
       "12         2.526           -0.159                             5.475   \n",
       "16         2.007           -0.153                             5.270   \n",
       "18         1.108           -0.263                             5.118   \n",
       "\n",
       "    speed_gby_pickup_cluster  dropoff_longitude  pickup_longitude  \\\n",
       "3                      5.643            -78.430           -78.558   \n",
       "4                      5.243            -78.505           -78.522   \n",
       "12                     4.922            -78.487           -78.465   \n",
       "16                     5.666            -78.498           -78.482   \n",
       "18                     5.189            -78.541           -78.549   \n",
       "\n",
       "    dropoff_latitude  log_wait_sec_gby_pickup_cluster  \\\n",
       "3             -0.202                            5.120   \n",
       "4             -0.222                            5.136   \n",
       "12            -0.167                            5.453   \n",
       "16            -0.161                            5.401   \n",
       "18            -0.270                            5.016   \n",
       "\n",
       "    speed_gby_dropoff_cluster  speed_gby_pickup_week_hour      ...        \\\n",
       "3                       7.454                       6.188      ...         \n",
       "4                       5.819                       6.800      ...         \n",
       "12                      4.787                       6.657      ...         \n",
       "16                      5.717                       7.482      ...         \n",
       "18                      5.126                       6.491      ...         \n",
       "\n",
       "    log_trip_duration_gby_pickup_weekofyear  \\\n",
       "3                                     6.651   \n",
       "4                                     6.651   \n",
       "12                                    6.651   \n",
       "16                                    6.651   \n",
       "18                                    6.651   \n",
       "\n",
       "    log_trip_duration_gby_pickup_minutes  speed_gby_pickup_weekday  \\\n",
       "3                                  6.590                     6.790   \n",
       "4                                  6.645                     6.790   \n",
       "12                                 6.632                     6.790   \n",
       "16                                 6.621                     6.790   \n",
       "18                                 6.648                     6.790   \n",
       "\n",
       "    pickup_cluster  speed_gby_pickup_weekofyear  dropoff_cluster  \\\n",
       "3                1                        5.628               10   \n",
       "4               18                        5.628               18   \n",
       "12              16                        5.628                2   \n",
       "16              11                        5.628               11   \n",
       "18              19                        5.628               19   \n",
       "\n",
       "    pickup_weekday  speed_gby_pickup_minutes  pickup_hour  pred_wait_sec  \n",
       "3                6                     5.449            5        278.500  \n",
       "4                6                     5.448            7        140.133  \n",
       "12               6                     5.398            1        225.620  \n",
       "16               6                     6.181            4        210.741  \n",
       "18               6                     6.382            6         84.994  \n",
       "\n",
       "[5 rows x 27 columns]"
      ]
     },
     "execution_count": 730,
     "metadata": {},
     "output_type": "execute_result"
    }
   ],
   "source": [
    "#load saved model\n",
    "gbm_model = joblib.load(filename)\n",
    "\n",
    "dtest = xgb.DMatrix(test[selected_features].values)\n",
    "\n",
    "pred = gbm_model.predict(dtest)\n",
    "test_y = test['wait_sec'].values\n",
    "res_test = pd.DataFrame({'pred': pred, 'y': test_y})\n",
    "print_score(res_test.y,res_test.pred)\n",
    "\n",
    "# Adding predictions in test dataframe\n",
    "test_df = test[selected_features]\n",
    "test_df[\"pred_wait_sec\"] = pred\n",
    "test_df.head()"
   ]
  },
  {
   "cell_type": "markdown",
   "metadata": {},
   "source": [
    "### Conclusion:-"
   ]
  },
  {
   "cell_type": "markdown",
   "metadata": {},
   "source": [
    "- Clearly, model's performance is consistent on test and val set and is not overfitting on neither train,val nor test set.\n",
    "- MAE = 150.110748051\n",
    "- RMSE = 198.44322"
   ]
  },
  {
   "cell_type": "code",
   "execution_count": 741,
   "metadata": {
    "collapsed": false
   },
   "outputs": [
    {
     "name": "stdout",
     "output_type": "stream",
     "text": [
      "Valid prediction mean: 277.913\n",
      "Test prediction mean: 278.616\n"
     ]
    },
    {
     "data": {
      "image/png": "[encoded data removed]",
      "text/plain": [
       "<matplotlib.figure.Figure at 0x7f46a3799310>"
      ]
     },
     "metadata": {},
     "output_type": "display_data"
    }
   ],
   "source": [
    "print('Valid prediction mean: %.3f' % res_xg.pred.mean())\n",
    "print('Test prediction mean: %.3f' % res_test.pred.mean())\n",
    "\n",
    "fig, ax = plt.subplots(nrows=2, sharex=True, sharey=True)\n",
    "sns.distplot(res_xg.pred, ax=ax[0], color='blue', label='validation prediction')\n",
    "sns.distplot(res_test.pred, ax=ax[1], color='green', label='test prediction')\n",
    "ax[0].legend(loc=0)\n",
    "ax[1].legend(loc=0)\n",
    "plt.show()"
   ]
  },
  {
   "cell_type": "markdown",
   "metadata": {
    "collapsed": true
   },
   "source": [
    "### Avearge waiting time from cluster to cluster on test data"
   ]
  },
  {
   "cell_type": "markdown",
   "metadata": {},
   "source": [
    "- We have already predicted cluster on test data by running clustering on training data.\n",
    "- We have also predicted waiting time using our predictive model.\n",
    "- Now, let's leverage this information and find waiting time from cluster to cluster"
   ]
  },
  {
   "cell_type": "code",
   "execution_count": 718,
   "metadata": {
    "collapsed": false
   },
   "outputs": [
    {
     "data": {
      "text/html": [
       "<div>\n",
       "<style>\n",
       "    .dataframe thead tr:only-child th {\n",
       "        text-align: right;\n",
       "    }\n",
       "\n",
       "    .dataframe thead th {\n",
       "        text-align: left;\n",
       "    }\n",
       "\n",
       "    .dataframe tbody tr th {\n",
       "        vertical-align: top;\n",
       "    }\n",
       "</style>\n",
       "<table border=\"1\" class=\"dataframe\">\n",
       "  <thead>\n",
       "    <tr>\n",
       "      <th></th>\n",
       "      <th colspan=\"20\" halign=\"left\">mean</th>\n",
       "    </tr>\n",
       "    <tr>\n",
       "      <th></th>\n",
       "      <th colspan=\"20\" halign=\"left\">pred_wait_sec</th>\n",
       "    </tr>\n",
       "    <tr>\n",
       "      <th>dropoff_cluster</th>\n",
       "      <th>0</th>\n",
       "      <th>1</th>\n",
       "      <th>2</th>\n",
       "      <th>3</th>\n",
       "      <th>4</th>\n",
       "      <th>5</th>\n",
       "      <th>6</th>\n",
       "      <th>7</th>\n",
       "      <th>8</th>\n",
       "      <th>9</th>\n",
       "      <th>10</th>\n",
       "      <th>11</th>\n",
       "      <th>12</th>\n",
       "      <th>13</th>\n",
       "      <th>14</th>\n",
       "      <th>15</th>\n",
       "      <th>16</th>\n",
       "      <th>17</th>\n",
       "      <th>18</th>\n",
       "      <th>19</th>\n",
       "    </tr>\n",
       "    <tr>\n",
       "      <th>pickup_cluster</th>\n",
       "      <th></th>\n",
       "      <th></th>\n",
       "      <th></th>\n",
       "      <th></th>\n",
       "      <th></th>\n",
       "      <th></th>\n",
       "      <th></th>\n",
       "      <th></th>\n",
       "      <th></th>\n",
       "      <th></th>\n",
       "      <th></th>\n",
       "      <th></th>\n",
       "      <th></th>\n",
       "      <th></th>\n",
       "      <th></th>\n",
       "      <th></th>\n",
       "      <th></th>\n",
       "      <th></th>\n",
       "      <th></th>\n",
       "      <th></th>\n",
       "    </tr>\n",
       "  </thead>\n",
       "  <tbody>\n",
       "    <tr>\n",
       "      <th>0</th>\n",
       "      <td>176.842</td>\n",
       "      <td>nan</td>\n",
       "      <td>nan</td>\n",
       "      <td>297.645</td>\n",
       "      <td>nan</td>\n",
       "      <td>nan</td>\n",
       "      <td>356.868</td>\n",
       "      <td>189.108</td>\n",
       "      <td>266.991</td>\n",
       "      <td>402.850</td>\n",
       "      <td>252.181</td>\n",
       "      <td>399.974</td>\n",
       "      <td>nan</td>\n",
       "      <td>nan</td>\n",
       "      <td>514.358</td>\n",
       "      <td>nan</td>\n",
       "      <td>289.710</td>\n",
       "      <td>194.501</td>\n",
       "      <td>470.359</td>\n",
       "      <td>nan</td>\n",
       "    </tr>\n",
       "    <tr>\n",
       "      <th>1</th>\n",
       "      <td>289.187</td>\n",
       "      <td>225.428</td>\n",
       "      <td>nan</td>\n",
       "      <td>332.199</td>\n",
       "      <td>498.532</td>\n",
       "      <td>nan</td>\n",
       "      <td>256.408</td>\n",
       "      <td>nan</td>\n",
       "      <td>nan</td>\n",
       "      <td>396.881</td>\n",
       "      <td>278.500</td>\n",
       "      <td>388.916</td>\n",
       "      <td>238.804</td>\n",
       "      <td>212.879</td>\n",
       "      <td>nan</td>\n",
       "      <td>324.877</td>\n",
       "      <td>nan</td>\n",
       "      <td>nan</td>\n",
       "      <td>339.765</td>\n",
       "      <td>237.832</td>\n",
       "    </tr>\n",
       "    <tr>\n",
       "      <th>2</th>\n",
       "      <td>399.172</td>\n",
       "      <td>479.544</td>\n",
       "      <td>229.818</td>\n",
       "      <td>391.291</td>\n",
       "      <td>386.931</td>\n",
       "      <td>nan</td>\n",
       "      <td>359.323</td>\n",
       "      <td>445.522</td>\n",
       "      <td>356.042</td>\n",
       "      <td>274.943</td>\n",
       "      <td>346.023</td>\n",
       "      <td>301.599</td>\n",
       "      <td>494.660</td>\n",
       "      <td>440.844</td>\n",
       "      <td>282.272</td>\n",
       "      <td>512.190</td>\n",
       "      <td>268.942</td>\n",
       "      <td>468.257</td>\n",
       "      <td>384.676</td>\n",
       "      <td>447.732</td>\n",
       "    </tr>\n",
       "    <tr>\n",
       "      <th>3</th>\n",
       "      <td>361.380</td>\n",
       "      <td>293.013</td>\n",
       "      <td>403.802</td>\n",
       "      <td>161.664</td>\n",
       "      <td>449.284</td>\n",
       "      <td>nan</td>\n",
       "      <td>403.068</td>\n",
       "      <td>249.759</td>\n",
       "      <td>245.248</td>\n",
       "      <td>354.474</td>\n",
       "      <td>231.362</td>\n",
       "      <td>236.882</td>\n",
       "      <td>394.849</td>\n",
       "      <td>362.740</td>\n",
       "      <td>468.957</td>\n",
       "      <td>443.353</td>\n",
       "      <td>485.807</td>\n",
       "      <td>294.842</td>\n",
       "      <td>344.712</td>\n",
       "      <td>314.040</td>\n",
       "    </tr>\n",
       "    <tr>\n",
       "      <th>4</th>\n",
       "      <td>353.795</td>\n",
       "      <td>437.101</td>\n",
       "      <td>375.293</td>\n",
       "      <td>427.130</td>\n",
       "      <td>209.002</td>\n",
       "      <td>386.487</td>\n",
       "      <td>324.981</td>\n",
       "      <td>542.071</td>\n",
       "      <td>462.011</td>\n",
       "      <td>237.167</td>\n",
       "      <td>364.102</td>\n",
       "      <td>394.084</td>\n",
       "      <td>478.477</td>\n",
       "      <td>435.137</td>\n",
       "      <td>260.523</td>\n",
       "      <td>392.002</td>\n",
       "      <td>425.756</td>\n",
       "      <td>334.909</td>\n",
       "      <td>256.030</td>\n",
       "      <td>509.855</td>\n",
       "    </tr>\n",
       "    <tr>\n",
       "      <th>5</th>\n",
       "      <td>331.202</td>\n",
       "      <td>288.488</td>\n",
       "      <td>221.156</td>\n",
       "      <td>nan</td>\n",
       "      <td>431.739</td>\n",
       "      <td>208.841</td>\n",
       "      <td>198.278</td>\n",
       "      <td>nan</td>\n",
       "      <td>nan</td>\n",
       "      <td>nan</td>\n",
       "      <td>182.015</td>\n",
       "      <td>nan</td>\n",
       "      <td>nan</td>\n",
       "      <td>264.610</td>\n",
       "      <td>nan</td>\n",
       "      <td>328.410</td>\n",
       "      <td>nan</td>\n",
       "      <td>nan</td>\n",
       "      <td>388.763</td>\n",
       "      <td>379.578</td>\n",
       "    </tr>\n",
       "    <tr>\n",
       "      <th>6</th>\n",
       "      <td>360.036</td>\n",
       "      <td>310.951</td>\n",
       "      <td>349.168</td>\n",
       "      <td>260.590</td>\n",
       "      <td>305.099</td>\n",
       "      <td>261.145</td>\n",
       "      <td>198.034</td>\n",
       "      <td>nan</td>\n",
       "      <td>nan</td>\n",
       "      <td>310.250</td>\n",
       "      <td>255.963</td>\n",
       "      <td>352.981</td>\n",
       "      <td>314.139</td>\n",
       "      <td>300.668</td>\n",
       "      <td>323.024</td>\n",
       "      <td>280.991</td>\n",
       "      <td>387.705</td>\n",
       "      <td>270.558</td>\n",
       "      <td>287.259</td>\n",
       "      <td>350.544</td>\n",
       "    </tr>\n",
       "    <tr>\n",
       "      <th>7</th>\n",
       "      <td>242.876</td>\n",
       "      <td>352.434</td>\n",
       "      <td>419.635</td>\n",
       "      <td>221.766</td>\n",
       "      <td>594.489</td>\n",
       "      <td>nan</td>\n",
       "      <td>nan</td>\n",
       "      <td>190.351</td>\n",
       "      <td>284.236</td>\n",
       "      <td>515.622</td>\n",
       "      <td>nan</td>\n",
       "      <td>319.938</td>\n",
       "      <td>nan</td>\n",
       "      <td>nan</td>\n",
       "      <td>nan</td>\n",
       "      <td>465.015</td>\n",
       "      <td>476.433</td>\n",
       "      <td>214.493</td>\n",
       "      <td>nan</td>\n",
       "      <td>nan</td>\n",
       "    </tr>\n",
       "    <tr>\n",
       "      <th>8</th>\n",
       "      <td>325.285</td>\n",
       "      <td>nan</td>\n",
       "      <td>389.886</td>\n",
       "      <td>247.039</td>\n",
       "      <td>533.697</td>\n",
       "      <td>nan</td>\n",
       "      <td>nan</td>\n",
       "      <td>328.787</td>\n",
       "      <td>207.846</td>\n",
       "      <td>458.913</td>\n",
       "      <td>447.031</td>\n",
       "      <td>287.518</td>\n",
       "      <td>490.352</td>\n",
       "      <td>442.033</td>\n",
       "      <td>492.994</td>\n",
       "      <td>520.558</td>\n",
       "      <td>268.179</td>\n",
       "      <td>234.962</td>\n",
       "      <td>489.599</td>\n",
       "      <td>525.307</td>\n",
       "    </tr>\n",
       "    <tr>\n",
       "      <th>9</th>\n",
       "      <td>278.920</td>\n",
       "      <td>476.402</td>\n",
       "      <td>326.581</td>\n",
       "      <td>294.161</td>\n",
       "      <td>264.418</td>\n",
       "      <td>366.423</td>\n",
       "      <td>265.284</td>\n",
       "      <td>397.550</td>\n",
       "      <td>470.028</td>\n",
       "      <td>191.635</td>\n",
       "      <td>341.812</td>\n",
       "      <td>243.347</td>\n",
       "      <td>408.177</td>\n",
       "      <td>nan</td>\n",
       "      <td>289.733</td>\n",
       "      <td>364.615</td>\n",
       "      <td>462.817</td>\n",
       "      <td>414.187</td>\n",
       "      <td>233.536</td>\n",
       "      <td>392.214</td>\n",
       "    </tr>\n",
       "    <tr>\n",
       "      <th>10</th>\n",
       "      <td>226.226</td>\n",
       "      <td>423.863</td>\n",
       "      <td>nan</td>\n",
       "      <td>nan</td>\n",
       "      <td>nan</td>\n",
       "      <td>nan</td>\n",
       "      <td>264.720</td>\n",
       "      <td>236.635</td>\n",
       "      <td>nan</td>\n",
       "      <td>nan</td>\n",
       "      <td>156.564</td>\n",
       "      <td>nan</td>\n",
       "      <td>nan</td>\n",
       "      <td>nan</td>\n",
       "      <td>396.061</td>\n",
       "      <td>nan</td>\n",
       "      <td>220.333</td>\n",
       "      <td>257.901</td>\n",
       "      <td>509.728</td>\n",
       "      <td>nan</td>\n",
       "    </tr>\n",
       "    <tr>\n",
       "      <th>11</th>\n",
       "      <td>374.072</td>\n",
       "      <td>344.401</td>\n",
       "      <td>316.274</td>\n",
       "      <td>250.108</td>\n",
       "      <td>403.390</td>\n",
       "      <td>nan</td>\n",
       "      <td>288.987</td>\n",
       "      <td>382.667</td>\n",
       "      <td>304.461</td>\n",
       "      <td>299.211</td>\n",
       "      <td>nan</td>\n",
       "      <td>230.938</td>\n",
       "      <td>691.188</td>\n",
       "      <td>nan</td>\n",
       "      <td>401.444</td>\n",
       "      <td>380.558</td>\n",
       "      <td>368.140</td>\n",
       "      <td>354.045</td>\n",
       "      <td>304.352</td>\n",
       "      <td>nan</td>\n",
       "    </tr>\n",
       "    <tr>\n",
       "      <th>12</th>\n",
       "      <td>nan</td>\n",
       "      <td>215.292</td>\n",
       "      <td>385.288</td>\n",
       "      <td>285.170</td>\n",
       "      <td>nan</td>\n",
       "      <td>nan</td>\n",
       "      <td>286.560</td>\n",
       "      <td>nan</td>\n",
       "      <td>288.198</td>\n",
       "      <td>359.375</td>\n",
       "      <td>nan</td>\n",
       "      <td>335.854</td>\n",
       "      <td>164.763</td>\n",
       "      <td>177.108</td>\n",
       "      <td>nan</td>\n",
       "      <td>344.621</td>\n",
       "      <td>nan</td>\n",
       "      <td>nan</td>\n",
       "      <td>nan</td>\n",
       "      <td>339.713</td>\n",
       "    </tr>\n",
       "    <tr>\n",
       "      <th>13</th>\n",
       "      <td>nan</td>\n",
       "      <td>283.911</td>\n",
       "      <td>337.276</td>\n",
       "      <td>393.444</td>\n",
       "      <td>448.447</td>\n",
       "      <td>426.496</td>\n",
       "      <td>233.750</td>\n",
       "      <td>nan</td>\n",
       "      <td>nan</td>\n",
       "      <td>nan</td>\n",
       "      <td>279.693</td>\n",
       "      <td>296.762</td>\n",
       "      <td>363.072</td>\n",
       "      <td>237.451</td>\n",
       "      <td>415.729</td>\n",
       "      <td>248.479</td>\n",
       "      <td>nan</td>\n",
       "      <td>nan</td>\n",
       "      <td>333.054</td>\n",
       "      <td>231.752</td>\n",
       "    </tr>\n",
       "    <tr>\n",
       "      <th>14</th>\n",
       "      <td>310.461</td>\n",
       "      <td>436.925</td>\n",
       "      <td>327.750</td>\n",
       "      <td>419.086</td>\n",
       "      <td>282.209</td>\n",
       "      <td>331.784</td>\n",
       "      <td>320.262</td>\n",
       "      <td>438.836</td>\n",
       "      <td>381.099</td>\n",
       "      <td>301.923</td>\n",
       "      <td>327.995</td>\n",
       "      <td>409.761</td>\n",
       "      <td>nan</td>\n",
       "      <td>394.543</td>\n",
       "      <td>248.463</td>\n",
       "      <td>446.550</td>\n",
       "      <td>353.124</td>\n",
       "      <td>389.659</td>\n",
       "      <td>370.098</td>\n",
       "      <td>406.249</td>\n",
       "    </tr>\n",
       "    <tr>\n",
       "      <th>15</th>\n",
       "      <td>nan</td>\n",
       "      <td>363.644</td>\n",
       "      <td>485.005</td>\n",
       "      <td>460.955</td>\n",
       "      <td>371.070</td>\n",
       "      <td>nan</td>\n",
       "      <td>244.646</td>\n",
       "      <td>315.407</td>\n",
       "      <td>nan</td>\n",
       "      <td>313.668</td>\n",
       "      <td>285.674</td>\n",
       "      <td>426.324</td>\n",
       "      <td>394.494</td>\n",
       "      <td>251.464</td>\n",
       "      <td>444.559</td>\n",
       "      <td>170.258</td>\n",
       "      <td>444.471</td>\n",
       "      <td>415.006</td>\n",
       "      <td>229.607</td>\n",
       "      <td>250.793</td>\n",
       "    </tr>\n",
       "    <tr>\n",
       "      <th>16</th>\n",
       "      <td>387.640</td>\n",
       "      <td>444.699</td>\n",
       "      <td>332.782</td>\n",
       "      <td>452.033</td>\n",
       "      <td>477.702</td>\n",
       "      <td>416.004</td>\n",
       "      <td>169.384</td>\n",
       "      <td>477.633</td>\n",
       "      <td>289.178</td>\n",
       "      <td>366.094</td>\n",
       "      <td>274.961</td>\n",
       "      <td>383.557</td>\n",
       "      <td>nan</td>\n",
       "      <td>nan</td>\n",
       "      <td>415.627</td>\n",
       "      <td>446.553</td>\n",
       "      <td>233.373</td>\n",
       "      <td>385.757</td>\n",
       "      <td>480.575</td>\n",
       "      <td>562.388</td>\n",
       "    </tr>\n",
       "    <tr>\n",
       "      <th>17</th>\n",
       "      <td>206.618</td>\n",
       "      <td>nan</td>\n",
       "      <td>416.499</td>\n",
       "      <td>205.243</td>\n",
       "      <td>518.059</td>\n",
       "      <td>nan</td>\n",
       "      <td>312.511</td>\n",
       "      <td>167.954</td>\n",
       "      <td>228.875</td>\n",
       "      <td>466.653</td>\n",
       "      <td>179.120</td>\n",
       "      <td>346.036</td>\n",
       "      <td>nan</td>\n",
       "      <td>nan</td>\n",
       "      <td>482.346</td>\n",
       "      <td>354.569</td>\n",
       "      <td>295.000</td>\n",
       "      <td>194.764</td>\n",
       "      <td>449.686</td>\n",
       "      <td>581.925</td>\n",
       "    </tr>\n",
       "    <tr>\n",
       "      <th>18</th>\n",
       "      <td>nan</td>\n",
       "      <td>403.069</td>\n",
       "      <td>358.320</td>\n",
       "      <td>293.746</td>\n",
       "      <td>231.331</td>\n",
       "      <td>378.538</td>\n",
       "      <td>273.757</td>\n",
       "      <td>348.153</td>\n",
       "      <td>413.668</td>\n",
       "      <td>247.283</td>\n",
       "      <td>nan</td>\n",
       "      <td>312.997</td>\n",
       "      <td>519.730</td>\n",
       "      <td>357.530</td>\n",
       "      <td>374.903</td>\n",
       "      <td>298.591</td>\n",
       "      <td>427.441</td>\n",
       "      <td>439.615</td>\n",
       "      <td>189.372</td>\n",
       "      <td>406.743</td>\n",
       "    </tr>\n",
       "    <tr>\n",
       "      <th>19</th>\n",
       "      <td>232.170</td>\n",
       "      <td>231.070</td>\n",
       "      <td>443.463</td>\n",
       "      <td>382.292</td>\n",
       "      <td>508.114</td>\n",
       "      <td>394.497</td>\n",
       "      <td>327.149</td>\n",
       "      <td>nan</td>\n",
       "      <td>363.110</td>\n",
       "      <td>268.780</td>\n",
       "      <td>nan</td>\n",
       "      <td>544.301</td>\n",
       "      <td>322.838</td>\n",
       "      <td>202.317</td>\n",
       "      <td>297.416</td>\n",
       "      <td>208.517</td>\n",
       "      <td>nan</td>\n",
       "      <td>nan</td>\n",
       "      <td>351.741</td>\n",
       "      <td>175.628</td>\n",
       "    </tr>\n",
       "  </tbody>\n",
       "</table>\n",
       "</div>"
      ],
      "text/plain": [
       "                         mean                                                  \\\n",
       "                pred_wait_sec                                                   \n",
       "dropoff_cluster            0       1       2       3       4       5       6    \n",
       "pickup_cluster                                                                  \n",
       "0                     176.842     nan     nan 297.645     nan     nan 356.868   \n",
       "1                     289.187 225.428     nan 332.199 498.532     nan 256.408   \n",
       "2                     399.172 479.544 229.818 391.291 386.931     nan 359.323   \n",
       "3                     361.380 293.013 403.802 161.664 449.284     nan 403.068   \n",
       "4                     353.795 437.101 375.293 427.130 209.002 386.487 324.981   \n",
       "5                     331.202 288.488 221.156     nan 431.739 208.841 198.278   \n",
       "6                     360.036 310.951 349.168 260.590 305.099 261.145 198.034   \n",
       "7                     242.876 352.434 419.635 221.766 594.489     nan     nan   \n",
       "8                     325.285     nan 389.886 247.039 533.697     nan     nan   \n",
       "9                     278.920 476.402 326.581 294.161 264.418 366.423 265.284   \n",
       "10                    226.226 423.863     nan     nan     nan     nan 264.720   \n",
       "11                    374.072 344.401 316.274 250.108 403.390     nan 288.987   \n",
       "12                        nan 215.292 385.288 285.170     nan     nan 286.560   \n",
       "13                        nan 283.911 337.276 393.444 448.447 426.496 233.750   \n",
       "14                    310.461 436.925 327.750 419.086 282.209 331.784 320.262   \n",
       "15                        nan 363.644 485.005 460.955 371.070     nan 244.646   \n",
       "16                    387.640 444.699 332.782 452.033 477.702 416.004 169.384   \n",
       "17                    206.618     nan 416.499 205.243 518.059     nan 312.511   \n",
       "18                        nan 403.069 358.320 293.746 231.331 378.538 273.757   \n",
       "19                    232.170 231.070 443.463 382.292 508.114 394.497 327.149   \n",
       "\n",
       "                                                                         \\\n",
       "                                                                          \n",
       "dropoff_cluster      7       8       9       10      11      12      13   \n",
       "pickup_cluster                                                            \n",
       "0               189.108 266.991 402.850 252.181 399.974     nan     nan   \n",
       "1                   nan     nan 396.881 278.500 388.916 238.804 212.879   \n",
       "2               445.522 356.042 274.943 346.023 301.599 494.660 440.844   \n",
       "3               249.759 245.248 354.474 231.362 236.882 394.849 362.740   \n",
       "4               542.071 462.011 237.167 364.102 394.084 478.477 435.137   \n",
       "5                   nan     nan     nan 182.015     nan     nan 264.610   \n",
       "6                   nan     nan 310.250 255.963 352.981 314.139 300.668   \n",
       "7               190.351 284.236 515.622     nan 319.938     nan     nan   \n",
       "8               328.787 207.846 458.913 447.031 287.518 490.352 442.033   \n",
       "9               397.550 470.028 191.635 341.812 243.347 408.177     nan   \n",
       "10              236.635     nan     nan 156.564     nan     nan     nan   \n",
       "11              382.667 304.461 299.211     nan 230.938 691.188     nan   \n",
       "12                  nan 288.198 359.375     nan 335.854 164.763 177.108   \n",
       "13                  nan     nan     nan 279.693 296.762 363.072 237.451   \n",
       "14              438.836 381.099 301.923 327.995 409.761     nan 394.543   \n",
       "15              315.407     nan 313.668 285.674 426.324 394.494 251.464   \n",
       "16              477.633 289.178 366.094 274.961 383.557     nan     nan   \n",
       "17              167.954 228.875 466.653 179.120 346.036     nan     nan   \n",
       "18              348.153 413.668 247.283     nan 312.997 519.730 357.530   \n",
       "19                  nan 363.110 268.780     nan 544.301 322.838 202.317   \n",
       "\n",
       "                                                                 \n",
       "                                                                 \n",
       "dropoff_cluster      14      15      16      17      18      19  \n",
       "pickup_cluster                                                   \n",
       "0               514.358     nan 289.710 194.501 470.359     nan  \n",
       "1                   nan 324.877     nan     nan 339.765 237.832  \n",
       "2               282.272 512.190 268.942 468.257 384.676 447.732  \n",
       "3               468.957 443.353 485.807 294.842 344.712 314.040  \n",
       "4               260.523 392.002 425.756 334.909 256.030 509.855  \n",
       "5                   nan 328.410     nan     nan 388.763 379.578  \n",
       "6               323.024 280.991 387.705 270.558 287.259 350.544  \n",
       "7                   nan 465.015 476.433 214.493     nan     nan  \n",
       "8               492.994 520.558 268.179 234.962 489.599 525.307  \n",
       "9               289.733 364.615 462.817 414.187 233.536 392.214  \n",
       "10              396.061     nan 220.333 257.901 509.728     nan  \n",
       "11              401.444 380.558 368.140 354.045 304.352     nan  \n",
       "12                  nan 344.621     nan     nan     nan 339.713  \n",
       "13              415.729 248.479     nan     nan 333.054 231.752  \n",
       "14              248.463 446.550 353.124 389.659 370.098 406.249  \n",
       "15              444.559 170.258 444.471 415.006 229.607 250.793  \n",
       "16              415.627 446.553 233.373 385.757 480.575 562.388  \n",
       "17              482.346 354.569 295.000 194.764 449.686 581.925  \n",
       "18              374.903 298.591 427.441 439.615 189.372 406.743  \n",
       "19              297.416 208.517     nan     nan 351.741 175.628  "
      ]
     },
     "execution_count": 718,
     "metadata": {},
     "output_type": "execute_result"
    }
   ],
   "source": [
    "pd.pivot_table(test_df,values=['pred_wait_sec'], index=['pickup_cluster'],columns=['dropoff_cluster'],aggfunc=[np.mean],fill_value=np.nan)"
   ]
  },
  {
   "cell_type": "markdown",
   "metadata": {},
   "source": [
    "### Deploying Model in Production -  AWS"
   ]
  },
  {
   "cell_type": "markdown",
   "metadata": {
    "collapsed": true
   },
   "source": [
    "1: A simple way to deploy model using AWS tools\n",
    "- Once, the model is trained, we can use below steps to deploy our model:-\n",
    "- **Save the model** in pickel or h5 format and upload the model artifacts on amazon S3.\n",
    "- We need to serve our model using a web api. Using **Flask/Djano**, we can wrap our Machine Learning model and serve it as **Web APIs** easily.\n",
    "- Next, we need to run any **AWS instance for running our web api** or we can create serverless Machine Learning microservice using **AWS Lambda**.\n",
    "- We will **cache our model**, so that we don't have to fetch the model from S3 everytime we make predictions, leading to significantly faster prediction\n",
    "- Next, we can call the API endpoints by sending the required data and **start making predictions** .We can also **save them simultaneously in database (SQL/NoSQL)**\n",
    "\n",
    "2: We can also leveraging AWS SageMaker for the above mentioned tasks.\n",
    " \n",
    "3: Considering the problem at hand, we can also run the model in an online learning fashion to adapt to changing traffic and city conditions.\n",
    "- The idea is to update the weights of the model for each new pair of observation, in our case, probably when the ride is completed. Once, parameters or weights are updated, we can discard the observation."
   ]
  },
  {
   "cell_type": "markdown",
   "metadata": {},
   "source": [
    "#### Demo deployment using Flask"
   ]
  },
  {
   "cell_type": "markdown",
   "metadata": {},
   "source": [
    "- I have deployed a web service using flask which is making predictions for the test data based on our final model.\n",
    "- There is a folder named flask_apps. \n",
    "- Inside this, there is a data folder which contains the test data.\n",
    "- model folder contains the final xgboost model, server.py contains the code for running the app, loading the model and generating predictions.\n",
    "- prediction.py contains the logic for reading test data and generating the request to call api.\n",
    "\n",
    "How to run:\n",
    "- cd flask_apps/\n",
    "- gunicorn --bind 0.0.0.0:8000 server:app\n",
    "- run prediction.py\n",
    "- Make predictions "
   ]
  }
 ],
 "metadata": {
  "kernelspec": {
   "display_name": "Python 2",
   "language": "python",
   "name": "python2"
  },
  "language_info": {
   "codemirror_mode": {
    "name": "ipython",
    "version": 2
   },
   "file_extension": ".py",
   "mimetype": "text/x-python",
   "name": "python",
   "nbconvert_exporter": "python",
   "pygments_lexer": "ipython2",
   "version": "2.7.12"
  },
  "varInspector": {
   "cols": {
    "lenName": 16,
    "lenType": 16,
    "lenVar": 40
   },
   "kernels_config": {
    "python": {
     "delete_cmd_postfix": "",
     "delete_cmd_prefix": "del ",
     "library": "var_list.py",
     "varRefreshCmd": "print(var_dic_list())"
    },
    "r": {
     "delete_cmd_postfix": ") ",
     "delete_cmd_prefix": "rm(",
     "library": "var_list.r",
     "varRefreshCmd": "cat(var_dic_list()) "
    }
   },
   "types_to_exclude": [
    "module",
    "function",
    "builtin_function_or_method",
    "instance",
    "_Feature"
   ],
   "window_display": false
  }
 },
 "nbformat": 4,
 "nbformat_minor": 2
}
